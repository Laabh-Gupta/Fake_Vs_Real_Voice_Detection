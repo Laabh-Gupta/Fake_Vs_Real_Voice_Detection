{
 "cells": [
  {
   "cell_type": "code",
   "execution_count": 1,
   "id": "425528ed-13da-4293-a342-0361ebc2bac1",
   "metadata": {},
   "outputs": [],
   "source": [
    "import os\n",
    "os.environ['KMP_DUPLICATE_LIB_OK']='True'"
   ]
  },
  {
   "cell_type": "markdown",
   "id": "ee4867a3-e760-4c7e-8e53-f7e9eb28ea78",
   "metadata": {},
   "source": [
    "# Comparing Deep Learning Models for Voice Anti-Spoofing\n",
    "## This notebook conducts a comparative analysis of different deep learning architectures for classifying a voice as either real or fake (AI-generated).\n",
    "\n",
    "### We will systematically build, train, and evaluate three distinct models:\n",
    "\n",
    "Baseline CNN: A simple, shallow Convolutional Neural Network to establish a performance baseline.\n",
    "\n",
    "Deeper CNN: An enhanced version of the baseline with additional layers to see if increased model capacity improves performance.\n",
    "\n",
    "Vision Transformer (ViT): A state-of-the-art, pre-trained model adapted for our task through transfer learning.\n",
    "\n",
    "Each model will be trained and tested independently, with its performance visualized through accuracy/loss curves and a confusion matrix. Finally, we'll compare the results to determine the most effective architecture."
   ]
  },
  {
   "cell_type": "code",
   "execution_count": 3,
   "id": "294ee77c-6185-4d50-ae79-c1204e7c7d99",
   "metadata": {},
   "outputs": [
    {
     "name": "stdout",
     "output_type": "stream",
     "text": [
      "Using cuda device 💻\n"
     ]
    }
   ],
   "source": [
    "# ==================================================================\n",
    "# Part 0: Setup, Data Loading, and Visualization\n",
    "# ==================================================================\n",
    "\n",
    "# --- Imports and Configuration ---\n",
    "import torch\n",
    "import torch.nn as nn\n",
    "from torch.utils.data import DataLoader, Dataset\n",
    "import torchaudio\n",
    "import torchaudio.transforms as T\n",
    "import torchvision.models as models\n",
    "import torchvision.transforms as TV\n",
    "from torch.amp import GradScaler, autocast # Use the modern torch.amp API\n",
    "\n",
    "from pathlib import Path\n",
    "import matplotlib.pyplot as plt\n",
    "from tqdm.auto import tqdm\n",
    "from sklearn.metrics import confusion_matrix, ConfusionMatrixDisplay\n",
    "import numpy as np\n",
    "\n",
    "# --- Configuration for the LARGE Dataset ---\n",
    "# !!! IMPORTANT: UPDATE THIS PATH !!!\n",
    "DATA_DIR = Path(\"FakeVsRealDataset(for-original)\") \n",
    "\n",
    "BATCH_SIZE = 16 # REDUCED for larger models. If you get memory errors with ViT, lower this to 8 or 4.\n",
    "LEARNING_RATE = 0.001\n",
    "EPOCHS = 15 # INCREASED for the larger dataset. Can be increased further.\n",
    "TARGET_SAMPLE_RATE = 16000\n",
    "TARGET_LEN_SECS = 4\n",
    "\n",
    "# Check for GPU\n",
    "device = \"cuda\" if torch.cuda.is_available() else \"cpu\"\n",
    "print(f\"Using {device} device 💻\")"
   ]
  },
  {
   "cell_type": "code",
   "execution_count": 4,
   "id": "0ac8abb3-9560-49fd-85a7-a5b28222c9cd",
   "metadata": {},
   "outputs": [],
   "source": [
    "# --- Mel Spectrogram Transform (defined globally) ---\n",
    "mel_spectrogram_transform = T.MelSpectrogram(\n",
    "    sample_rate=TARGET_SAMPLE_RATE, n_fft=1024, hop_length=512, n_mels=128\n",
    ")\n",
    "\n",
    "# --- AudioDataset Class (Updated to handle errors and mixed file types) ---\n",
    "class AudioDataset(Dataset):\n",
    "    def __init__(self, root_path, transform=None, target_sample_rate=TARGET_SAMPLE_RATE, target_len_secs=TARGET_LEN_SECS):\n",
    "        self.root_path = Path(root_path)\n",
    "        self.classes = sorted([d.name for d in self.root_path.iterdir() if d.is_dir()])\n",
    "        self.class_to_idx = {cls_name: i for i, cls_name in enumerate(self.classes)}\n",
    "        self.transform = transform\n",
    "        self.target_sample_rate = target_sample_rate\n",
    "        self.target_len = target_sample_rate * target_len_secs\n",
    "        # Calculate spectrogram shape once for robust error handling\n",
    "        self.spec_height = self.transform.n_mels\n",
    "        self.spec_width = (self.target_len // self.transform.hop_length) + 1\n",
    "        self.files = self._get_files() # Get files after other attributes are set\n",
    "\n",
    "    def _get_files(self):\n",
    "        files = []\n",
    "        extensions_to_check = [\"*.wav\", \"*.mp3\"]\n",
    "        print(f\"Scanning {self.root_path} for {extensions_to_check} and extensionless files...\")\n",
    "        for cls_name in self.classes:\n",
    "            class_dir = self.root_path / cls_name\n",
    "            for ext in extensions_to_check:\n",
    "                files.extend([(p, self.class_to_idx[cls_name]) for p in class_dir.glob(f\"**/{ext}\")])\n",
    "            for file_path in class_dir.glob(f\"**/*\"):\n",
    "                if file_path.is_file() and not file_path.suffix:\n",
    "                    files.append((file_path, self.class_to_idx[cls_name]))\n",
    "        print(f\"Found {len(files)} files.\")\n",
    "        return files\n",
    "\n",
    "    def __len__(self):\n",
    "        return len(self.files)\n",
    "\n",
    "    def __getitem__(self, idx):\n",
    "        file_path, label = self.files[idx]\n",
    "        try:\n",
    "            waveform, sample_rate = torchaudio.load(file_path)\n",
    "        except Exception as e:\n",
    "            print(f\"--> WARNING: Skipping corrupted file: {file_path}\")\n",
    "            return torch.zeros(1, self.spec_height, self.spec_width), -1 \n",
    "\n",
    "        if sample_rate != self.target_sample_rate:\n",
    "            resampler = T.Resample(orig_freq=sample_rate, new_freq=self.target_sample_rate)\n",
    "            waveform = resampler(waveform)\n",
    "            \n",
    "        if waveform.shape[0] > 1: waveform = torch.mean(waveform, dim=0, keepdim=True)\n",
    "        if waveform.shape[1] > self.target_len: waveform = waveform[:, :self.target_len]\n",
    "        else: waveform = torch.nn.functional.pad(waveform, (0, self.target_len - waveform.shape[1]))\n",
    "            \n",
    "        spectrogram = self.transform(waveform)\n",
    "        return spectrogram, label"
   ]
  },
  {
   "cell_type": "markdown",
   "id": "5300facd-582c-4bfb-8ff9-bdf6dca2c54a",
   "metadata": {},
   "source": [
    "## Data Preprocessing Visualization\n",
    "\n",
    "### Before we build any models, let's understand our data. We will visualize:\n",
    "\n",
    "1. A raw audio waveform.\n",
    "\n",
    "2. Its transformation into a Mel Spectrogram, which is the image-like format our models will actually see.\n",
    "\n",
    "3. The distribution of classes in our training dataset to ensure it's balanced."
   ]
  },
  {
   "cell_type": "code",
   "execution_count": 5,
   "id": "43293590-0456-4051-abeb-1a1b479ba4e9",
   "metadata": {},
   "outputs": [
    {
     "name": "stdout",
     "output_type": "stream",
     "text": [
      "Initializing temporary dataset for visualization...\n",
      "Scanning FakeVsRealDataset(for-original)\\training for ['*.wav', '*.mp3'] and extensionless files...\n",
      "Found 53882 files.\n"
     ]
    },
    {
     "data": {
      "image/png": "[encoded data removed]",
      "text/plain": [
       "<Figure size 1200x800 with 2 Axes>"
      ]
     },
     "metadata": {},
     "output_type": "display_data"
    },
    {
     "data": {
      "image/png": "[encoded data removed]",
      "text/plain": [
       "<Figure size 800x500 with 1 Axes>"
      ]
     },
     "metadata": {},
     "output_type": "display_data"
    }
   ],
   "source": [
    "# --- Visualize a sample waveform and its spectrogram ---\n",
    "print(\"Initializing temporary dataset for visualization...\")\n",
    "temp_dataset = AudioDataset(root_path=DATA_DIR / \"training\", transform=mel_spectrogram_transform)\n",
    "\n",
    "if temp_dataset.files:\n",
    "    file_info = temp_dataset.files[0]\n",
    "    waveform, _ = torchaudio.load(file_info[0])\n",
    "    spectrogram, label_idx = temp_dataset[0]\n",
    "\n",
    "    fig, (ax1, ax2) = plt.subplots(2, 1, figsize=(12, 8))\n",
    "    ax1.plot(waveform.t().numpy())\n",
    "    ax1.set_title(\"Raw Audio Waveform\")\n",
    "    ax1.set_xlabel(\"Sample Number\"); ax1.set_ylabel(\"Amplitude\"); ax1.grid(True)\n",
    "    \n",
    "    ax2.imshow(torch.log(spectrogram.squeeze()).numpy(), aspect='auto', origin='lower', cmap='viridis')\n",
    "    ax2.set_title(f\"Mel Spectrogram (Class: {temp_dataset.classes[label_idx]})\")\n",
    "    ax2.set_xlabel(\"Time Frames\"); ax2.set_ylabel(\"Mel Bins\")\n",
    "    plt.tight_layout()\n",
    "    plt.show()\n",
    "\n",
    "    # --- Visualize class distribution ---\n",
    "    class_counts = {cls: 0 for cls in temp_dataset.classes}\n",
    "    for _, label_idx in temp_dataset.files:\n",
    "        class_counts[temp_dataset.classes[label_idx]] += 1\n",
    "        \n",
    "    fig, ax = plt.subplots(figsize=(8, 5))\n",
    "    ax.bar(class_counts.keys(), class_counts.values(), color=['skyblue', 'salmon'])\n",
    "    ax.set_title('Class Distribution in Training Set')\n",
    "    ax.set_ylabel('Number of Samples')\n",
    "    for i, count in enumerate(class_counts.values()):\n",
    "        ax.text(i, count, str(count), ha='center', va='bottom')\n",
    "    plt.show()\n",
    "else:\n",
    "    print(\"WARNING: No audio files found for visualization. Please check your DATA_DIR path.\")\n",
    "\n",
    "# Clean up to save memory\n",
    "del temp_dataset"
   ]
  },
  {
   "cell_type": "code",
   "execution_count": 6,
   "id": "9f0048e5-ea7a-41d9-9377-974a7af09787",
   "metadata": {},
   "outputs": [
    {
     "name": "stdout",
     "output_type": "stream",
     "text": [
      "Scanning FakeVsRealDataset(for-original)\\training for ['*.wav', '*.mp3'] and extensionless files...\n",
      "Found 53882 files.\n",
      "Scanning FakeVsRealDataset(for-original)\\validation for ['*.wav', '*.mp3'] and extensionless files...\n",
      "Found 10800 files.\n",
      "Scanning FakeVsRealDataset(for-original)\\testing for ['*.wav', '*.mp3'] and extensionless files...\n",
      "Found 4634 files.\n",
      "\n",
      "DataLoaders created.\n"
     ]
    }
   ],
   "source": [
    "# --- Create final Datasets and Dataloaders ---\n",
    "# IMPORTANT: num_workers is set to 0 to prevent freezing issues on Windows in Jupyter\n",
    "train_dataset = AudioDataset(root_path=DATA_DIR / \"training\", transform=mel_spectrogram_transform)\n",
    "val_dataset = AudioDataset(root_path=DATA_DIR / \"validation\", transform=mel_spectrogram_transform)\n",
    "test_dataset = AudioDataset(root_path=DATA_DIR / \"testing\", transform=mel_spectrogram_transform)\n",
    "\n",
    "train_loader = DataLoader(train_dataset, batch_size=BATCH_SIZE, shuffle=True, num_workers=0, pin_memory=True)\n",
    "val_loader = DataLoader(val_dataset, batch_size=BATCH_SIZE, shuffle=False, num_workers=0, pin_memory=True)\n",
    "test_loader = DataLoader(test_dataset, batch_size=BATCH_SIZE, shuffle=False, num_workers=0, pin_memory=True)\n",
    "\n",
    "print(f\"\\nDataLoaders created.\")"
   ]
  },
  {
   "cell_type": "code",
   "execution_count": 9,
   "id": "da2d5434-85da-49b0-9c00-d105adc4c9a3",
   "metadata": {},
   "outputs": [],
   "source": [
    "# ==================================================================\n",
    "# Part 1: Reusable Training & Visualization Functions (Corrected)\n",
    "# ==================================================================\n",
    "\n",
    "def train_epoch(model, dataloader, loss_fn, optimizer, device):\n",
    "    model.train()\n",
    "    total_loss, total_acc = 0, 0\n",
    "    # CORRECTED: GradScaler is initialized without arguments for the new API\n",
    "    scaler = GradScaler()\n",
    "    for X, y in tqdm(dataloader, desc=\"Training\"):\n",
    "        if -1 in y: continue\n",
    "        X, y = X.to(device), y.to(device)\n",
    "        \n",
    "        # CORRECTED: Pass the device string (\"cuda\" or \"cpu\") directly\n",
    "        with autocast(device_type=device):\n",
    "            y_pred_logits = model(X)\n",
    "            loss = loss_fn(y_pred_logits, y)\n",
    "        \n",
    "        total_loss += loss.item()\n",
    "        optimizer.zero_grad()\n",
    "        scaler.scale(loss).backward()\n",
    "        scaler.step(optimizer)\n",
    "        scaler.update()\n",
    "        \n",
    "        y_pred_class = torch.argmax(y_pred_logits, dim=1)\n",
    "        total_acc += (y_pred_class == y).sum().item() / len(y)\n",
    "    return total_loss / len(dataloader), total_acc / len(dataloader)\n",
    "\n",
    "def evaluate(model, dataloader, loss_fn, device):\n",
    "    model.eval()\n",
    "    total_loss, total_acc = 0, 0\n",
    "    with torch.no_grad():\n",
    "        for X, y in tqdm(dataloader, desc=\"Evaluating\"):\n",
    "            if -1 in y: continue\n",
    "            X, y = X.to(device), y.to(device)\n",
    "            y_pred_logits = model(X)\n",
    "            loss = loss_fn(y_pred_logits, y)\n",
    "            total_loss += loss.item()\n",
    "            y_pred_class = torch.argmax(y_pred_logits, dim=1)\n",
    "            total_acc += (y_pred_class == y).sum().item() / len(y)\n",
    "    return total_loss / len(dataloader), total_acc / len(dataloader)\n",
    "\n",
    "def run_experiment(model, train_loader, val_loader, loss_fn, optimizer, device, epochs, scheduler=None):\n",
    "    history = {\"train_loss\": [], \"train_acc\": [], \"val_loss\": [], \"val_acc\": []}\n",
    "    print(f\"\\n--- Training {model.__class__.__name__} for {epochs} epochs ---\")\n",
    "    for epoch in range(epochs):\n",
    "        train_loss, train_acc = train_epoch(model, train_loader, loss_fn, optimizer, device)\n",
    "        val_loss, val_acc = evaluate(model, val_loader, loss_fn, device)\n",
    "        print(f\"Epoch: {epoch+1:02d} | Train Loss: {train_loss:.4f} | Train Acc: {train_acc:.4f} | Val Loss: {val_loss:.4f} | Val Acc: {val_acc:.4f}\")\n",
    "        history[\"train_loss\"].append(train_loss); history[\"train_acc\"].append(train_acc)\n",
    "        history[\"val_loss\"].append(val_loss); history[\"val_acc\"].append(val_acc)\n",
    "        if scheduler:\n",
    "            old_lr = optimizer.param_groups[0]['lr']\n",
    "            scheduler.step(val_loss)\n",
    "            new_lr = optimizer.param_groups[0]['lr']\n",
    "            if new_lr < old_lr:\n",
    "                print(f\"    -> Learning rate reduced to {new_lr:.6f}\")\n",
    "    return history\n",
    "\n",
    "def plot_history(history, title):\n",
    "    fig, (ax1, ax2) = plt.subplots(1, 2, figsize=(16, 6))\n",
    "    epochs_range = range(1, len(history['train_acc']) + 1)\n",
    "    ax1.plot(epochs_range, history['train_acc'], label='Train Accuracy', color='blue', marker='o', linestyle='--')\n",
    "    ax1.plot(epochs_range, history['val_acc'], label='Validation Accuracy', color='orange', marker='o')\n",
    "    ax1.set_title(f'Model Accuracy'); ax1.set_ylabel('Accuracy'); ax1.set_xlabel('Epoch')\n",
    "    ax1.legend(loc='lower right'); ax1.grid(True)\n",
    "    ax2.plot(epochs_range, history['train_loss'], label='Train Loss', color='blue', marker='o', linestyle='--')\n",
    "    ax2.plot(epochs_range, history['val_loss'], label='Validation Loss', color='orange', marker='o')\n",
    "    ax2.set_title(f'Model Loss'); ax2.set_ylabel('Loss'); ax2.set_xlabel('Epoch')\n",
    "    ax2.legend(loc='upper right'); ax2.grid(True)\n",
    "    fig.suptitle(f'Training History for {title}', fontsize=16); plt.show()\n",
    "    \n",
    "def plot_results(model, history, test_loader, loss_fn, device, model_name):\n",
    "    plot_history(history, model_name)\n",
    "    print(f\"\\n--- Final Evaluation on Test Set for {model_name} ---\")\n",
    "    test_loss, test_acc = evaluate(model, test_loader, loss_fn, device)\n",
    "    print(f\"Test Accuracy: {test_acc:.4f} | Test Loss: {test_loss:.4f}\")\n",
    "    \n",
    "    model.eval()\n",
    "    all_preds, all_labels = [], []\n",
    "    with torch.no_grad():\n",
    "        for X, y in test_loader:\n",
    "            if -1 in y: continue\n",
    "            X, y = X.to(device), y.to(device)\n",
    "            y_pred_logits = model(X)\n",
    "            y_pred_class = torch.argmax(y_pred_logits, dim=1)\n",
    "            all_preds.extend(y_pred_class.cpu().numpy()); all_labels.extend(y.cpu().numpy())\n",
    "            \n",
    "    cm = confusion_matrix(all_labels, all_preds)\n",
    "    disp = ConfusionMatrixDisplay(confusion_matrix=cm, display_labels=train_dataset.classes)\n",
    "    fig, ax = plt.subplots(figsize=(6, 6)); disp.plot(cmap=plt.cm.Blues, ax=ax)\n",
    "    plt.title(f\"Confusion Matrix for {model_name}\"); plt.show()\n",
    "    return test_acc"
   ]
  },
  {
   "cell_type": "markdown",
   "id": "348001f6-ad73-4d50-b20e-fff8476dbecb",
   "metadata": {},
   "source": [
    "## Model 1: Baseline CNN\n",
    "\n",
    "This is our simple, 3-layer CNN. It serves as our starting point to measure all future improvements against."
   ]
  },
  {
   "cell_type": "code",
   "execution_count": 10,
   "id": "d0876015-4eab-4093-83ea-2ae60ef298dd",
   "metadata": {
    "scrolled": true
   },
   "outputs": [
    {
     "name": "stdout",
     "output_type": "stream",
     "text": [
      "\n",
      "--- Training BaselineCNN for 15 epochs ---\n"
     ]
    },
    {
     "name": "stderr",
     "output_type": "stream",
     "text": [
      "Training:   7%|████▌                                                                | 224/3368 [01:00<13:17,  3.94it/s]"
     ]
    },
    {
     "name": "stdout",
     "output_type": "stream",
     "text": [
      "--> WARNING: Skipping corrupted file: FakeVsRealDataset(for-original)\\training\\fake\\file15746.mp3\n"
     ]
    },
    {
     "name": "stderr",
     "output_type": "stream",
     "text": [
      "Training:  23%|███████████████▌                                                     | 761/3368 [03:27<11:35,  3.75it/s]"
     ]
    },
    {
     "name": "stdout",
     "output_type": "stream",
     "text": [
      "--> WARNING: Skipping corrupted file: FakeVsRealDataset(for-original)\\training\\fake\\file19851.mp3\n"
     ]
    },
    {
     "name": "stderr",
     "output_type": "stream",
     "text": [
      "Training:  36%|████████████████████████▌                                           | 1219/3368 [05:38<09:21,  3.83it/s]"
     ]
    },
    {
     "name": "stdout",
     "output_type": "stream",
     "text": [
      "--> WARNING: Skipping corrupted file: FakeVsRealDataset(for-original)\\training\\fake\\file30959.mp3\n"
     ]
    },
    {
     "name": "stderr",
     "output_type": "stream",
     "text": [
      "Training:  48%|████████████████████████████████▊                                   | 1624/3368 [07:33<08:42,  3.34it/s]"
     ]
    },
    {
     "name": "stdout",
     "output_type": "stream",
     "text": [
      "--> WARNING: Skipping corrupted file: FakeVsRealDataset(for-original)\\training\\fake\\file27839.mp3\n"
     ]
    },
    {
     "name": "stderr",
     "output_type": "stream",
     "text": [
      "Training:  49%|█████████████████████████████████▋                                  | 1667/3368 [07:47<09:05,  3.12it/s]"
     ]
    },
    {
     "name": "stdout",
     "output_type": "stream",
     "text": [
      "--> WARNING: Skipping corrupted file: FakeVsRealDataset(for-original)\\training\\fake\\file32972.mp3\n"
     ]
    },
    {
     "name": "stderr",
     "output_type": "stream",
     "text": [
      "Training:  52%|███████████████████████████████████                                 | 1738/3368 [08:07<07:10,  3.78it/s]"
     ]
    },
    {
     "name": "stdout",
     "output_type": "stream",
     "text": [
      "--> WARNING: Skipping corrupted file: FakeVsRealDataset(for-original)\\training\\fake\\file16643.mp3\n"
     ]
    },
    {
     "name": "stderr",
     "output_type": "stream",
     "text": [
      "Training:  52%|███████████████████████████████████▏                                | 1743/3368 [08:08<07:09,  3.78it/s]"
     ]
    },
    {
     "name": "stdout",
     "output_type": "stream",
     "text": [
      "--> WARNING: Skipping corrupted file: FakeVsRealDataset(for-original)\\training\\fake\\file27206.mp3\n"
     ]
    },
    {
     "name": "stderr",
     "output_type": "stream",
     "text": [
      "Training:  58%|███████████████████████████████████████▋                            | 1966/3368 [09:11<07:08,  3.27it/s]"
     ]
    },
    {
     "name": "stdout",
     "output_type": "stream",
     "text": [
      "--> WARNING: Skipping corrupted file: FakeVsRealDataset(for-original)\\training\\fake\\file5323.mp3\n"
     ]
    },
    {
     "name": "stderr",
     "output_type": "stream",
     "text": [
      "Training:  70%|███████████████████████████████████████████████▎                    | 2345/3368 [11:06<04:30,  3.78it/s]"
     ]
    },
    {
     "name": "stdout",
     "output_type": "stream",
     "text": [
      "--> WARNING: Skipping corrupted file: FakeVsRealDataset(for-original)\\training\\fake\\file27643.mp3\n"
     ]
    },
    {
     "name": "stderr",
     "output_type": "stream",
     "text": [
      "Training:  70%|███████████████████████████████████████████████▉                    | 2374/3368 [11:14<04:11,  3.95it/s]"
     ]
    },
    {
     "name": "stdout",
     "output_type": "stream",
     "text": [
      "--> WARNING: Skipping corrupted file: FakeVsRealDataset(for-original)\\training\\fake\\file13424.mp3\n"
     ]
    },
    {
     "name": "stderr",
     "output_type": "stream",
     "text": [
      "Training:  72%|█████████████████████████████████████████████████                   | 2428/3368 [11:28<03:40,  4.27it/s]"
     ]
    },
    {
     "name": "stdout",
     "output_type": "stream",
     "text": [
      "--> WARNING: Skipping corrupted file: FakeVsRealDataset(for-original)\\training\\fake\\file31017.mp3\n"
     ]
    },
    {
     "name": "stderr",
     "output_type": "stream",
     "text": [
      "Training:  86%|██████████████████████████████████████████████████████████▍         | 2894/3368 [13:21<01:42,  4.61it/s]"
     ]
    },
    {
     "name": "stdout",
     "output_type": "stream",
     "text": [
      "--> WARNING: Skipping corrupted file: FakeVsRealDataset(for-original)\\training\\fake\\file17450.mp3\n"
     ]
    },
    {
     "name": "stderr",
     "output_type": "stream",
     "text": [
      "Training:  98%|██████████████████████████████████████████████████████████████████▋ | 3300/3368 [14:59<00:14,  4.61it/s]"
     ]
    },
    {
     "name": "stdout",
     "output_type": "stream",
     "text": [
      "--> WARNING: Skipping corrupted file: FakeVsRealDataset(for-original)\\training\\fake\\file9875.mp3\n"
     ]
    },
    {
     "name": "stderr",
     "output_type": "stream",
     "text": [
      "Training:  98%|██████████████████████████████████████████████████████████████████▉ | 3316/3368 [15:04<00:12,  4.20it/s]"
     ]
    },
    {
     "name": "stdout",
     "output_type": "stream",
     "text": [
      "--> WARNING: Skipping corrupted file: FakeVsRealDataset(for-original)\\training\\fake\\file17407.mp3\n"
     ]
    },
    {
     "name": "stderr",
     "output_type": "stream",
     "text": [
      "Training: 100%|████████████████████████████████████████████████████████████████████| 3368/3368 [15:17<00:00,  3.67it/s]\n",
      "Evaluating:  15%|██████████                                                          | 100/675 [00:19<01:44,  5.51it/s]"
     ]
    },
    {
     "name": "stdout",
     "output_type": "stream",
     "text": [
      "--> WARNING: Skipping corrupted file: FakeVsRealDataset(for-original)\\validation\\fake\\file16165.mp3\n"
     ]
    },
    {
     "name": "stderr",
     "output_type": "stream",
     "text": [
      "Evaluating:  37%|█████████████████████████▍                                          | 253/675 [00:47<01:13,  5.76it/s]"
     ]
    },
    {
     "name": "stdout",
     "output_type": "stream",
     "text": [
      "--> WARNING: Skipping corrupted file: FakeVsRealDataset(for-original)\\validation\\fake\\file31606.mp3\n"
     ]
    },
    {
     "name": "stderr",
     "output_type": "stream",
     "text": [
      "Evaluating: 100%|████████████████████████████████████████████████████████████████████| 675/675 [02:13<00:00,  5.07it/s]\n"
     ]
    },
    {
     "name": "stdout",
     "output_type": "stream",
     "text": [
      "Epoch: 01 | Train Loss: nan | Train Acc: 0.9329 | Val Loss: 0.2086 | Val Acc: 0.9194\n"
     ]
    },
    {
     "name": "stderr",
     "output_type": "stream",
     "text": [
      "Training:   7%|█████                                                                | 248/3368 [00:29<05:40,  9.17it/s]"
     ]
    },
    {
     "name": "stdout",
     "output_type": "stream",
     "text": [
      "--> WARNING: Skipping corrupted file: FakeVsRealDataset(for-original)\\training\\fake\\file32972.mp3\n"
     ]
    },
    {
     "name": "stderr",
     "output_type": "stream",
     "text": [
      "Training:  19%|████████████▊                                                        | 628/3368 [01:16<05:02,  9.06it/s]"
     ]
    },
    {
     "name": "stdout",
     "output_type": "stream",
     "text": [
      "--> WARNING: Skipping corrupted file: FakeVsRealDataset(for-original)\\training\\fake\\file5323.mp3\n"
     ]
    },
    {
     "name": "stderr",
     "output_type": "stream",
     "text": [
      "Training:  20%|█████████████▊                                                       | 674/3368 [01:21<04:49,  9.30it/s]"
     ]
    },
    {
     "name": "stdout",
     "output_type": "stream",
     "text": [
      "--> WARNING: Skipping corrupted file: FakeVsRealDataset(for-original)\\training\\fake\\file27643.mp3\n"
     ]
    },
    {
     "name": "stderr",
     "output_type": "stream",
     "text": [
      "Training:  26%|█████████████████▊                                                   | 867/3368 [01:46<06:05,  6.84it/s]"
     ]
    },
    {
     "name": "stdout",
     "output_type": "stream",
     "text": [
      "--> WARNING: Skipping corrupted file: FakeVsRealDataset(for-original)\\training\\fake\\file16643.mp3\n"
     ]
    },
    {
     "name": "stderr",
     "output_type": "stream",
     "text": [
      "Training:  28%|███████████████████▌                                                 | 954/3368 [02:01<06:07,  6.58it/s]"
     ]
    },
    {
     "name": "stdout",
     "output_type": "stream",
     "text": [
      "--> WARNING: Skipping corrupted file: FakeVsRealDataset(for-original)\\training\\fake\\file13424.mp3\n"
     ]
    },
    {
     "name": "stderr",
     "output_type": "stream",
     "text": [
      "Training:  31%|█████████████████████                                               | 1044/3368 [02:16<06:36,  5.86it/s]"
     ]
    },
    {
     "name": "stdout",
     "output_type": "stream",
     "text": [
      "--> WARNING: Skipping corrupted file: FakeVsRealDataset(for-original)\\training\\fake\\file30959.mp3\n"
     ]
    },
    {
     "name": "stderr",
     "output_type": "stream",
     "text": [
      "Training:  34%|███████████████████████▏                                            | 1149/3368 [02:33<06:39,  5.55it/s]"
     ]
    },
    {
     "name": "stdout",
     "output_type": "stream",
     "text": [
      "--> WARNING: Skipping corrupted file: FakeVsRealDataset(for-original)\\training\\fake\\file27839.mp3\n"
     ]
    },
    {
     "name": "stderr",
     "output_type": "stream",
     "text": [
      "Training:  51%|██████████████████████████████████▋                                 | 1718/3368 [03:57<03:39,  7.52it/s]"
     ]
    },
    {
     "name": "stdout",
     "output_type": "stream",
     "text": [
      "--> WARNING: Skipping corrupted file: FakeVsRealDataset(for-original)\\training\\fake\\file19851.mp3\n"
     ]
    },
    {
     "name": "stderr",
     "output_type": "stream",
     "text": [
      "Training:  63%|███████████████████████████████████████████                         | 2134/3368 [05:05<02:46,  7.41it/s]"
     ]
    },
    {
     "name": "stdout",
     "output_type": "stream",
     "text": [
      "--> WARNING: Skipping corrupted file: FakeVsRealDataset(for-original)\\training\\fake\\file27206.mp3\n"
     ]
    },
    {
     "name": "stderr",
     "output_type": "stream",
     "text": [
      "Training:  68%|██████████████████████████████████████████████                      | 2281/3368 [05:31<03:13,  5.63it/s]"
     ]
    },
    {
     "name": "stdout",
     "output_type": "stream",
     "text": [
      "--> WARNING: Skipping corrupted file: FakeVsRealDataset(for-original)\\training\\fake\\file31017.mp3\n"
     ]
    },
    {
     "name": "stderr",
     "output_type": "stream",
     "text": [
      "Training:  71%|████████████████████████████████████████████████                    | 2382/3368 [05:54<04:15,  3.86it/s]"
     ]
    },
    {
     "name": "stdout",
     "output_type": "stream",
     "text": [
      "--> WARNING: Skipping corrupted file: FakeVsRealDataset(for-original)\\training\\fake\\file15746.mp3\n"
     ]
    },
    {
     "name": "stderr",
     "output_type": "stream",
     "text": [
      "Training:  83%|████████████████████████████████████████████████████████▍           | 2798/3368 [07:33<01:56,  4.88it/s]"
     ]
    },
    {
     "name": "stdout",
     "output_type": "stream",
     "text": [
      "--> WARNING: Skipping corrupted file: FakeVsRealDataset(for-original)\\training\\fake\\file17450.mp3\n"
     ]
    },
    {
     "name": "stderr",
     "output_type": "stream",
     "text": [
      "Training:  87%|███████████████████████████████████████████████████████████▏        | 2933/3368 [08:05<01:30,  4.82it/s]"
     ]
    },
    {
     "name": "stdout",
     "output_type": "stream",
     "text": [
      "--> WARNING: Skipping corrupted file: FakeVsRealDataset(for-original)\\training\\fake\\file17407.mp3\n"
     ]
    },
    {
     "name": "stderr",
     "output_type": "stream",
     "text": [
      "Training:  96%|█████████████████████████████████████████████████████████████████▌  | 3249/3368 [09:20<00:24,  4.96it/s]"
     ]
    },
    {
     "name": "stdout",
     "output_type": "stream",
     "text": [
      "--> WARNING: Skipping corrupted file: FakeVsRealDataset(for-original)\\training\\fake\\file9875.mp3\n"
     ]
    },
    {
     "name": "stderr",
     "output_type": "stream",
     "text": [
      "Training: 100%|████████████████████████████████████████████████████████████████████| 3368/3368 [09:49<00:00,  5.71it/s]\n",
      "Evaluating:  15%|██████████                                                          | 100/675 [00:19<01:40,  5.72it/s]"
     ]
    },
    {
     "name": "stdout",
     "output_type": "stream",
     "text": [
      "--> WARNING: Skipping corrupted file: FakeVsRealDataset(for-original)\\validation\\fake\\file16165.mp3\n"
     ]
    },
    {
     "name": "stderr",
     "output_type": "stream",
     "text": [
      "Evaluating:  37%|█████████████████████████▍                                          | 253/675 [00:47<01:07,  6.21it/s]"
     ]
    },
    {
     "name": "stdout",
     "output_type": "stream",
     "text": [
      "--> WARNING: Skipping corrupted file: FakeVsRealDataset(for-original)\\validation\\fake\\file31606.mp3\n"
     ]
    },
    {
     "name": "stderr",
     "output_type": "stream",
     "text": [
      "Evaluating: 100%|████████████████████████████████████████████████████████████████████| 675/675 [02:13<00:00,  5.07it/s]\n"
     ]
    },
    {
     "name": "stdout",
     "output_type": "stream",
     "text": [
      "Epoch: 02 | Train Loss: nan | Train Acc: 0.9606 | Val Loss: 0.1006 | Val Acc: 0.9681\n"
     ]
    },
    {
     "name": "stderr",
     "output_type": "stream",
     "text": [
      "Training:   0%|▏                                                                      | 9/3368 [00:01<05:44,  9.74it/s]"
     ]
    },
    {
     "name": "stdout",
     "output_type": "stream",
     "text": [
      "--> WARNING: Skipping corrupted file: FakeVsRealDataset(for-original)\\training\\fake\\file27643.mp3\n"
     ]
    },
    {
     "name": "stderr",
     "output_type": "stream",
     "text": [
      "Training:   3%|██▎                                                                  | 114/3368 [00:11<07:09,  7.58it/s]"
     ]
    },
    {
     "name": "stdout",
     "output_type": "stream",
     "text": [
      "--> WARNING: Skipping corrupted file: FakeVsRealDataset(for-original)\\training\\fake\\file30959.mp3\n"
     ]
    },
    {
     "name": "stderr",
     "output_type": "stream",
     "text": [
      "Training:   4%|██▍                                                                  | 121/3368 [00:12<06:21,  8.51it/s]"
     ]
    },
    {
     "name": "stdout",
     "output_type": "stream",
     "text": [
      "--> WARNING: Skipping corrupted file: FakeVsRealDataset(for-original)\\training\\fake\\file31017.mp3\n"
     ]
    },
    {
     "name": "stderr",
     "output_type": "stream",
     "text": [
      "Training:  13%|█████████                                                            | 443/3368 [00:47<04:22, 11.16it/s]"
     ]
    },
    {
     "name": "stdout",
     "output_type": "stream",
     "text": [
      "--> WARNING: Skipping corrupted file: FakeVsRealDataset(for-original)\\training\\fake\\file19851.mp3\n"
     ]
    },
    {
     "name": "stderr",
     "output_type": "stream",
     "text": [
      "Training:  52%|███████████████████████████████████▏                                | 1743/3368 [03:22<03:50,  7.06it/s]"
     ]
    },
    {
     "name": "stdout",
     "output_type": "stream",
     "text": [
      "--> WARNING: Skipping corrupted file: FakeVsRealDataset(for-original)\\training\\fake\\file9875.mp3\n"
     ]
    },
    {
     "name": "stderr",
     "output_type": "stream",
     "text": [
      "Training:  57%|██████████████████████████████████████▊                             | 1920/3368 [03:46<02:45,  8.73it/s]"
     ]
    },
    {
     "name": "stdout",
     "output_type": "stream",
     "text": [
      "--> WARNING: Skipping corrupted file: FakeVsRealDataset(for-original)\\training\\fake\\file27839.mp3\n"
     ]
    },
    {
     "name": "stderr",
     "output_type": "stream",
     "text": [
      "Training:  58%|███████████████████████████████████████▏                            | 1943/3368 [03:48<02:50,  8.37it/s]"
     ]
    },
    {
     "name": "stdout",
     "output_type": "stream",
     "text": [
      "--> WARNING: Skipping corrupted file: FakeVsRealDataset(for-original)\\training\\fake\\file32972.mp3\n"
     ]
    },
    {
     "name": "stderr",
     "output_type": "stream",
     "text": [
      "Training:  60%|████████████████████████████████████████▉                           | 2027/3368 [04:00<02:34,  8.68it/s]"
     ]
    },
    {
     "name": "stdout",
     "output_type": "stream",
     "text": [
      "--> WARNING: Skipping corrupted file: FakeVsRealDataset(for-original)\\training\\fake\\file17450.mp3\n"
     ]
    },
    {
     "name": "stderr",
     "output_type": "stream",
     "text": [
      "Training:  66%|████████████████████████████████████████████▉                       | 2224/3368 [04:28<02:17,  8.30it/s]"
     ]
    },
    {
     "name": "stdout",
     "output_type": "stream",
     "text": [
      "--> WARNING: Skipping corrupted file: FakeVsRealDataset(for-original)\\training\\fake\\file5323.mp3\n"
     ]
    },
    {
     "name": "stderr",
     "output_type": "stream",
     "text": [
      "Training:  74%|██████████████████████████████████████████████████▋                 | 2509/3368 [05:09<01:58,  7.28it/s]"
     ]
    },
    {
     "name": "stdout",
     "output_type": "stream",
     "text": [
      "--> WARNING: Skipping corrupted file: FakeVsRealDataset(for-original)\\training\\fake\\file15746.mp3\n"
     ]
    },
    {
     "name": "stderr",
     "output_type": "stream",
     "text": [
      "Training:  79%|█████████████████████████████████████████████████████▊              | 2667/3368 [05:41<02:14,  5.23it/s]"
     ]
    },
    {
     "name": "stdout",
     "output_type": "stream",
     "text": [
      "--> WARNING: Skipping corrupted file: FakeVsRealDataset(for-original)\\training\\fake\\file16643.mp3\n"
     ]
    },
    {
     "name": "stderr",
     "output_type": "stream",
     "text": [
      "Training:  81%|███████████████████████████████████████████████████████▎            | 2739/3368 [05:57<02:08,  4.88it/s]"
     ]
    },
    {
     "name": "stdout",
     "output_type": "stream",
     "text": [
      "--> WARNING: Skipping corrupted file: FakeVsRealDataset(for-original)\\training\\fake\\file27206.mp3\n"
     ]
    },
    {
     "name": "stderr",
     "output_type": "stream",
     "text": [
      "Training:  94%|███████████████████████████████████████████████████████████████▉    | 3164/3368 [07:36<00:43,  4.71it/s]"
     ]
    },
    {
     "name": "stdout",
     "output_type": "stream",
     "text": [
      "--> WARNING: Skipping corrupted file: FakeVsRealDataset(for-original)\\training\\fake\\file13424.mp3\n"
     ]
    },
    {
     "name": "stderr",
     "output_type": "stream",
     "text": [
      "Training:  98%|██████████████████████████████████████████████████████████████████▍ | 3292/3368 [08:06<00:15,  4.79it/s]"
     ]
    },
    {
     "name": "stdout",
     "output_type": "stream",
     "text": [
      "--> WARNING: Skipping corrupted file: FakeVsRealDataset(for-original)\\training\\fake\\file17407.mp3\n"
     ]
    },
    {
     "name": "stderr",
     "output_type": "stream",
     "text": [
      "Training: 100%|████████████████████████████████████████████████████████████████████| 3368/3368 [08:24<00:00,  6.67it/s]\n",
      "Evaluating:  15%|██████████                                                          | 100/675 [00:17<01:31,  6.30it/s]"
     ]
    },
    {
     "name": "stdout",
     "output_type": "stream",
     "text": [
      "--> WARNING: Skipping corrupted file: FakeVsRealDataset(for-original)\\validation\\fake\\file16165.mp3\n"
     ]
    },
    {
     "name": "stderr",
     "output_type": "stream",
     "text": [
      "Evaluating:  37%|█████████████████████████▍                                          | 253/675 [00:44<01:06,  6.35it/s]"
     ]
    },
    {
     "name": "stdout",
     "output_type": "stream",
     "text": [
      "--> WARNING: Skipping corrupted file: FakeVsRealDataset(for-original)\\validation\\fake\\file31606.mp3\n"
     ]
    },
    {
     "name": "stderr",
     "output_type": "stream",
     "text": [
      "Evaluating: 100%|████████████████████████████████████████████████████████████████████| 675/675 [02:07<00:00,  5.30it/s]\n"
     ]
    },
    {
     "name": "stdout",
     "output_type": "stream",
     "text": [
      "Epoch: 03 | Train Loss: nan | Train Acc: 0.9707 | Val Loss: 0.0704 | Val Acc: 0.9796\n"
     ]
    },
    {
     "name": "stderr",
     "output_type": "stream",
     "text": [
      "Training:   4%|██▋                                                                  | 134/3368 [00:13<05:08, 10.47it/s]"
     ]
    },
    {
     "name": "stdout",
     "output_type": "stream",
     "text": [
      "--> WARNING: Skipping corrupted file: FakeVsRealDataset(for-original)\\training\\fake\\file9875.mp3\n"
     ]
    },
    {
     "name": "stderr",
     "output_type": "stream",
     "text": [
      "Training:   6%|███▉                                                                 | 194/3368 [00:19<04:38, 11.41it/s]"
     ]
    },
    {
     "name": "stdout",
     "output_type": "stream",
     "text": [
      "--> WARNING: Skipping corrupted file: FakeVsRealDataset(for-original)\\training\\fake\\file32972.mp3\n"
     ]
    },
    {
     "name": "stderr",
     "output_type": "stream",
     "text": [
      "Training:  10%|███████▏                                                             | 349/3368 [00:34<04:10, 12.03it/s]"
     ]
    },
    {
     "name": "stdout",
     "output_type": "stream",
     "text": [
      "--> WARNING: Skipping corrupted file: FakeVsRealDataset(for-original)\\training\\fake\\file16643.mp3\n"
     ]
    },
    {
     "name": "stderr",
     "output_type": "stream",
     "text": [
      "Training:  13%|█████████▎                                                           | 454/3368 [00:44<04:20, 11.21it/s]"
     ]
    },
    {
     "name": "stdout",
     "output_type": "stream",
     "text": [
      "--> WARNING: Skipping corrupted file: FakeVsRealDataset(for-original)\\training\\fake\\file27643.mp3\n"
     ]
    },
    {
     "name": "stderr",
     "output_type": "stream",
     "text": [
      "Training:  17%|███████████▊                                                         | 579/3368 [00:57<04:36, 10.10it/s]"
     ]
    },
    {
     "name": "stdout",
     "output_type": "stream",
     "text": [
      "--> WARNING: Skipping corrupted file: FakeVsRealDataset(for-original)\\training\\fake\\file27839.mp3\n"
     ]
    },
    {
     "name": "stderr",
     "output_type": "stream",
     "text": [
      "Training:  31%|████████████████████▉                                               | 1037/3368 [01:42<03:40, 10.58it/s]"
     ]
    },
    {
     "name": "stdout",
     "output_type": "stream",
     "text": [
      "--> WARNING: Skipping corrupted file: FakeVsRealDataset(for-original)\\training\\fake\\file13424.mp3\n"
     ]
    },
    {
     "name": "stderr",
     "output_type": "stream",
     "text": [
      "Training:  46%|███████████████████████████████▌                                    | 1564/3368 [02:35<02:52, 10.45it/s]"
     ]
    },
    {
     "name": "stdout",
     "output_type": "stream",
     "text": [
      "--> WARNING: Skipping corrupted file: FakeVsRealDataset(for-original)\\training\\fake\\file17450.mp3\n"
     ]
    },
    {
     "name": "stderr",
     "output_type": "stream",
     "text": [
      "Training:  49%|█████████████████████████████████▏                                  | 1646/3368 [02:44<02:50, 10.09it/s]"
     ]
    },
    {
     "name": "stdout",
     "output_type": "stream",
     "text": [
      "--> WARNING: Skipping corrupted file: FakeVsRealDataset(for-original)\\training\\fake\\file15746.mp3\n"
     ]
    },
    {
     "name": "stderr",
     "output_type": "stream",
     "text": [
      "Training:  54%|████████████████████████████████████▊                               | 1825/3368 [03:03<02:49,  9.09it/s]"
     ]
    },
    {
     "name": "stdout",
     "output_type": "stream",
     "text": [
      "--> WARNING: Skipping corrupted file: FakeVsRealDataset(for-original)\\training\\fake\\file31017.mp3\n"
     ]
    },
    {
     "name": "stderr",
     "output_type": "stream",
     "text": [
      "Training:  56%|██████████████████████████████████████▏                             | 1892/3368 [03:10<02:20, 10.54it/s]"
     ]
    },
    {
     "name": "stdout",
     "output_type": "stream",
     "text": [
      "--> WARNING: Skipping corrupted file: FakeVsRealDataset(for-original)\\training\\fake\\file17407.mp3\n"
     ]
    },
    {
     "name": "stderr",
     "output_type": "stream",
     "text": [
      "Training:  61%|█████████████████████████████████████████▍                          | 2050/3368 [03:27<02:21,  9.33it/s]"
     ]
    },
    {
     "name": "stdout",
     "output_type": "stream",
     "text": [
      "--> WARNING: Skipping corrupted file: FakeVsRealDataset(for-original)\\training\\fake\\file30959.mp3\n"
     ]
    },
    {
     "name": "stderr",
     "output_type": "stream",
     "text": [
      "Training:  63%|███████████████████████████████████████████                         | 2132/3368 [03:36<02:08,  9.60it/s]"
     ]
    },
    {
     "name": "stdout",
     "output_type": "stream",
     "text": [
      "--> WARNING: Skipping corrupted file: FakeVsRealDataset(for-original)\\training\\fake\\file27206.mp3\n"
     ]
    },
    {
     "name": "stderr",
     "output_type": "stream",
     "text": [
      "Training:  72%|████████████████████████████████████████████████▊                   | 2416/3368 [04:10<01:55,  8.26it/s]"
     ]
    },
    {
     "name": "stdout",
     "output_type": "stream",
     "text": [
      "--> WARNING: Skipping corrupted file: FakeVsRealDataset(for-original)\\training\\fake\\file19851.mp3\n"
     ]
    },
    {
     "name": "stderr",
     "output_type": "stream",
     "text": [
      "Training:  88%|████████████████████████████████████████████████████████████        | 2974/3368 [05:56<01:19,  4.93it/s]"
     ]
    },
    {
     "name": "stdout",
     "output_type": "stream",
     "text": [
      "--> WARNING: Skipping corrupted file: FakeVsRealDataset(for-original)\\training\\fake\\file5323.mp3\n"
     ]
    },
    {
     "name": "stderr",
     "output_type": "stream",
     "text": [
      "Training: 100%|████████████████████████████████████████████████████████████████████| 3368/3368 [07:29<00:00,  7.50it/s]\n",
      "Evaluating:  15%|██████████                                                          | 100/675 [00:17<01:34,  6.09it/s]"
     ]
    },
    {
     "name": "stdout",
     "output_type": "stream",
     "text": [
      "--> WARNING: Skipping corrupted file: FakeVsRealDataset(for-original)\\validation\\fake\\file16165.mp3\n"
     ]
    },
    {
     "name": "stderr",
     "output_type": "stream",
     "text": [
      "Evaluating:  37%|█████████████████████████▍                                          | 253/675 [00:44<01:02,  6.78it/s]"
     ]
    },
    {
     "name": "stdout",
     "output_type": "stream",
     "text": [
      "--> WARNING: Skipping corrupted file: FakeVsRealDataset(for-original)\\validation\\fake\\file31606.mp3\n"
     ]
    },
    {
     "name": "stderr",
     "output_type": "stream",
     "text": [
      "Evaluating: 100%|████████████████████████████████████████████████████████████████████| 675/675 [02:06<00:00,  5.34it/s]\n"
     ]
    },
    {
     "name": "stdout",
     "output_type": "stream",
     "text": [
      "Epoch: 04 | Train Loss: nan | Train Acc: 0.9759 | Val Loss: 0.0778 | Val Acc: 0.9819\n"
     ]
    },
    {
     "name": "stderr",
     "output_type": "stream",
     "text": [
      "Training:  18%|████████████▌                                                        | 612/3368 [00:58<04:18, 10.67it/s]"
     ]
    },
    {
     "name": "stdout",
     "output_type": "stream",
     "text": [
      "--> WARNING: Skipping corrupted file: FakeVsRealDataset(for-original)\\training\\fake\\file5323.mp3\n"
     ]
    },
    {
     "name": "stderr",
     "output_type": "stream",
     "text": [
      "Training:  27%|██████████████████▊                                                  | 917/3368 [01:27<03:31, 11.56it/s]"
     ]
    },
    {
     "name": "stdout",
     "output_type": "stream",
     "text": [
      "--> WARNING: Skipping corrupted file: FakeVsRealDataset(for-original)\\training\\fake\\file15746.mp3\n"
     ]
    },
    {
     "name": "stderr",
     "output_type": "stream",
     "text": [
      "Training:  50%|██████████████████████████████████▏                                 | 1694/3368 [02:46<02:48,  9.91it/s]"
     ]
    },
    {
     "name": "stdout",
     "output_type": "stream",
     "text": [
      "--> WARNING: Skipping corrupted file: FakeVsRealDataset(for-original)\\training\\fake\\file32972.mp3\n"
     ]
    },
    {
     "name": "stderr",
     "output_type": "stream",
     "text": [
      "Training:  53%|████████████████████████████████████                                | 1785/3368 [02:55<02:41,  9.79it/s]"
     ]
    },
    {
     "name": "stdout",
     "output_type": "stream",
     "text": [
      "--> WARNING: Skipping corrupted file: FakeVsRealDataset(for-original)\\training\\fake\\file19851.mp3\n"
     ]
    },
    {
     "name": "stderr",
     "output_type": "stream",
     "text": [
      "Training:  77%|████████████████████████████████████████████████████                | 2578/3368 [04:30<01:34,  8.32it/s]"
     ]
    },
    {
     "name": "stdout",
     "output_type": "stream",
     "text": [
      "--> WARNING: Skipping corrupted file: FakeVsRealDataset(for-original)\\training\\fake\\file17450.mp3\n"
     ]
    },
    {
     "name": "stderr",
     "output_type": "stream",
     "text": [
      "Training:  78%|█████████████████████████████████████████████████████               | 2629/3368 [04:37<01:44,  7.10it/s]"
     ]
    },
    {
     "name": "stdout",
     "output_type": "stream",
     "text": [
      "--> WARNING: Skipping corrupted file: FakeVsRealDataset(for-original)\\training\\fake\\file27206.mp3\n"
     ]
    },
    {
     "name": "stderr",
     "output_type": "stream",
     "text": [
      "Training:  82%|████████████████████████████████████████████████████████            | 2775/3368 [05:07<01:48,  5.48it/s]"
     ]
    },
    {
     "name": "stdout",
     "output_type": "stream",
     "text": [
      "--> WARNING: Skipping corrupted file: FakeVsRealDataset(for-original)\\training\\fake\\file13424.mp3\n"
     ]
    },
    {
     "name": "stderr",
     "output_type": "stream",
     "text": [
      "Training:  83%|████████████████████████████████████████████████████████▏           | 2781/3368 [05:08<01:41,  5.80it/s]"
     ]
    },
    {
     "name": "stdout",
     "output_type": "stream",
     "text": [
      "--> WARNING: Skipping corrupted file: FakeVsRealDataset(for-original)\\training\\fake\\file30959.mp3\n"
     ]
    },
    {
     "name": "stderr",
     "output_type": "stream",
     "text": [
      "Training:  85%|██████████████████████████████████████████████████████████          | 2878/3368 [05:30<01:35,  5.11it/s]"
     ]
    },
    {
     "name": "stdout",
     "output_type": "stream",
     "text": [
      "--> WARNING: Skipping corrupted file: FakeVsRealDataset(for-original)\\training\\fake\\file27643.mp3\n"
     ]
    },
    {
     "name": "stderr",
     "output_type": "stream",
     "text": [
      "Training:  88%|████████████████████████████████████████████████████████████        | 2973/3368 [05:51<01:25,  4.63it/s]"
     ]
    },
    {
     "name": "stdout",
     "output_type": "stream",
     "text": [
      "--> WARNING: Skipping corrupted file: FakeVsRealDataset(for-original)\\training\\fake\\file17407.mp3\n"
     ]
    },
    {
     "name": "stderr",
     "output_type": "stream",
     "text": [
      "Training:  91%|██████████████████████████████████████████████████████████████▏     | 3081/3368 [06:16<00:58,  4.94it/s]"
     ]
    },
    {
     "name": "stdout",
     "output_type": "stream",
     "text": [
      "--> WARNING: Skipping corrupted file: FakeVsRealDataset(for-original)\\training\\fake\\file27839.mp3\n"
     ]
    },
    {
     "name": "stderr",
     "output_type": "stream",
     "text": [
      "Training:  92%|██████████████████████████████████████████████████████████████▍     | 3090/3368 [06:18<00:59,  4.69it/s]"
     ]
    },
    {
     "name": "stdout",
     "output_type": "stream",
     "text": [
      "--> WARNING: Skipping corrupted file: FakeVsRealDataset(for-original)\\training\\fake\\file9875.mp3\n"
     ]
    },
    {
     "name": "stderr",
     "output_type": "stream",
     "text": [
      "Training:  95%|████████████████████████████████████████████████████████████████▋   | 3203/3368 [06:45<00:39,  4.14it/s]"
     ]
    },
    {
     "name": "stdout",
     "output_type": "stream",
     "text": [
      "--> WARNING: Skipping corrupted file: FakeVsRealDataset(for-original)\\training\\fake\\file31017.mp3\n"
     ]
    },
    {
     "name": "stderr",
     "output_type": "stream",
     "text": [
      "Training:  99%|███████████████████████████████████████████████████████████████████ | 3322/3368 [07:13<00:09,  4.74it/s]"
     ]
    },
    {
     "name": "stdout",
     "output_type": "stream",
     "text": [
      "--> WARNING: Skipping corrupted file: FakeVsRealDataset(for-original)\\training\\fake\\file16643.mp3\n"
     ]
    },
    {
     "name": "stderr",
     "output_type": "stream",
     "text": [
      "Training: 100%|████████████████████████████████████████████████████████████████████| 3368/3368 [07:24<00:00,  7.58it/s]\n",
      "Evaluating:  15%|██████████                                                          | 100/675 [00:17<01:32,  6.25it/s]"
     ]
    },
    {
     "name": "stdout",
     "output_type": "stream",
     "text": [
      "--> WARNING: Skipping corrupted file: FakeVsRealDataset(for-original)\\validation\\fake\\file16165.mp3\n"
     ]
    },
    {
     "name": "stderr",
     "output_type": "stream",
     "text": [
      "Evaluating:  37%|█████████████████████████▍                                          | 253/675 [00:44<01:05,  6.40it/s]"
     ]
    },
    {
     "name": "stdout",
     "output_type": "stream",
     "text": [
      "--> WARNING: Skipping corrupted file: FakeVsRealDataset(for-original)\\validation\\fake\\file31606.mp3\n"
     ]
    },
    {
     "name": "stderr",
     "output_type": "stream",
     "text": [
      "Evaluating: 100%|████████████████████████████████████████████████████████████████████| 675/675 [02:03<00:00,  5.47it/s]\n"
     ]
    },
    {
     "name": "stdout",
     "output_type": "stream",
     "text": [
      "Epoch: 05 | Train Loss: nan | Train Acc: 0.9816 | Val Loss: 0.0676 | Val Acc: 0.9832\n"
     ]
    },
    {
     "name": "stderr",
     "output_type": "stream",
     "text": [
      "Training:  31%|█████████████████████▏                                              | 1051/3368 [01:40<03:23, 11.36it/s]"
     ]
    },
    {
     "name": "stdout",
     "output_type": "stream",
     "text": [
      "--> WARNING: Skipping corrupted file: FakeVsRealDataset(for-original)\\training\\fake\\file27643.mp3\n"
     ]
    },
    {
     "name": "stderr",
     "output_type": "stream",
     "text": [
      "Training:  37%|████████████████████████▉                                           | 1236/3368 [01:58<03:17, 10.80it/s]"
     ]
    },
    {
     "name": "stdout",
     "output_type": "stream",
     "text": [
      "--> WARNING: Skipping corrupted file: FakeVsRealDataset(for-original)\\training\\fake\\file5323.mp3\n"
     ]
    },
    {
     "name": "stderr",
     "output_type": "stream",
     "text": [
      "Training:  46%|███████████████████████████████▌                                    | 1561/3368 [02:31<02:49, 10.68it/s]"
     ]
    },
    {
     "name": "stdout",
     "output_type": "stream",
     "text": [
      "--> WARNING: Skipping corrupted file: FakeVsRealDataset(for-original)\\training\\fake\\file17407.mp3\n"
     ]
    },
    {
     "name": "stderr",
     "output_type": "stream",
     "text": [
      "Training:  49%|█████████████████████████████████▏                                  | 1644/3368 [02:39<02:50, 10.10it/s]"
     ]
    },
    {
     "name": "stdout",
     "output_type": "stream",
     "text": [
      "--> WARNING: Skipping corrupted file: FakeVsRealDataset(for-original)\\training\\fake\\file30959.mp3\n"
     ]
    },
    {
     "name": "stderr",
     "output_type": "stream",
     "text": [
      "Training:  58%|███████████████████████████████████████▋                            | 1965/3368 [03:13<02:20,  9.98it/s]"
     ]
    },
    {
     "name": "stdout",
     "output_type": "stream",
     "text": [
      "--> WARNING: Skipping corrupted file: FakeVsRealDataset(for-original)\\training\\fake\\file17450.mp3\n"
     ]
    },
    {
     "name": "stderr",
     "output_type": "stream",
     "text": [
      "Training:  64%|███████████████████████████████████████████▌                        | 2158/3368 [03:34<02:02,  9.84it/s]"
     ]
    },
    {
     "name": "stdout",
     "output_type": "stream",
     "text": [
      "--> WARNING: Skipping corrupted file: FakeVsRealDataset(for-original)\\training\\fake\\file19851.mp3\n"
     ]
    },
    {
     "name": "stderr",
     "output_type": "stream",
     "text": [
      "Training:  64%|███████████████████████████████████████████▊                        | 2169/3368 [03:35<02:07,  9.41it/s]"
     ]
    },
    {
     "name": "stdout",
     "output_type": "stream",
     "text": [
      "--> WARNING: Skipping corrupted file: FakeVsRealDataset(for-original)\\training\\fake\\file13424.mp3\n"
     ]
    },
    {
     "name": "stderr",
     "output_type": "stream",
     "text": [
      "Training:  67%|█████████████████████████████████████████████▊                      | 2270/3368 [03:46<01:57,  9.31it/s]"
     ]
    },
    {
     "name": "stdout",
     "output_type": "stream",
     "text": [
      "--> WARNING: Skipping corrupted file: FakeVsRealDataset(for-original)\\training\\fake\\file27206.mp3\n"
     ]
    },
    {
     "name": "stderr",
     "output_type": "stream",
     "text": [
      "Training:  71%|███████████████████████████████████████████████▉                    | 2376/3368 [03:59<01:51,  8.92it/s]"
     ]
    },
    {
     "name": "stdout",
     "output_type": "stream",
     "text": [
      "--> WARNING: Skipping corrupted file: FakeVsRealDataset(for-original)\\training\\fake\\file27839.mp3\n"
     ]
    },
    {
     "name": "stderr",
     "output_type": "stream",
     "text": [
      "Training:  77%|████████████████████████████████████████████████████▍               | 2599/3368 [04:27<01:32,  8.29it/s]"
     ]
    },
    {
     "name": "stdout",
     "output_type": "stream",
     "text": [
      "--> WARNING: Skipping corrupted file: FakeVsRealDataset(for-original)\\training\\fake\\file32972.mp3\n"
     ]
    },
    {
     "name": "stderr",
     "output_type": "stream",
     "text": [
      "Training:  88%|████████████████████████████████████████████████████████████▏       | 2978/3368 [05:45<01:19,  4.91it/s]"
     ]
    },
    {
     "name": "stdout",
     "output_type": "stream",
     "text": [
      "--> WARNING: Skipping corrupted file: FakeVsRealDataset(for-original)\\training\\fake\\file31017.mp3\n"
     ]
    },
    {
     "name": "stderr",
     "output_type": "stream",
     "text": [
      "Training:  90%|█████████████████████████████████████████████████████████████▏      | 3031/3368 [05:57<01:11,  4.71it/s]"
     ]
    },
    {
     "name": "stdout",
     "output_type": "stream",
     "text": [
      "--> WARNING: Skipping corrupted file: FakeVsRealDataset(for-original)\\training\\fake\\file9875.mp3\n"
     ]
    },
    {
     "name": "stderr",
     "output_type": "stream",
     "text": [
      "Training:  90%|█████████████████████████████████████████████████████████████▍      | 3040/3368 [05:59<01:08,  4.80it/s]"
     ]
    },
    {
     "name": "stdout",
     "output_type": "stream",
     "text": [
      "--> WARNING: Skipping corrupted file: FakeVsRealDataset(for-original)\\training\\fake\\file15746.mp3\n"
     ]
    },
    {
     "name": "stderr",
     "output_type": "stream",
     "text": [
      "Training:  98%|██████████████████████████████████████████████████████████████████▋ | 3303/3368 [07:01<00:13,  4.67it/s]"
     ]
    },
    {
     "name": "stdout",
     "output_type": "stream",
     "text": [
      "--> WARNING: Skipping corrupted file: FakeVsRealDataset(for-original)\\training\\fake\\file16643.mp3\n"
     ]
    },
    {
     "name": "stderr",
     "output_type": "stream",
     "text": [
      "Training: 100%|████████████████████████████████████████████████████████████████████| 3368/3368 [07:17<00:00,  7.71it/s]\n",
      "Evaluating:  15%|██████████                                                          | 100/675 [00:17<01:33,  6.12it/s]"
     ]
    },
    {
     "name": "stdout",
     "output_type": "stream",
     "text": [
      "--> WARNING: Skipping corrupted file: FakeVsRealDataset(for-original)\\validation\\fake\\file16165.mp3\n"
     ]
    },
    {
     "name": "stderr",
     "output_type": "stream",
     "text": [
      "Evaluating:  38%|█████████████████████████▌                                          | 254/675 [00:44<01:12,  5.81it/s]"
     ]
    },
    {
     "name": "stdout",
     "output_type": "stream",
     "text": [
      "--> WARNING: Skipping corrupted file: FakeVsRealDataset(for-original)\\validation\\fake\\file31606.mp3\n"
     ]
    },
    {
     "name": "stderr",
     "output_type": "stream",
     "text": [
      "Evaluating: 100%|████████████████████████████████████████████████████████████████████| 675/675 [02:02<00:00,  5.52it/s]\n"
     ]
    },
    {
     "name": "stdout",
     "output_type": "stream",
     "text": [
      "Epoch: 06 | Train Loss: nan | Train Acc: 0.9841 | Val Loss: 0.0484 | Val Acc: 0.9901\n"
     ]
    },
    {
     "name": "stderr",
     "output_type": "stream",
     "text": [
      "Training:  16%|██████████▉                                                          | 534/3368 [00:49<04:34, 10.33it/s]"
     ]
    },
    {
     "name": "stdout",
     "output_type": "stream",
     "text": [
      "--> WARNING: Skipping corrupted file: FakeVsRealDataset(for-original)\\training\\fake\\file27839.mp3\n"
     ]
    },
    {
     "name": "stderr",
     "output_type": "stream",
     "text": [
      "Training:  21%|██████████████▏                                                      | 691/3368 [01:04<04:05, 10.89it/s]"
     ]
    },
    {
     "name": "stdout",
     "output_type": "stream",
     "text": [
      "--> WARNING: Skipping corrupted file: FakeVsRealDataset(for-original)\\training\\fake\\file16643.mp3\n"
     ]
    },
    {
     "name": "stderr",
     "output_type": "stream",
     "text": [
      "Training:  30%|████████████████████▎                                               | 1005/3368 [01:34<03:34, 11.03it/s]"
     ]
    },
    {
     "name": "stdout",
     "output_type": "stream",
     "text": [
      "--> WARNING: Skipping corrupted file: FakeVsRealDataset(for-original)\\training\\fake\\file27206.mp3\n"
     ]
    },
    {
     "name": "stderr",
     "output_type": "stream",
     "text": [
      "Training:  33%|██████████████████████▎                                             | 1107/3368 [01:44<03:23, 11.14it/s]"
     ]
    },
    {
     "name": "stdout",
     "output_type": "stream",
     "text": [
      "--> WARNING: Skipping corrupted file: FakeVsRealDataset(for-original)\\training\\fake\\file5323.mp3\n"
     ]
    },
    {
     "name": "stderr",
     "output_type": "stream",
     "text": [
      "Training:  34%|███████████████████████                                             | 1141/3368 [01:47<03:25, 10.84it/s]"
     ]
    },
    {
     "name": "stdout",
     "output_type": "stream",
     "text": [
      "--> WARNING: Skipping corrupted file: FakeVsRealDataset(for-original)\\training\\fake\\file19851.mp3\n"
     ]
    },
    {
     "name": "stderr",
     "output_type": "stream",
     "text": [
      "Training:  47%|███████████████████████████████▋                                    | 1568/3368 [02:30<02:47, 10.73it/s]"
     ]
    },
    {
     "name": "stdout",
     "output_type": "stream",
     "text": [
      "--> WARNING: Skipping corrupted file: FakeVsRealDataset(for-original)\\training\\fake\\file17407.mp3\n"
     ]
    },
    {
     "name": "stderr",
     "output_type": "stream",
     "text": [
      "Training:  47%|███████████████████████████████▊                                    | 1578/3368 [02:31<02:51, 10.42it/s]"
     ]
    },
    {
     "name": "stdout",
     "output_type": "stream",
     "text": [
      "--> WARNING: Skipping corrupted file: FakeVsRealDataset(for-original)\\training\\fake\\file32972.mp3\n"
     ]
    },
    {
     "name": "stderr",
     "output_type": "stream",
     "text": [
      "Training:  63%|███████████████████████████████████████████                         | 2131/3368 [03:30<02:08,  9.61it/s]"
     ]
    },
    {
     "name": "stdout",
     "output_type": "stream",
     "text": [
      "--> WARNING: Skipping corrupted file: FakeVsRealDataset(for-original)\\training\\fake\\file30959.mp3\n"
     ]
    },
    {
     "name": "stderr",
     "output_type": "stream",
     "text": [
      "Training:  70%|███████████████████████████████████████████████▌                    | 2353/3368 [03:57<01:47,  9.42it/s]"
     ]
    },
    {
     "name": "stdout",
     "output_type": "stream",
     "text": [
      "--> WARNING: Skipping corrupted file: FakeVsRealDataset(for-original)\\training\\fake\\file13424.mp3\n"
     ]
    },
    {
     "name": "stderr",
     "output_type": "stream",
     "text": [
      "Training:  75%|██████████████████████████████████████████████████▉                 | 2520/3368 [04:17<01:54,  7.40it/s]"
     ]
    },
    {
     "name": "stdout",
     "output_type": "stream",
     "text": [
      "--> WARNING: Skipping corrupted file: FakeVsRealDataset(for-original)\\training\\fake\\file9875.mp3\n"
     ]
    },
    {
     "name": "stderr",
     "output_type": "stream",
     "text": [
      "Training:  76%|███████████████████████████████████████████████████▊                | 2564/3368 [04:23<02:19,  5.75it/s]"
     ]
    },
    {
     "name": "stdout",
     "output_type": "stream",
     "text": [
      "--> WARNING: Skipping corrupted file: FakeVsRealDataset(for-original)\\training\\fake\\file31017.mp3\n"
     ]
    },
    {
     "name": "stderr",
     "output_type": "stream",
     "text": [
      "Training:  85%|█████████████████████████████████████████████████████████▊          | 2863/3368 [05:23<01:45,  4.78it/s]"
     ]
    },
    {
     "name": "stdout",
     "output_type": "stream",
     "text": [
      "--> WARNING: Skipping corrupted file: FakeVsRealDataset(for-original)\\training\\fake\\file15746.mp3\n"
     ]
    },
    {
     "name": "stderr",
     "output_type": "stream",
     "text": [
      "Training:  87%|███████████████████████████████████████████████████████████         | 2924/3368 [05:37<01:33,  4.73it/s]"
     ]
    },
    {
     "name": "stdout",
     "output_type": "stream",
     "text": [
      "--> WARNING: Skipping corrupted file: FakeVsRealDataset(for-original)\\training\\fake\\file17450.mp3\n"
     ]
    },
    {
     "name": "stderr",
     "output_type": "stream",
     "text": [
      "Training:  95%|████████████████████████████████████████████████████████████████▋   | 3205/3368 [06:43<00:34,  4.79it/s]"
     ]
    },
    {
     "name": "stdout",
     "output_type": "stream",
     "text": [
      "--> WARNING: Skipping corrupted file: FakeVsRealDataset(for-original)\\training\\fake\\file27643.mp3\n"
     ]
    },
    {
     "name": "stderr",
     "output_type": "stream",
     "text": [
      "Training: 100%|████████████████████████████████████████████████████████████████████| 3368/3368 [07:21<00:00,  7.62it/s]\n",
      "Evaluating:  15%|██████████                                                          | 100/675 [00:17<01:32,  6.19it/s]"
     ]
    },
    {
     "name": "stdout",
     "output_type": "stream",
     "text": [
      "--> WARNING: Skipping corrupted file: FakeVsRealDataset(for-original)\\validation\\fake\\file16165.mp3\n"
     ]
    },
    {
     "name": "stderr",
     "output_type": "stream",
     "text": [
      "Evaluating:  37%|█████████████████████████▍                                          | 253/675 [00:43<01:00,  6.98it/s]"
     ]
    },
    {
     "name": "stdout",
     "output_type": "stream",
     "text": [
      "--> WARNING: Skipping corrupted file: FakeVsRealDataset(for-original)\\validation\\fake\\file31606.mp3\n"
     ]
    },
    {
     "name": "stderr",
     "output_type": "stream",
     "text": [
      "Evaluating: 100%|████████████████████████████████████████████████████████████████████| 675/675 [02:02<00:00,  5.50it/s]\n"
     ]
    },
    {
     "name": "stdout",
     "output_type": "stream",
     "text": [
      "Epoch: 07 | Train Loss: nan | Train Acc: 0.9876 | Val Loss: 0.0277 | Val Acc: 0.9916\n"
     ]
    },
    {
     "name": "stderr",
     "output_type": "stream",
     "text": [
      "Training:   3%|██▎                                                                  | 113/3368 [00:10<04:18, 12.61it/s]"
     ]
    },
    {
     "name": "stdout",
     "output_type": "stream",
     "text": [
      "--> WARNING: Skipping corrupted file: FakeVsRealDataset(for-original)\\training\\fake\\file27206.mp3\n"
     ]
    },
    {
     "name": "stderr",
     "output_type": "stream",
     "text": [
      "Training:   4%|██▊                                                                  | 135/3368 [00:12<04:13, 12.75it/s]"
     ]
    },
    {
     "name": "stdout",
     "output_type": "stream",
     "text": [
      "--> WARNING: Skipping corrupted file: FakeVsRealDataset(for-original)\\training\\fake\\file30959.mp3\n"
     ]
    },
    {
     "name": "stderr",
     "output_type": "stream",
     "text": [
      "Training:   6%|████▏                                                                | 205/3368 [00:18<04:54, 10.76it/s]"
     ]
    },
    {
     "name": "stdout",
     "output_type": "stream",
     "text": [
      "--> WARNING: Skipping corrupted file: FakeVsRealDataset(for-original)\\training\\fake\\file17450.mp3\n"
     ]
    },
    {
     "name": "stderr",
     "output_type": "stream",
     "text": [
      "Training:  18%|████████████▋                                                        | 618/3368 [00:57<04:02, 11.33it/s]"
     ]
    },
    {
     "name": "stdout",
     "output_type": "stream",
     "text": [
      "--> WARNING: Skipping corrupted file: FakeVsRealDataset(for-original)\\training\\fake\\file15746.mp3\n"
     ]
    },
    {
     "name": "stderr",
     "output_type": "stream",
     "text": [
      "Training:  31%|█████████████████████▏                                              | 1048/3368 [01:38<03:48, 10.15it/s]"
     ]
    },
    {
     "name": "stdout",
     "output_type": "stream",
     "text": [
      "--> WARNING: Skipping corrupted file: FakeVsRealDataset(for-original)\\training\\fake\\file17407.mp3\n"
     ]
    },
    {
     "name": "stderr",
     "output_type": "stream",
     "text": [
      "Training:  33%|██████████████████████▎                                             | 1108/3368 [01:44<03:28, 10.83it/s]"
     ]
    },
    {
     "name": "stdout",
     "output_type": "stream",
     "text": [
      "--> WARNING: Skipping corrupted file: FakeVsRealDataset(for-original)\\training\\fake\\file31017.mp3\n"
     ]
    },
    {
     "name": "stderr",
     "output_type": "stream",
     "text": [
      "Training:  33%|██████████████████████▋                                             | 1122/3368 [01:45<03:36, 10.37it/s]"
     ]
    },
    {
     "name": "stdout",
     "output_type": "stream",
     "text": [
      "--> WARNING: Skipping corrupted file: FakeVsRealDataset(for-original)\\training\\fake\\file16643.mp3\n"
     ]
    },
    {
     "name": "stderr",
     "output_type": "stream",
     "text": [
      "Training:  37%|█████████████████████████▏                                          | 1250/3368 [01:57<03:08, 11.25it/s]"
     ]
    },
    {
     "name": "stdout",
     "output_type": "stream",
     "text": [
      "--> WARNING: Skipping corrupted file: FakeVsRealDataset(for-original)\\training\\fake\\file27643.mp3\n"
     ]
    },
    {
     "name": "stderr",
     "output_type": "stream",
     "text": [
      "Training:  41%|███████████████████████████▊                                        | 1379/3368 [02:10<03:08, 10.53it/s]"
     ]
    },
    {
     "name": "stdout",
     "output_type": "stream",
     "text": [
      "--> WARNING: Skipping corrupted file: FakeVsRealDataset(for-original)\\training\\fake\\file19851.mp3\n"
     ]
    },
    {
     "name": "stderr",
     "output_type": "stream",
     "text": [
      "Training:  45%|██████████████████████████████▎                                     | 1501/3368 [02:23<02:56, 10.57it/s]"
     ]
    },
    {
     "name": "stdout",
     "output_type": "stream",
     "text": [
      "--> WARNING: Skipping corrupted file: FakeVsRealDataset(for-original)\\training\\fake\\file5323.mp3\n"
     ]
    },
    {
     "name": "stderr",
     "output_type": "stream",
     "text": [
      "Training:  51%|██████████████████████████████████▎                                 | 1702/3368 [02:44<02:32, 10.90it/s]"
     ]
    },
    {
     "name": "stdout",
     "output_type": "stream",
     "text": [
      "--> WARNING: Skipping corrupted file: FakeVsRealDataset(for-original)\\training\\fake\\file32972.mp3\n"
     ]
    },
    {
     "name": "stderr",
     "output_type": "stream",
     "text": [
      "Training:  54%|████████████████████████████████████▉                               | 1832/3368 [02:58<02:31, 10.13it/s]"
     ]
    },
    {
     "name": "stdout",
     "output_type": "stream",
     "text": [
      "--> WARNING: Skipping corrupted file: FakeVsRealDataset(for-original)\\training\\fake\\file9875.mp3\n"
     ]
    },
    {
     "name": "stderr",
     "output_type": "stream",
     "text": [
      "Training:  60%|████████████████████████████████████████▌                           | 2012/3368 [03:18<02:49,  8.00it/s]"
     ]
    },
    {
     "name": "stdout",
     "output_type": "stream",
     "text": [
      "--> WARNING: Skipping corrupted file: FakeVsRealDataset(for-original)\\training\\fake\\file27839.mp3\n"
     ]
    },
    {
     "name": "stderr",
     "output_type": "stream",
     "text": [
      "Training:  88%|███████████████████████████████████████████████████████████▊        | 2964/3368 [05:43<01:23,  4.81it/s]"
     ]
    },
    {
     "name": "stdout",
     "output_type": "stream",
     "text": [
      "--> WARNING: Skipping corrupted file: FakeVsRealDataset(for-original)\\training\\fake\\file13424.mp3\n"
     ]
    },
    {
     "name": "stderr",
     "output_type": "stream",
     "text": [
      "Training: 100%|████████████████████████████████████████████████████████████████████| 3368/3368 [07:18<00:00,  7.68it/s]\n",
      "Evaluating:  15%|██████████                                                          | 100/675 [00:17<01:33,  6.16it/s]"
     ]
    },
    {
     "name": "stdout",
     "output_type": "stream",
     "text": [
      "--> WARNING: Skipping corrupted file: FakeVsRealDataset(for-original)\\validation\\fake\\file16165.mp3\n"
     ]
    },
    {
     "name": "stderr",
     "output_type": "stream",
     "text": [
      "Evaluating:  37%|█████████████████████████▍                                          | 253/675 [00:43<01:06,  6.38it/s]"
     ]
    },
    {
     "name": "stdout",
     "output_type": "stream",
     "text": [
      "--> WARNING: Skipping corrupted file: FakeVsRealDataset(for-original)\\validation\\fake\\file31606.mp3\n"
     ]
    },
    {
     "name": "stderr",
     "output_type": "stream",
     "text": [
      "Evaluating: 100%|████████████████████████████████████████████████████████████████████| 675/675 [02:05<00:00,  5.36it/s]\n"
     ]
    },
    {
     "name": "stdout",
     "output_type": "stream",
     "text": [
      "Epoch: 08 | Train Loss: nan | Train Acc: 0.9870 | Val Loss: 0.0871 | Val Acc: 0.9910\n"
     ]
    },
    {
     "name": "stderr",
     "output_type": "stream",
     "text": [
      "Training:   3%|██▎                                                                  | 111/3368 [00:10<04:37, 11.73it/s]"
     ]
    },
    {
     "name": "stdout",
     "output_type": "stream",
     "text": [
      "--> WARNING: Skipping corrupted file: FakeVsRealDataset(for-original)\\training\\fake\\file27643.mp3\n"
     ]
    },
    {
     "name": "stderr",
     "output_type": "stream",
     "text": [
      "Training:  21%|██████████████▎                                                      | 698/3368 [01:05<03:51, 11.53it/s]"
     ]
    },
    {
     "name": "stdout",
     "output_type": "stream",
     "text": [
      "--> WARNING: Skipping corrupted file: FakeVsRealDataset(for-original)\\training\\fake\\file17407.mp3\n"
     ]
    },
    {
     "name": "stderr",
     "output_type": "stream",
     "text": [
      "Training:  24%|████████████████▍                                                    | 802/3368 [01:16<03:42, 11.55it/s]"
     ]
    },
    {
     "name": "stdout",
     "output_type": "stream",
     "text": [
      "--> WARNING: Skipping corrupted file: FakeVsRealDataset(for-original)\\training\\fake\\file27839.mp3\n"
     ]
    },
    {
     "name": "stderr",
     "output_type": "stream",
     "text": [
      "Training:  27%|██████████████████▊                                                  | 916/3368 [01:27<03:41, 11.05it/s]"
     ]
    },
    {
     "name": "stdout",
     "output_type": "stream",
     "text": [
      "--> WARNING: Skipping corrupted file: FakeVsRealDataset(for-original)\\training\\fake\\file5323.mp3\n"
     ]
    },
    {
     "name": "stderr",
     "output_type": "stream",
     "text": [
      "Training:  31%|████████████████████▊                                               | 1032/3368 [01:38<03:29, 11.16it/s]"
     ]
    },
    {
     "name": "stdout",
     "output_type": "stream",
     "text": [
      "--> WARNING: Skipping corrupted file: FakeVsRealDataset(for-original)\\training\\fake\\file31017.mp3\n"
     ]
    },
    {
     "name": "stderr",
     "output_type": "stream",
     "text": [
      "Training:  41%|███████████████████████████▌                                        | 1365/3368 [02:12<03:37,  9.23it/s]"
     ]
    },
    {
     "name": "stdout",
     "output_type": "stream",
     "text": [
      "--> WARNING: Skipping corrupted file: FakeVsRealDataset(for-original)\\training\\fake\\file19851.mp3\n"
     ]
    },
    {
     "name": "stderr",
     "output_type": "stream",
     "text": [
      "Training:  46%|███████████████████████████████▍                                    | 1554/3368 [02:32<03:21,  8.99it/s]"
     ]
    },
    {
     "name": "stdout",
     "output_type": "stream",
     "text": [
      "--> WARNING: Skipping corrupted file: FakeVsRealDataset(for-original)\\training\\fake\\file16643.mp3\n"
     ]
    },
    {
     "name": "stderr",
     "output_type": "stream",
     "text": [
      "Training:  52%|███████████████████████████████████                                 | 1736/3368 [02:52<02:48,  9.71it/s]"
     ]
    },
    {
     "name": "stdout",
     "output_type": "stream",
     "text": [
      "--> WARNING: Skipping corrupted file: FakeVsRealDataset(for-original)\\training\\fake\\file27206.mp3\n"
     ]
    },
    {
     "name": "stderr",
     "output_type": "stream",
     "text": [
      "Training:  73%|█████████████████████████████████████████████████▋                  | 2461/3368 [04:19<01:56,  7.81it/s]"
     ]
    },
    {
     "name": "stdout",
     "output_type": "stream",
     "text": [
      "--> WARNING: Skipping corrupted file: FakeVsRealDataset(for-original)\\training\\fake\\file32972.mp3\n"
     ]
    },
    {
     "name": "stderr",
     "output_type": "stream",
     "text": [
      "Training:  80%|██████████████████████████████████████████████████████▋             | 2711/3368 [05:01<02:12,  4.96it/s]"
     ]
    },
    {
     "name": "stdout",
     "output_type": "stream",
     "text": [
      "--> WARNING: Skipping corrupted file: FakeVsRealDataset(for-original)\\training\\fake\\file9875.mp3\n"
     ]
    },
    {
     "name": "stderr",
     "output_type": "stream",
     "text": [
      "Training:  89%|████████████████████████████████████████████████████████████▋       | 3008/3368 [06:08<01:17,  4.63it/s]"
     ]
    },
    {
     "name": "stdout",
     "output_type": "stream",
     "text": [
      "--> WARNING: Skipping corrupted file: FakeVsRealDataset(for-original)\\training\\fake\\file15746.mp3\n"
     ]
    },
    {
     "name": "stderr",
     "output_type": "stream",
     "text": [
      "Training:  91%|█████████████████████████████████████████████████████████████▌      | 3050/3368 [06:18<01:07,  4.68it/s]"
     ]
    },
    {
     "name": "stdout",
     "output_type": "stream",
     "text": [
      "--> WARNING: Skipping corrupted file: FakeVsRealDataset(for-original)\\training\\fake\\file30959.mp3\n"
     ]
    },
    {
     "name": "stderr",
     "output_type": "stream",
     "text": [
      "Training:  94%|███████████████████████████████████████████████████████████████▉    | 3167/3368 [06:46<00:41,  4.83it/s]"
     ]
    },
    {
     "name": "stdout",
     "output_type": "stream",
     "text": [
      "--> WARNING: Skipping corrupted file: FakeVsRealDataset(for-original)\\training\\fake\\file17450.mp3\n"
     ]
    },
    {
     "name": "stderr",
     "output_type": "stream",
     "text": [
      "Training:  95%|████████████████████████████████████████████████████████████████▌   | 3198/3368 [06:53<00:35,  4.79it/s]"
     ]
    },
    {
     "name": "stdout",
     "output_type": "stream",
     "text": [
      "--> WARNING: Skipping corrupted file: FakeVsRealDataset(for-original)\\training\\fake\\file13424.mp3\n"
     ]
    },
    {
     "name": "stderr",
     "output_type": "stream",
     "text": [
      "Training: 100%|████████████████████████████████████████████████████████████████████| 3368/3368 [07:33<00:00,  7.43it/s]\n",
      "Evaluating:  15%|██████████                                                          | 100/675 [00:17<01:33,  6.13it/s]"
     ]
    },
    {
     "name": "stdout",
     "output_type": "stream",
     "text": [
      "--> WARNING: Skipping corrupted file: FakeVsRealDataset(for-original)\\validation\\fake\\file16165.mp3\n"
     ]
    },
    {
     "name": "stderr",
     "output_type": "stream",
     "text": [
      "Evaluating:  37%|█████████████████████████▍                                          | 253/675 [00:44<01:05,  6.44it/s]"
     ]
    },
    {
     "name": "stdout",
     "output_type": "stream",
     "text": [
      "--> WARNING: Skipping corrupted file: FakeVsRealDataset(for-original)\\validation\\fake\\file31606.mp3\n"
     ]
    },
    {
     "name": "stderr",
     "output_type": "stream",
     "text": [
      "Evaluating: 100%|████████████████████████████████████████████████████████████████████| 675/675 [02:06<00:00,  5.33it/s]\n"
     ]
    },
    {
     "name": "stdout",
     "output_type": "stream",
     "text": [
      "Epoch: 09 | Train Loss: nan | Train Acc: 0.9884 | Val Loss: 0.0400 | Val Acc: 0.9937\n"
     ]
    },
    {
     "name": "stderr",
     "output_type": "stream",
     "text": [
      "Training:   5%|███                                                                  | 152/3368 [00:14<04:32, 11.82it/s]"
     ]
    },
    {
     "name": "stdout",
     "output_type": "stream",
     "text": [
      "--> WARNING: Skipping corrupted file: FakeVsRealDataset(for-original)\\training\\fake\\file32972.mp3\n"
     ]
    },
    {
     "name": "stderr",
     "output_type": "stream",
     "text": [
      "Training:  24%|████████████████▎                                                    | 796/3368 [01:15<03:45, 11.41it/s]"
     ]
    },
    {
     "name": "stdout",
     "output_type": "stream",
     "text": [
      "--> WARNING: Skipping corrupted file: FakeVsRealDataset(for-original)\\training\\fake\\file17450.mp3\n"
     ]
    },
    {
     "name": "stderr",
     "output_type": "stream",
     "text": [
      "Training:  36%|████████████████████████▍                                           | 1212/3368 [01:55<03:15, 11.05it/s]"
     ]
    },
    {
     "name": "stdout",
     "output_type": "stream",
     "text": [
      "--> WARNING: Skipping corrupted file: FakeVsRealDataset(for-original)\\training\\fake\\file27839.mp3\n"
     ]
    },
    {
     "name": "stderr",
     "output_type": "stream",
     "text": [
      "Training:  39%|██████████████████████████▊                                         | 1326/3368 [02:06<03:10, 10.71it/s]"
     ]
    },
    {
     "name": "stdout",
     "output_type": "stream",
     "text": [
      "--> WARNING: Skipping corrupted file: FakeVsRealDataset(for-original)\\training\\fake\\file5323.mp3\n"
     ]
    },
    {
     "name": "stderr",
     "output_type": "stream",
     "text": [
      "Training:  44%|█████████████████████████████▊                                      | 1476/3368 [02:21<03:04, 10.27it/s]"
     ]
    },
    {
     "name": "stdout",
     "output_type": "stream",
     "text": [
      "--> WARNING: Skipping corrupted file: FakeVsRealDataset(for-original)\\training\\fake\\file17407.mp3\n"
     ]
    },
    {
     "name": "stderr",
     "output_type": "stream",
     "text": [
      "Training:  45%|██████████████████████████████▉                                     | 1530/3368 [02:27<02:49, 10.86it/s]"
     ]
    },
    {
     "name": "stdout",
     "output_type": "stream",
     "text": [
      "--> WARNING: Skipping corrupted file: FakeVsRealDataset(for-original)\\training\\fake\\file27643.mp3\n"
     ]
    },
    {
     "name": "stderr",
     "output_type": "stream",
     "text": [
      "Training:  46%|███████████████████████████████▌                                    | 1565/3368 [02:30<02:54, 10.34it/s]"
     ]
    },
    {
     "name": "stdout",
     "output_type": "stream",
     "text": [
      "--> WARNING: Skipping corrupted file: FakeVsRealDataset(for-original)\\training\\fake\\file15746.mp3\n",
      "--> WARNING: Skipping corrupted file: FakeVsRealDataset(for-original)\\training\\fake\\file9875.mp3\n"
     ]
    },
    {
     "name": "stderr",
     "output_type": "stream",
     "text": [
      "Training:  49%|█████████████████████████████████                                   | 1640/3368 [02:38<02:35, 11.12it/s]"
     ]
    },
    {
     "name": "stdout",
     "output_type": "stream",
     "text": [
      "--> WARNING: Skipping corrupted file: FakeVsRealDataset(for-original)\\training\\fake\\file31017.mp3\n"
     ]
    },
    {
     "name": "stderr",
     "output_type": "stream",
     "text": [
      "Training:  68%|██████████████████████████████████████████████▎                     | 2291/3368 [03:50<01:46, 10.15it/s]"
     ]
    },
    {
     "name": "stdout",
     "output_type": "stream",
     "text": [
      "--> WARNING: Skipping corrupted file: FakeVsRealDataset(for-original)\\training\\fake\\file30959.mp3\n"
     ]
    },
    {
     "name": "stderr",
     "output_type": "stream",
     "text": [
      "Training:  69%|███████████████████████████████████████████████                     | 2329/3368 [03:54<01:48,  9.55it/s]"
     ]
    },
    {
     "name": "stdout",
     "output_type": "stream",
     "text": [
      "--> WARNING: Skipping corrupted file: FakeVsRealDataset(for-original)\\training\\fake\\file13424.mp3\n"
     ]
    },
    {
     "name": "stderr",
     "output_type": "stream",
     "text": [
      "Training:  77%|████████████████████████████████████████████████████▎               | 2590/3368 [04:27<01:33,  8.30it/s]"
     ]
    },
    {
     "name": "stdout",
     "output_type": "stream",
     "text": [
      "--> WARNING: Skipping corrupted file: FakeVsRealDataset(for-original)\\training\\fake\\file19851.mp3\n"
     ]
    },
    {
     "name": "stderr",
     "output_type": "stream",
     "text": [
      "Training:  82%|███████████████████████████████████████████████████████▍            | 2745/3368 [04:55<01:56,  5.36it/s]"
     ]
    },
    {
     "name": "stdout",
     "output_type": "stream",
     "text": [
      "--> WARNING: Skipping corrupted file: FakeVsRealDataset(for-original)\\training\\fake\\file16643.mp3\n"
     ]
    },
    {
     "name": "stderr",
     "output_type": "stream",
     "text": [
      "Training:  99%|███████████████████████████████████████████████████████████████████▎| 3334/3368 [07:11<00:07,  4.69it/s]"
     ]
    },
    {
     "name": "stdout",
     "output_type": "stream",
     "text": [
      "--> WARNING: Skipping corrupted file: FakeVsRealDataset(for-original)\\training\\fake\\file27206.mp3\n"
     ]
    },
    {
     "name": "stderr",
     "output_type": "stream",
     "text": [
      "Training: 100%|████████████████████████████████████████████████████████████████████| 3368/3368 [07:19<00:00,  7.66it/s]\n",
      "Evaluating:  15%|██████████                                                          | 100/675 [00:18<01:33,  6.13it/s]"
     ]
    },
    {
     "name": "stdout",
     "output_type": "stream",
     "text": [
      "--> WARNING: Skipping corrupted file: FakeVsRealDataset(for-original)\\validation\\fake\\file16165.mp3\n"
     ]
    },
    {
     "name": "stderr",
     "output_type": "stream",
     "text": [
      "Evaluating:  37%|█████████████████████████▍                                          | 253/675 [00:44<01:05,  6.48it/s]"
     ]
    },
    {
     "name": "stdout",
     "output_type": "stream",
     "text": [
      "--> WARNING: Skipping corrupted file: FakeVsRealDataset(for-original)\\validation\\fake\\file31606.mp3\n"
     ]
    },
    {
     "name": "stderr",
     "output_type": "stream",
     "text": [
      "Evaluating: 100%|████████████████████████████████████████████████████████████████████| 675/675 [02:07<00:00,  5.31it/s]\n"
     ]
    },
    {
     "name": "stdout",
     "output_type": "stream",
     "text": [
      "Epoch: 10 | Train Loss: nan | Train Acc: 0.9895 | Val Loss: 0.0351 | Val Acc: 0.9932\n",
      "    -> Learning rate reduced to 0.000100\n"
     ]
    },
    {
     "name": "stderr",
     "output_type": "stream",
     "text": [
      "Training:   2%|█▌                                                                    | 75/3368 [00:07<04:55, 11.15it/s]"
     ]
    },
    {
     "name": "stdout",
     "output_type": "stream",
     "text": [
      "--> WARNING: Skipping corrupted file: FakeVsRealDataset(for-original)\\training\\fake\\file19851.mp3\n"
     ]
    },
    {
     "name": "stderr",
     "output_type": "stream",
     "text": [
      "Training:   4%|███                                                                  | 148/3368 [00:13<04:34, 11.73it/s]"
     ]
    },
    {
     "name": "stdout",
     "output_type": "stream",
     "text": [
      "--> WARNING: Skipping corrupted file: FakeVsRealDataset(for-original)\\training\\fake\\file17407.mp3\n"
     ]
    },
    {
     "name": "stderr",
     "output_type": "stream",
     "text": [
      "Training:  18%|████████████▎                                                        | 603/3368 [00:57<03:57, 11.63it/s]"
     ]
    },
    {
     "name": "stdout",
     "output_type": "stream",
     "text": [
      "--> WARNING: Skipping corrupted file: FakeVsRealDataset(for-original)\\training\\fake\\file9875.mp3\n"
     ]
    },
    {
     "name": "stderr",
     "output_type": "stream",
     "text": [
      "Training:  19%|████████████▊                                                        | 627/3368 [01:00<04:20, 10.50it/s]"
     ]
    },
    {
     "name": "stdout",
     "output_type": "stream",
     "text": [
      "--> WARNING: Skipping corrupted file: FakeVsRealDataset(for-original)\\training\\fake\\file13424.mp3\n"
     ]
    },
    {
     "name": "stderr",
     "output_type": "stream",
     "text": [
      "Training:  34%|██████████████████████▊                                             | 1130/3368 [01:50<03:24, 10.97it/s]"
     ]
    },
    {
     "name": "stdout",
     "output_type": "stream",
     "text": [
      "--> WARNING: Skipping corrupted file: FakeVsRealDataset(for-original)\\training\\fake\\file30959.mp3\n"
     ]
    },
    {
     "name": "stderr",
     "output_type": "stream",
     "text": [
      "Training:  34%|███████████████████████▎                                            | 1156/3368 [01:52<03:21, 11.00it/s]"
     ]
    },
    {
     "name": "stdout",
     "output_type": "stream",
     "text": [
      "--> WARNING: Skipping corrupted file: FakeVsRealDataset(for-original)\\training\\fake\\file17450.mp3\n"
     ]
    },
    {
     "name": "stderr",
     "output_type": "stream",
     "text": [
      "Training:  36%|████████████████████████▌                                           | 1214/3368 [01:58<03:29, 10.26it/s]"
     ]
    },
    {
     "name": "stdout",
     "output_type": "stream",
     "text": [
      "--> WARNING: Skipping corrupted file: FakeVsRealDataset(for-original)\\training\\fake\\file27206.mp3\n"
     ]
    },
    {
     "name": "stderr",
     "output_type": "stream",
     "text": [
      "Training:  46%|███████████████████████████████▏                                    | 1543/3368 [02:32<02:52, 10.59it/s]"
     ]
    },
    {
     "name": "stdout",
     "output_type": "stream",
     "text": [
      "--> WARNING: Skipping corrupted file: FakeVsRealDataset(for-original)\\training\\fake\\file16643.mp3\n"
     ]
    },
    {
     "name": "stderr",
     "output_type": "stream",
     "text": [
      "Training:  61%|█████████████████████████████████████████▋                          | 2065/3368 [03:29<02:13,  9.75it/s]"
     ]
    },
    {
     "name": "stdout",
     "output_type": "stream",
     "text": [
      "--> WARNING: Skipping corrupted file: FakeVsRealDataset(for-original)\\training\\fake\\file15746.mp3\n"
     ]
    },
    {
     "name": "stderr",
     "output_type": "stream",
     "text": [
      "Training:  63%|██████████████████████████████████████████▊                         | 2123/3368 [03:36<02:09,  9.60it/s]"
     ]
    },
    {
     "name": "stdout",
     "output_type": "stream",
     "text": [
      "--> WARNING: Skipping corrupted file: FakeVsRealDataset(for-original)\\training\\fake\\file32972.mp3\n"
     ]
    },
    {
     "name": "stderr",
     "output_type": "stream",
     "text": [
      "Training:  64%|███████████████████████████████████████████▎                        | 2146/3368 [03:38<02:15,  9.01it/s]"
     ]
    },
    {
     "name": "stdout",
     "output_type": "stream",
     "text": [
      "--> WARNING: Skipping corrupted file: FakeVsRealDataset(for-original)\\training\\fake\\file27839.mp3\n"
     ]
    },
    {
     "name": "stderr",
     "output_type": "stream",
     "text": [
      "Training:  68%|██████████████████████████████████████████████▌                     | 2307/3368 [03:58<02:03,  8.59it/s]"
     ]
    },
    {
     "name": "stdout",
     "output_type": "stream",
     "text": [
      "--> WARNING: Skipping corrupted file: FakeVsRealDataset(for-original)\\training\\fake\\file5323.mp3\n"
     ]
    },
    {
     "name": "stderr",
     "output_type": "stream",
     "text": [
      "Training:  77%|████████████████████████████████████████████████████▎               | 2591/3368 [04:39<02:18,  5.62it/s]"
     ]
    },
    {
     "name": "stdout",
     "output_type": "stream",
     "text": [
      "--> WARNING: Skipping corrupted file: FakeVsRealDataset(for-original)\\training\\fake\\file27643.mp3\n"
     ]
    },
    {
     "name": "stderr",
     "output_type": "stream",
     "text": [
      "Training:  98%|██████████████████████████████████████████████████████████████████▋ | 3303/3368 [07:21<00:13,  4.71it/s]"
     ]
    },
    {
     "name": "stdout",
     "output_type": "stream",
     "text": [
      "--> WARNING: Skipping corrupted file: FakeVsRealDataset(for-original)\\training\\fake\\file31017.mp3\n"
     ]
    },
    {
     "name": "stderr",
     "output_type": "stream",
     "text": [
      "Training: 100%|████████████████████████████████████████████████████████████████████| 3368/3368 [07:36<00:00,  7.38it/s]\n",
      "Evaluating:  15%|██████████                                                          | 100/675 [00:17<01:35,  6.03it/s]"
     ]
    },
    {
     "name": "stdout",
     "output_type": "stream",
     "text": [
      "--> WARNING: Skipping corrupted file: FakeVsRealDataset(for-original)\\validation\\fake\\file16165.mp3\n"
     ]
    },
    {
     "name": "stderr",
     "output_type": "stream",
     "text": [
      "Evaluating:  37%|█████████████████████████▍                                          | 253/675 [00:44<01:06,  6.39it/s]"
     ]
    },
    {
     "name": "stdout",
     "output_type": "stream",
     "text": [
      "--> WARNING: Skipping corrupted file: FakeVsRealDataset(for-original)\\validation\\fake\\file31606.mp3\n"
     ]
    },
    {
     "name": "stderr",
     "output_type": "stream",
     "text": [
      "Evaluating: 100%|████████████████████████████████████████████████████████████████████| 675/675 [02:07<00:00,  5.31it/s]\n"
     ]
    },
    {
     "name": "stdout",
     "output_type": "stream",
     "text": [
      "Epoch: 11 | Train Loss: nan | Train Acc: 0.9929 | Val Loss: 0.0471 | Val Acc: 0.9955\n"
     ]
    },
    {
     "name": "stderr",
     "output_type": "stream",
     "text": [
      "Training:  13%|█████████                                                            | 443/3368 [00:41<04:11, 11.62it/s]"
     ]
    },
    {
     "name": "stdout",
     "output_type": "stream",
     "text": [
      "--> WARNING: Skipping corrupted file: FakeVsRealDataset(for-original)\\training\\fake\\file17450.mp3\n"
     ]
    },
    {
     "name": "stderr",
     "output_type": "stream",
     "text": [
      "Training:  21%|██████████████▊                                                      | 721/3368 [01:08<03:59, 11.04it/s]"
     ]
    },
    {
     "name": "stdout",
     "output_type": "stream",
     "text": [
      "--> WARNING: Skipping corrupted file: FakeVsRealDataset(for-original)\\training\\fake\\file9875.mp3\n"
     ]
    },
    {
     "name": "stderr",
     "output_type": "stream",
     "text": [
      "Training:  25%|█████████████████▍                                                   | 849/3368 [01:21<04:13,  9.93it/s]"
     ]
    },
    {
     "name": "stdout",
     "output_type": "stream",
     "text": [
      "--> WARNING: Skipping corrupted file: FakeVsRealDataset(for-original)\\training\\fake\\file30959.mp3\n"
     ]
    },
    {
     "name": "stderr",
     "output_type": "stream",
     "text": [
      "Training:  28%|███████████████████▍                                                 | 946/3368 [01:31<03:33, 11.32it/s]"
     ]
    },
    {
     "name": "stdout",
     "output_type": "stream",
     "text": [
      "--> WARNING: Skipping corrupted file: FakeVsRealDataset(for-original)\\training\\fake\\file27839.mp3\n"
     ]
    },
    {
     "name": "stderr",
     "output_type": "stream",
     "text": [
      "Training:  33%|██████████████████████▎                                             | 1108/3368 [01:47<03:22, 11.17it/s]"
     ]
    },
    {
     "name": "stdout",
     "output_type": "stream",
     "text": [
      "--> WARNING: Skipping corrupted file: FakeVsRealDataset(for-original)\\training\\fake\\file31017.mp3\n"
     ]
    },
    {
     "name": "stderr",
     "output_type": "stream",
     "text": [
      "Training:  40%|███████████████████████████▎                                        | 1353/3368 [02:11<03:18, 10.13it/s]"
     ]
    },
    {
     "name": "stdout",
     "output_type": "stream",
     "text": [
      "--> WARNING: Skipping corrupted file: FakeVsRealDataset(for-original)\\training\\fake\\file5323.mp3\n"
     ]
    },
    {
     "name": "stderr",
     "output_type": "stream",
     "text": [
      "Training:  49%|█████████████████████████████████▏                                  | 1644/3368 [02:42<02:40, 10.71it/s]"
     ]
    },
    {
     "name": "stdout",
     "output_type": "stream",
     "text": [
      "--> WARNING: Skipping corrupted file: FakeVsRealDataset(for-original)\\training\\fake\\file17407.mp3\n"
     ]
    },
    {
     "name": "stderr",
     "output_type": "stream",
     "text": [
      "Training:  55%|█████████████████████████████████████▍                              | 1854/3368 [03:06<02:40,  9.40it/s]"
     ]
    },
    {
     "name": "stdout",
     "output_type": "stream",
     "text": [
      "--> WARNING: Skipping corrupted file: FakeVsRealDataset(for-original)\\training\\fake\\file19851.mp3\n"
     ]
    },
    {
     "name": "stderr",
     "output_type": "stream",
     "text": [
      "Training:  58%|███████████████████████████████████████▎                            | 1950/3368 [03:17<02:26,  9.69it/s]"
     ]
    },
    {
     "name": "stdout",
     "output_type": "stream",
     "text": [
      "--> WARNING: Skipping corrupted file: FakeVsRealDataset(for-original)\\training\\fake\\file16643.mp3\n"
     ]
    },
    {
     "name": "stderr",
     "output_type": "stream",
     "text": [
      "Training:  58%|███████████████████████████████████████▋                            | 1967/3368 [03:19<02:16, 10.26it/s]"
     ]
    },
    {
     "name": "stdout",
     "output_type": "stream",
     "text": [
      "--> WARNING: Skipping corrupted file: FakeVsRealDataset(for-original)\\training\\fake\\file27206.mp3\n"
     ]
    },
    {
     "name": "stderr",
     "output_type": "stream",
     "text": [
      "Training:  71%|████████████████████████████████████████████████▌                   | 2407/3368 [04:14<01:48,  8.82it/s]"
     ]
    },
    {
     "name": "stdout",
     "output_type": "stream",
     "text": [
      "--> WARNING: Skipping corrupted file: FakeVsRealDataset(for-original)\\training\\fake\\file15746.mp3\n"
     ]
    },
    {
     "name": "stderr",
     "output_type": "stream",
     "text": [
      "Training:  74%|██████████████████████████████████████████████████▎                 | 2495/3368 [04:26<01:53,  7.70it/s]"
     ]
    },
    {
     "name": "stdout",
     "output_type": "stream",
     "text": [
      "--> WARNING: Skipping corrupted file: FakeVsRealDataset(for-original)\\training\\fake\\file27643.mp3\n"
     ]
    },
    {
     "name": "stderr",
     "output_type": "stream",
     "text": [
      "Training:  91%|█████████████████████████████████████████████████████████████▊      | 3060/3368 [06:26<01:06,  4.67it/s]"
     ]
    },
    {
     "name": "stdout",
     "output_type": "stream",
     "text": [
      "--> WARNING: Skipping corrupted file: FakeVsRealDataset(for-original)\\training\\fake\\file32972.mp3\n"
     ]
    },
    {
     "name": "stderr",
     "output_type": "stream",
     "text": [
      "Training:  96%|█████████████████████████████████████████████████████████████████▏  | 3229/3368 [07:05<00:29,  4.79it/s]"
     ]
    },
    {
     "name": "stdout",
     "output_type": "stream",
     "text": [
      "--> WARNING: Skipping corrupted file: FakeVsRealDataset(for-original)\\training\\fake\\file13424.mp3\n"
     ]
    },
    {
     "name": "stderr",
     "output_type": "stream",
     "text": [
      "Training: 100%|████████████████████████████████████████████████████████████████████| 3368/3368 [07:38<00:00,  7.34it/s]\n",
      "Evaluating:  15%|██████████                                                          | 100/675 [00:17<01:33,  6.17it/s]"
     ]
    },
    {
     "name": "stdout",
     "output_type": "stream",
     "text": [
      "--> WARNING: Skipping corrupted file: FakeVsRealDataset(for-original)\\validation\\fake\\file16165.mp3\n"
     ]
    },
    {
     "name": "stderr",
     "output_type": "stream",
     "text": [
      "Evaluating:  37%|█████████████████████████▍                                          | 253/675 [00:44<01:04,  6.49it/s]"
     ]
    },
    {
     "name": "stdout",
     "output_type": "stream",
     "text": [
      "--> WARNING: Skipping corrupted file: FakeVsRealDataset(for-original)\\validation\\fake\\file31606.mp3\n"
     ]
    },
    {
     "name": "stderr",
     "output_type": "stream",
     "text": [
      "Evaluating: 100%|████████████████████████████████████████████████████████████████████| 675/675 [02:06<00:00,  5.34it/s]\n"
     ]
    },
    {
     "name": "stdout",
     "output_type": "stream",
     "text": [
      "Epoch: 12 | Train Loss: nan | Train Acc: 0.9938 | Val Loss: 0.0415 | Val Acc: 0.9956\n"
     ]
    },
    {
     "name": "stderr",
     "output_type": "stream",
     "text": [
      "Training:   2%|█                                                                     | 54/3368 [00:05<04:55, 11.21it/s]"
     ]
    },
    {
     "name": "stdout",
     "output_type": "stream",
     "text": [
      "--> WARNING: Skipping corrupted file: FakeVsRealDataset(for-original)\\training\\fake\\file27206.mp3\n"
     ]
    },
    {
     "name": "stderr",
     "output_type": "stream",
     "text": [
      "Training:   9%|██████▎                                                              | 308/3368 [00:28<04:35, 11.11it/s]"
     ]
    },
    {
     "name": "stdout",
     "output_type": "stream",
     "text": [
      "--> WARNING: Skipping corrupted file: FakeVsRealDataset(for-original)\\training\\fake\\file13424.mp3\n"
     ]
    },
    {
     "name": "stderr",
     "output_type": "stream",
     "text": [
      "Training:  28%|███████████████████▍                                                 | 947/3368 [01:30<03:35, 11.26it/s]"
     ]
    },
    {
     "name": "stdout",
     "output_type": "stream",
     "text": [
      "--> WARNING: Skipping corrupted file: FakeVsRealDataset(for-original)\\training\\fake\\file17407.mp3\n"
     ]
    },
    {
     "name": "stderr",
     "output_type": "stream",
     "text": [
      "Training:  29%|███████████████████▊                                                 | 966/3368 [01:32<03:53, 10.29it/s]"
     ]
    },
    {
     "name": "stdout",
     "output_type": "stream",
     "text": [
      "--> WARNING: Skipping corrupted file: FakeVsRealDataset(for-original)\\training\\fake\\file27643.mp3\n"
     ]
    },
    {
     "name": "stderr",
     "output_type": "stream",
     "text": [
      "Training:  38%|█████████████████████████▋                                          | 1275/3368 [02:03<03:15, 10.71it/s]"
     ]
    },
    {
     "name": "stdout",
     "output_type": "stream",
     "text": [
      "--> WARNING: Skipping corrupted file: FakeVsRealDataset(for-original)\\training\\fake\\file9875.mp3\n"
     ]
    },
    {
     "name": "stderr",
     "output_type": "stream",
     "text": [
      "Training:  41%|████████████████████████████                                        | 1391/3368 [02:14<02:54, 11.35it/s]"
     ]
    },
    {
     "name": "stdout",
     "output_type": "stream",
     "text": [
      "--> WARNING: Skipping corrupted file: FakeVsRealDataset(for-original)\\training\\fake\\file17450.mp3\n"
     ]
    },
    {
     "name": "stderr",
     "output_type": "stream",
     "text": [
      "Training:  49%|█████████████████████████████████▎                                  | 1652/3368 [02:41<02:32, 11.26it/s]"
     ]
    },
    {
     "name": "stdout",
     "output_type": "stream",
     "text": [
      "--> WARNING: Skipping corrupted file: FakeVsRealDataset(for-original)\\training\\fake\\file32972.mp3\n"
     ]
    },
    {
     "name": "stderr",
     "output_type": "stream",
     "text": [
      "Training:  56%|██████████████████████████████████████                              | 1885/3368 [03:07<02:32,  9.72it/s]"
     ]
    },
    {
     "name": "stdout",
     "output_type": "stream",
     "text": [
      "--> WARNING: Skipping corrupted file: FakeVsRealDataset(for-original)\\training\\fake\\file30959.mp3\n"
     ]
    },
    {
     "name": "stderr",
     "output_type": "stream",
     "text": [
      "Training:  61%|█████████████████████████████████████████▎                          | 2046/3368 [03:25<02:26,  9.03it/s]"
     ]
    },
    {
     "name": "stdout",
     "output_type": "stream",
     "text": [
      "--> WARNING: Skipping corrupted file: FakeVsRealDataset(for-original)\\training\\fake\\file31017.mp3\n"
     ]
    },
    {
     "name": "stderr",
     "output_type": "stream",
     "text": [
      "Training:  71%|████████████████████████████████████████████████▏                   | 2385/3368 [04:06<02:09,  7.60it/s]"
     ]
    },
    {
     "name": "stdout",
     "output_type": "stream",
     "text": [
      "--> WARNING: Skipping corrupted file: FakeVsRealDataset(for-original)\\training\\fake\\file5323.mp3\n"
     ]
    },
    {
     "name": "stderr",
     "output_type": "stream",
     "text": [
      "Training:  80%|██████████████████████████████████████████████████████▋             | 2709/3368 [04:57<02:09,  5.10it/s]"
     ]
    },
    {
     "name": "stdout",
     "output_type": "stream",
     "text": [
      "--> WARNING: Skipping corrupted file: FakeVsRealDataset(for-original)\\training\\fake\\file16643.mp3\n"
     ]
    },
    {
     "name": "stderr",
     "output_type": "stream",
     "text": [
      "Training:  85%|█████████████████████████████████████████████████████████▊          | 2862/3368 [05:31<01:30,  5.61it/s]"
     ]
    },
    {
     "name": "stdout",
     "output_type": "stream",
     "text": [
      "--> WARNING: Skipping corrupted file: FakeVsRealDataset(for-original)\\training\\fake\\file19851.mp3\n",
      "--> WARNING: Skipping corrupted file: FakeVsRealDataset(for-original)\\training\\fake\\file27839.mp3\n"
     ]
    },
    {
     "name": "stderr",
     "output_type": "stream",
     "text": [
      "Training:  99%|███████████████████████████████████████████████████████████████████▌| 3345/3368 [07:24<00:04,  4.69it/s]"
     ]
    },
    {
     "name": "stdout",
     "output_type": "stream",
     "text": [
      "--> WARNING: Skipping corrupted file: FakeVsRealDataset(for-original)\\training\\fake\\file15746.mp3\n"
     ]
    },
    {
     "name": "stderr",
     "output_type": "stream",
     "text": [
      "Training: 100%|████████████████████████████████████████████████████████████████████| 3368/3368 [07:30<00:00,  7.48it/s]\n",
      "Evaluating:  15%|██████████                                                          | 100/675 [00:17<01:36,  5.97it/s]"
     ]
    },
    {
     "name": "stdout",
     "output_type": "stream",
     "text": [
      "--> WARNING: Skipping corrupted file: FakeVsRealDataset(for-original)\\validation\\fake\\file16165.mp3\n"
     ]
    },
    {
     "name": "stderr",
     "output_type": "stream",
     "text": [
      "Evaluating:  37%|█████████████████████████▍                                          | 253/675 [00:44<01:04,  6.50it/s]"
     ]
    },
    {
     "name": "stdout",
     "output_type": "stream",
     "text": [
      "--> WARNING: Skipping corrupted file: FakeVsRealDataset(for-original)\\validation\\fake\\file31606.mp3\n"
     ]
    },
    {
     "name": "stderr",
     "output_type": "stream",
     "text": [
      "Evaluating: 100%|████████████████████████████████████████████████████████████████████| 675/675 [02:07<00:00,  5.31it/s]\n"
     ]
    },
    {
     "name": "stdout",
     "output_type": "stream",
     "text": [
      "Epoch: 13 | Train Loss: nan | Train Acc: 0.9939 | Val Loss: 0.0481 | Val Acc: 0.9956\n",
      "    -> Learning rate reduced to 0.000010\n"
     ]
    },
    {
     "name": "stderr",
     "output_type": "stream",
     "text": [
      "Training:   2%|█▎                                                                    | 66/3368 [00:06<04:57, 11.09it/s]"
     ]
    },
    {
     "name": "stdout",
     "output_type": "stream",
     "text": [
      "--> WARNING: Skipping corrupted file: FakeVsRealDataset(for-original)\\training\\fake\\file9875.mp3\n"
     ]
    },
    {
     "name": "stderr",
     "output_type": "stream",
     "text": [
      "Training:   7%|████▊                                                                | 234/3368 [00:22<04:41, 11.13it/s]"
     ]
    },
    {
     "name": "stdout",
     "output_type": "stream",
     "text": [
      "--> WARNING: Skipping corrupted file: FakeVsRealDataset(for-original)\\training\\fake\\file27206.mp3\n"
     ]
    },
    {
     "name": "stderr",
     "output_type": "stream",
     "text": [
      "Training:   9%|██████                                                               | 294/3368 [00:28<04:21, 11.75it/s]"
     ]
    },
    {
     "name": "stdout",
     "output_type": "stream",
     "text": [
      "--> WARNING: Skipping corrupted file: FakeVsRealDataset(for-original)\\training\\fake\\file27839.mp3\n"
     ]
    },
    {
     "name": "stderr",
     "output_type": "stream",
     "text": [
      "Training:   9%|██████▏                                                              | 302/3368 [00:28<04:14, 12.06it/s]"
     ]
    },
    {
     "name": "stdout",
     "output_type": "stream",
     "text": [
      "--> WARNING: Skipping corrupted file: FakeVsRealDataset(for-original)\\training\\fake\\file13424.mp3\n"
     ]
    },
    {
     "name": "stderr",
     "output_type": "stream",
     "text": [
      "Training:  14%|█████████▎                                                           | 456/3368 [00:43<04:23, 11.04it/s]"
     ]
    },
    {
     "name": "stdout",
     "output_type": "stream",
     "text": [
      "--> WARNING: Skipping corrupted file: FakeVsRealDataset(for-original)\\training\\fake\\file15746.mp3\n"
     ]
    },
    {
     "name": "stderr",
     "output_type": "stream",
     "text": [
      "Training:  18%|████████████▎                                                        | 601/3368 [00:57<04:24, 10.44it/s]"
     ]
    },
    {
     "name": "stdout",
     "output_type": "stream",
     "text": [
      "--> WARNING: Skipping corrupted file: FakeVsRealDataset(for-original)\\training\\fake\\file16643.mp3\n"
     ]
    },
    {
     "name": "stderr",
     "output_type": "stream",
     "text": [
      "Training:  29%|███████████████████▊                                                 | 968/3368 [01:33<03:37, 11.03it/s]"
     ]
    },
    {
     "name": "stdout",
     "output_type": "stream",
     "text": [
      "--> WARNING: Skipping corrupted file: FakeVsRealDataset(for-original)\\training\\fake\\file17407.mp3\n"
     ]
    },
    {
     "name": "stderr",
     "output_type": "stream",
     "text": [
      "Training:  44%|██████████████████████████████                                      | 1488/3368 [02:26<02:55, 10.74it/s]"
     ]
    },
    {
     "name": "stdout",
     "output_type": "stream",
     "text": [
      "--> WARNING: Skipping corrupted file: FakeVsRealDataset(for-original)\\training\\fake\\file27643.mp3\n"
     ]
    },
    {
     "name": "stderr",
     "output_type": "stream",
     "text": [
      "Training:  50%|█████████████████████████████████▋                                  | 1671/3368 [02:46<02:56,  9.59it/s]"
     ]
    },
    {
     "name": "stdout",
     "output_type": "stream",
     "text": [
      "--> WARNING: Skipping corrupted file: FakeVsRealDataset(for-original)\\training\\fake\\file31017.mp3\n"
     ]
    },
    {
     "name": "stderr",
     "output_type": "stream",
     "text": [
      "Training:  54%|████████████████████████████████████▌                               | 1810/3368 [03:01<02:36,  9.93it/s]"
     ]
    },
    {
     "name": "stdout",
     "output_type": "stream",
     "text": [
      "--> WARNING: Skipping corrupted file: FakeVsRealDataset(for-original)\\training\\fake\\file19851.mp3\n"
     ]
    },
    {
     "name": "stderr",
     "output_type": "stream",
     "text": [
      "Training:  68%|██████████████████████████████████████████████▌                     | 2306/3368 [03:59<01:55,  9.23it/s]"
     ]
    },
    {
     "name": "stdout",
     "output_type": "stream",
     "text": [
      "--> WARNING: Skipping corrupted file: FakeVsRealDataset(for-original)\\training\\fake\\file30959.mp3\n"
     ]
    },
    {
     "name": "stderr",
     "output_type": "stream",
     "text": [
      "Training:  76%|███████████████████████████████████████████████████▌                | 2552/3368 [04:31<01:56,  7.01it/s]"
     ]
    },
    {
     "name": "stdout",
     "output_type": "stream",
     "text": [
      "--> WARNING: Skipping corrupted file: FakeVsRealDataset(for-original)\\training\\fake\\file17450.mp3\n"
     ]
    },
    {
     "name": "stderr",
     "output_type": "stream",
     "text": [
      "Training:  79%|█████████████████████████████████████████████████████▌              | 2653/3368 [04:47<02:25,  4.91it/s]"
     ]
    },
    {
     "name": "stdout",
     "output_type": "stream",
     "text": [
      "--> WARNING: Skipping corrupted file: FakeVsRealDataset(for-original)\\training\\fake\\file5323.mp3\n"
     ]
    },
    {
     "name": "stderr",
     "output_type": "stream",
     "text": [
      "Training:  94%|███████████████████████████████████████████████████████████████▉    | 3164/3368 [06:44<00:50,  4.06it/s]"
     ]
    },
    {
     "name": "stdout",
     "output_type": "stream",
     "text": [
      "--> WARNING: Skipping corrupted file: FakeVsRealDataset(for-original)\\training\\fake\\file32972.mp3\n"
     ]
    },
    {
     "name": "stderr",
     "output_type": "stream",
     "text": [
      "Training: 100%|████████████████████████████████████████████████████████████████████| 3368/3368 [07:32<00:00,  7.44it/s]\n",
      "Evaluating:  15%|██████████                                                          | 100/675 [00:17<01:35,  6.02it/s]"
     ]
    },
    {
     "name": "stdout",
     "output_type": "stream",
     "text": [
      "--> WARNING: Skipping corrupted file: FakeVsRealDataset(for-original)\\validation\\fake\\file16165.mp3\n"
     ]
    },
    {
     "name": "stderr",
     "output_type": "stream",
     "text": [
      "Evaluating:  37%|█████████████████████████▍                                          | 253/675 [00:44<01:08,  6.13it/s]"
     ]
    },
    {
     "name": "stdout",
     "output_type": "stream",
     "text": [
      "--> WARNING: Skipping corrupted file: FakeVsRealDataset(for-original)\\validation\\fake\\file31606.mp3\n"
     ]
    },
    {
     "name": "stderr",
     "output_type": "stream",
     "text": [
      "Evaluating: 100%|████████████████████████████████████████████████████████████████████| 675/675 [02:06<00:00,  5.32it/s]\n"
     ]
    },
    {
     "name": "stdout",
     "output_type": "stream",
     "text": [
      "Epoch: 14 | Train Loss: nan | Train Acc: 0.9943 | Val Loss: 0.0488 | Val Acc: 0.9957\n"
     ]
    },
    {
     "name": "stderr",
     "output_type": "stream",
     "text": [
      "Training:  16%|██████████▉                                                          | 532/3368 [00:50<04:35, 10.30it/s]"
     ]
    },
    {
     "name": "stdout",
     "output_type": "stream",
     "text": [
      "--> WARNING: Skipping corrupted file: FakeVsRealDataset(for-original)\\training\\fake\\file32972.mp3\n"
     ]
    },
    {
     "name": "stderr",
     "output_type": "stream",
     "text": [
      "Training:  28%|███████████████████                                                  | 930/3368 [01:30<03:58, 10.22it/s]"
     ]
    },
    {
     "name": "stdout",
     "output_type": "stream",
     "text": [
      "--> WARNING: Skipping corrupted file: FakeVsRealDataset(for-original)\\training\\fake\\file15746.mp3\n"
     ]
    },
    {
     "name": "stderr",
     "output_type": "stream",
     "text": [
      "Training:  33%|██████████████████████▍                                             | 1110/3368 [01:48<03:45, 10.01it/s]"
     ]
    },
    {
     "name": "stdout",
     "output_type": "stream",
     "text": [
      "--> WARNING: Skipping corrupted file: FakeVsRealDataset(for-original)\\training\\fake\\file27839.mp3\n"
     ]
    },
    {
     "name": "stderr",
     "output_type": "stream",
     "text": [
      "Training:  40%|███████████████████████████▎                                        | 1352/3368 [02:12<03:05, 10.88it/s]"
     ]
    },
    {
     "name": "stdout",
     "output_type": "stream",
     "text": [
      "--> WARNING: Skipping corrupted file: FakeVsRealDataset(for-original)\\training\\fake\\file19851.mp3\n"
     ]
    },
    {
     "name": "stderr",
     "output_type": "stream",
     "text": [
      "Training:  41%|███████████████████████████▋                                        | 1370/3368 [02:14<03:25,  9.70it/s]"
     ]
    },
    {
     "name": "stdout",
     "output_type": "stream",
     "text": [
      "--> WARNING: Skipping corrupted file: FakeVsRealDataset(for-original)\\training\\fake\\file31017.mp3\n"
     ]
    },
    {
     "name": "stderr",
     "output_type": "stream",
     "text": [
      "Training:  54%|████████████████████████████████████▌                               | 1810/3368 [03:02<02:33, 10.13it/s]"
     ]
    },
    {
     "name": "stdout",
     "output_type": "stream",
     "text": [
      "--> WARNING: Skipping corrupted file: FakeVsRealDataset(for-original)\\training\\fake\\file13424.mp3\n"
     ]
    },
    {
     "name": "stderr",
     "output_type": "stream",
     "text": [
      "Training:  55%|█████████████████████████████████████▋                              | 1866/3368 [03:09<02:34,  9.70it/s]"
     ]
    },
    {
     "name": "stdout",
     "output_type": "stream",
     "text": [
      "--> WARNING: Skipping corrupted file: FakeVsRealDataset(for-original)\\training\\fake\\file17450.mp3\n"
     ]
    },
    {
     "name": "stderr",
     "output_type": "stream",
     "text": [
      "Training:  67%|█████████████████████████████████████████████▍                      | 2251/3368 [03:54<02:17,  8.12it/s]"
     ]
    },
    {
     "name": "stdout",
     "output_type": "stream",
     "text": [
      "--> WARNING: Skipping corrupted file: FakeVsRealDataset(for-original)\\training\\fake\\file30959.mp3\n"
     ]
    },
    {
     "name": "stderr",
     "output_type": "stream",
     "text": [
      "Training:  83%|████████████████████████████████████████████████████████▊           | 2812/3368 [05:31<01:52,  4.96it/s]"
     ]
    },
    {
     "name": "stdout",
     "output_type": "stream",
     "text": [
      "--> WARNING: Skipping corrupted file: FakeVsRealDataset(for-original)\\training\\fake\\file5323.mp3\n"
     ]
    },
    {
     "name": "stderr",
     "output_type": "stream",
     "text": [
      "Training:  84%|█████████████████████████████████████████████████████████▏          | 2830/3368 [05:35<01:52,  4.80it/s]"
     ]
    },
    {
     "name": "stdout",
     "output_type": "stream",
     "text": [
      "--> WARNING: Skipping corrupted file: FakeVsRealDataset(for-original)\\training\\fake\\file16643.mp3\n"
     ]
    },
    {
     "name": "stderr",
     "output_type": "stream",
     "text": [
      "Training:  89%|████████████████████████████████████████████████████████████▊       | 3013/3368 [06:21<01:18,  4.53it/s]"
     ]
    },
    {
     "name": "stdout",
     "output_type": "stream",
     "text": [
      "--> WARNING: Skipping corrupted file: FakeVsRealDataset(for-original)\\training\\fake\\file9875.mp3\n"
     ]
    },
    {
     "name": "stderr",
     "output_type": "stream",
     "text": [
      "Training:  91%|█████████████████████████████████████████████████████████████▌      | 3052/3368 [06:30<01:08,  4.59it/s]"
     ]
    },
    {
     "name": "stdout",
     "output_type": "stream",
     "text": [
      "--> WARNING: Skipping corrupted file: FakeVsRealDataset(for-original)\\training\\fake\\file17407.mp3\n"
     ]
    },
    {
     "name": "stderr",
     "output_type": "stream",
     "text": [
      "Training:  91%|█████████████████████████████████████████████████████████████▊      | 3060/3368 [06:32<01:08,  4.48it/s]"
     ]
    },
    {
     "name": "stdout",
     "output_type": "stream",
     "text": [
      "--> WARNING: Skipping corrupted file: FakeVsRealDataset(for-original)\\training\\fake\\file27206.mp3\n"
     ]
    },
    {
     "name": "stderr",
     "output_type": "stream",
     "text": [
      "Training:  95%|████████████████████████████████████████████████████████████████▍   | 3193/3368 [07:04<00:38,  4.59it/s]"
     ]
    },
    {
     "name": "stdout",
     "output_type": "stream",
     "text": [
      "--> WARNING: Skipping corrupted file: FakeVsRealDataset(for-original)\\training\\fake\\file27643.mp3\n"
     ]
    },
    {
     "name": "stderr",
     "output_type": "stream",
     "text": [
      "Training: 100%|████████████████████████████████████████████████████████████████████| 3368/3368 [07:45<00:00,  7.23it/s]\n",
      "Evaluating:  15%|██████████                                                          | 100/675 [00:18<01:34,  6.09it/s]"
     ]
    },
    {
     "name": "stdout",
     "output_type": "stream",
     "text": [
      "--> WARNING: Skipping corrupted file: FakeVsRealDataset(for-original)\\validation\\fake\\file16165.mp3\n"
     ]
    },
    {
     "name": "stderr",
     "output_type": "stream",
     "text": [
      "Evaluating:  37%|█████████████████████████▍                                          | 253/675 [00:44<01:06,  6.38it/s]"
     ]
    },
    {
     "name": "stdout",
     "output_type": "stream",
     "text": [
      "--> WARNING: Skipping corrupted file: FakeVsRealDataset(for-original)\\validation\\fake\\file31606.mp3\n"
     ]
    },
    {
     "name": "stderr",
     "output_type": "stream",
     "text": [
      "Evaluating: 100%|████████████████████████████████████████████████████████████████████| 675/675 [02:08<00:00,  5.27it/s]"
     ]
    },
    {
     "name": "stdout",
     "output_type": "stream",
     "text": [
      "Epoch: 15 | Train Loss: nan | Train Acc: 0.9942 | Val Loss: 0.0520 | Val Acc: 0.9956\n"
     ]
    },
    {
     "name": "stderr",
     "output_type": "stream",
     "text": [
      "\n"
     ]
    }
   ],
   "source": [
    "# --- Define Model ---\n",
    "class BaselineCNN(nn.Module):\n",
    "    def __init__(self, num_classes=2):\n",
    "        super().__init__()\n",
    "        self.conv_stack = nn.Sequential(\n",
    "            nn.Conv2d(1, 16, 3, 1, 1), nn.ReLU(), nn.MaxPool2d(2),\n",
    "            nn.Conv2d(16, 32, 3, 1, 1), nn.ReLU(), nn.MaxPool2d(2),\n",
    "            nn.Conv2d(32, 64, 3, 1, 1), nn.ReLU(), nn.MaxPool2d(2),\n",
    "        )\n",
    "        self.flatten = nn.Flatten()\n",
    "        self.linear_stack = nn.Sequential(nn.Linear(15360, 128), nn.ReLU(), nn.Dropout(0.5), nn.Linear(128, num_classes))\n",
    "    def forward(self, x): return self.linear_stack(self.flatten(self.conv_stack(x)))\n",
    "\n",
    "# --- Run Experiment ---\n",
    "model_1_name = \"Baseline CNN\"\n",
    "model_1 = BaselineCNN().to(device)\n",
    "loss_fn_1 = nn.CrossEntropyLoss()\n",
    "optimizer_1 = torch.optim.Adam(model_1.parameters(), lr=LEARNING_RATE)\n",
    "scheduler_1 = torch.optim.lr_scheduler.ReduceLROnPlateau(optimizer_1, mode='min', factor=0.1, patience=2)\n",
    "\n",
    "baseline_history = run_experiment(model_1, train_loader, val_loader, loss_fn_1, optimizer_1, device, EPOCHS, scheduler_1)"
   ]
  },
  {
   "cell_type": "code",
   "execution_count": 11,
   "id": "9850ae12-9acb-469b-8954-6f4581517a5d",
   "metadata": {},
   "outputs": [
    {
     "data": {
      "image/png": "[encoded data removed]",
      "text/plain": [
       "<Figure size 1600x600 with 2 Axes>"
      ]
     },
     "metadata": {},
     "output_type": "display_data"
    },
    {
     "name": "stdout",
     "output_type": "stream",
     "text": [
      "\n",
      "--- Final Evaluation on Test Set for Baseline CNN ---\n"
     ]
    },
    {
     "name": "stderr",
     "output_type": "stream",
     "text": [
      "Evaluating: 100%|████████████████████████████████████████████████████████████████████| 290/290 [00:49<00:00,  5.82it/s]\n"
     ]
    },
    {
     "name": "stdout",
     "output_type": "stream",
     "text": [
      "Test Accuracy: 0.7223 | Test Loss: 10.1445\n"
     ]
    },
    {
     "data": {
      "image/png": "[encoded data removed]",
      "text/plain": [
       "<Figure size 600x600 with 2 Axes>"
      ]
     },
     "metadata": {},
     "output_type": "display_data"
    }
   ],
   "source": [
    "# --- Visualize Results for Model 1 ---\n",
    "baseline_test_acc = plot_results(model_1, baseline_history, test_loader, loss_fn_1, device, model_1_name)"
   ]
  },
  {
   "cell_type": "code",
   "execution_count": 17,
   "id": "d7ae3f0f-8b20-47a4-ad97-ea5f4e28254f",
   "metadata": {},
   "outputs": [
    {
     "name": "stdout",
     "output_type": "stream",
     "text": [
      "Baseline CNN model saved to baseline_cnn_model.pth\n"
     ]
    }
   ],
   "source": [
    "# --- Save the trained model's weights ---\n",
    "torch.save(model_1.state_dict(), 'baseline_cnn_model.pth')\n",
    "print(\"Baseline CNN model saved to baseline_cnn_model.pth\")"
   ]
  },
  {
   "cell_type": "markdown",
   "id": "13566c22-1d1a-4e0a-bd58-bdcbc2783891",
   "metadata": {},
   "source": [
    "## Model 2: Deeper CNN\n",
    "\n",
    "Let's see if adding more convolutional layers (increasing model depth) allows the network to learn more complex patterns in the spectrograms. We will add an extra Conv2d -> ReLU -> MaxPool2d block."
   ]
  },
  {
   "cell_type": "code",
   "execution_count": 12,
   "id": "4d18ef12-9972-420c-a6d4-191a461bb6e7",
   "metadata": {
    "scrolled": true
   },
   "outputs": [
    {
     "name": "stdout",
     "output_type": "stream",
     "text": [
      "\n",
      "--- Training DeeperCNN for 15 epochs ---\n"
     ]
    },
    {
     "name": "stderr",
     "output_type": "stream",
     "text": [
      "Training:   5%|███▊                                                                 | 185/3368 [00:21<05:16, 10.06it/s]"
     ]
    },
    {
     "name": "stdout",
     "output_type": "stream",
     "text": [
      "--> WARNING: Skipping corrupted file: FakeVsRealDataset(for-original)\\training\\fake\\file31017.mp3\n"
     ]
    },
    {
     "name": "stderr",
     "output_type": "stream",
     "text": [
      "Training:   6%|████▍                                                                | 217/3368 [00:25<05:21,  9.80it/s]"
     ]
    },
    {
     "name": "stdout",
     "output_type": "stream",
     "text": [
      "--> WARNING: Skipping corrupted file: FakeVsRealDataset(for-original)\\training\\fake\\file30959.mp3\n"
     ]
    },
    {
     "name": "stderr",
     "output_type": "stream",
     "text": [
      "Training:  13%|████████▊                                                            | 429/3368 [00:50<05:54,  8.29it/s]"
     ]
    },
    {
     "name": "stdout",
     "output_type": "stream",
     "text": [
      "--> WARNING: Skipping corrupted file: FakeVsRealDataset(for-original)\\training\\fake\\file27643.mp3\n"
     ]
    },
    {
     "name": "stderr",
     "output_type": "stream",
     "text": [
      "Training:  14%|█████████▌                                                           | 466/3368 [00:54<05:29,  8.80it/s]"
     ]
    },
    {
     "name": "stdout",
     "output_type": "stream",
     "text": [
      "--> WARNING: Skipping corrupted file: FakeVsRealDataset(for-original)\\training\\fake\\file27206.mp3\n"
     ]
    },
    {
     "name": "stderr",
     "output_type": "stream",
     "text": [
      "Training:  29%|███████████████████▋                                                 | 961/3368 [01:54<04:32,  8.82it/s]"
     ]
    },
    {
     "name": "stdout",
     "output_type": "stream",
     "text": [
      "--> WARNING: Skipping corrupted file: FakeVsRealDataset(for-original)\\training\\fake\\file9875.mp3\n"
     ]
    },
    {
     "name": "stderr",
     "output_type": "stream",
     "text": [
      "Training:  30%|████████████████████▏                                               | 1000/3368 [01:59<04:27,  8.84it/s]"
     ]
    },
    {
     "name": "stdout",
     "output_type": "stream",
     "text": [
      "--> WARNING: Skipping corrupted file: FakeVsRealDataset(for-original)\\training\\fake\\file19851.mp3\n"
     ]
    },
    {
     "name": "stderr",
     "output_type": "stream",
     "text": [
      "Training:  57%|███████████████████████████████████████                             | 1935/3368 [04:05<03:37,  6.57it/s]"
     ]
    },
    {
     "name": "stdout",
     "output_type": "stream",
     "text": [
      "--> WARNING: Skipping corrupted file: FakeVsRealDataset(for-original)\\training\\fake\\file32972.mp3\n"
     ]
    },
    {
     "name": "stderr",
     "output_type": "stream",
     "text": [
      "Training:  62%|██████████████████████████████████████████                          | 2081/3368 [04:28<03:59,  5.38it/s]"
     ]
    },
    {
     "name": "stdout",
     "output_type": "stream",
     "text": [
      "--> WARNING: Skipping corrupted file: FakeVsRealDataset(for-original)\\training\\fake\\file13424.mp3\n"
     ]
    },
    {
     "name": "stderr",
     "output_type": "stream",
     "text": [
      "Training:  71%|████████████████████████████████████████████████▍                   | 2399/3368 [05:24<03:12,  5.03it/s]"
     ]
    },
    {
     "name": "stdout",
     "output_type": "stream",
     "text": [
      "--> WARNING: Skipping corrupted file: FakeVsRealDataset(for-original)\\training\\fake\\file15746.mp3\n"
     ]
    },
    {
     "name": "stderr",
     "output_type": "stream",
     "text": [
      "Training:  74%|██████████████████████████████████████████████████▎                 | 2493/3368 [05:46<03:13,  4.52it/s]"
     ]
    },
    {
     "name": "stdout",
     "output_type": "stream",
     "text": [
      "--> WARNING: Skipping corrupted file: FakeVsRealDataset(for-original)\\training\\fake\\file16643.mp3\n"
     ]
    },
    {
     "name": "stderr",
     "output_type": "stream",
     "text": [
      "Training:  78%|████████████████████████████████████████████████████▊               | 2617/3368 [06:16<02:39,  4.72it/s]"
     ]
    },
    {
     "name": "stdout",
     "output_type": "stream",
     "text": [
      "--> WARNING: Skipping corrupted file: FakeVsRealDataset(for-original)\\training\\fake\\file27839.mp3\n"
     ]
    },
    {
     "name": "stderr",
     "output_type": "stream",
     "text": [
      "Training:  87%|███████████████████████████████████████████████████████████▏        | 2929/3368 [07:33<01:35,  4.60it/s]"
     ]
    },
    {
     "name": "stdout",
     "output_type": "stream",
     "text": [
      "--> WARNING: Skipping corrupted file: FakeVsRealDataset(for-original)\\training\\fake\\file17450.mp3\n"
     ]
    },
    {
     "name": "stderr",
     "output_type": "stream",
     "text": [
      "Training:  94%|███████████████████████████████████████████████████████████████▋    | 3153/3368 [08:29<00:48,  4.41it/s]"
     ]
    },
    {
     "name": "stdout",
     "output_type": "stream",
     "text": [
      "--> WARNING: Skipping corrupted file: FakeVsRealDataset(for-original)\\training\\fake\\file5323.mp3\n"
     ]
    },
    {
     "name": "stderr",
     "output_type": "stream",
     "text": [
      "Training: 100%|████████████████████████████████████████████████████████████████████| 3368/3368 [09:23<00:00,  5.98it/s]\n"
     ]
    },
    {
     "name": "stdout",
     "output_type": "stream",
     "text": [
      "--> WARNING: Skipping corrupted file: FakeVsRealDataset(for-original)\\training\\fake\\file17407.mp3\n"
     ]
    },
    {
     "name": "stderr",
     "output_type": "stream",
     "text": [
      "Evaluating:  15%|██████████                                                          | 100/675 [00:18<01:38,  5.81it/s]"
     ]
    },
    {
     "name": "stdout",
     "output_type": "stream",
     "text": [
      "--> WARNING: Skipping corrupted file: FakeVsRealDataset(for-original)\\validation\\fake\\file16165.mp3\n"
     ]
    },
    {
     "name": "stderr",
     "output_type": "stream",
     "text": [
      "Evaluating:  37%|█████████████████████████▍                                          | 253/675 [00:47<01:10,  6.01it/s]"
     ]
    },
    {
     "name": "stdout",
     "output_type": "stream",
     "text": [
      "--> WARNING: Skipping corrupted file: FakeVsRealDataset(for-original)\\validation\\fake\\file31606.mp3\n"
     ]
    },
    {
     "name": "stderr",
     "output_type": "stream",
     "text": [
      "Evaluating: 100%|████████████████████████████████████████████████████████████████████| 675/675 [02:14<00:00,  5.03it/s]\n"
     ]
    },
    {
     "name": "stdout",
     "output_type": "stream",
     "text": [
      "Epoch: 01 | Train Loss: nan | Train Acc: 0.9474 | Val Loss: nan | Val Acc: 0.4970\n"
     ]
    },
    {
     "name": "stderr",
     "output_type": "stream",
     "text": [
      "Training:   3%|██▍                                                                  | 117/3368 [00:12<04:51, 11.16it/s]"
     ]
    },
    {
     "name": "stdout",
     "output_type": "stream",
     "text": [
      "--> WARNING: Skipping corrupted file: FakeVsRealDataset(for-original)\\training\\fake\\file27206.mp3\n"
     ]
    },
    {
     "name": "stderr",
     "output_type": "stream",
     "text": [
      "Training:   5%|███▍                                                                 | 167/3368 [00:17<05:11, 10.26it/s]"
     ]
    },
    {
     "name": "stdout",
     "output_type": "stream",
     "text": [
      "--> WARNING: Skipping corrupted file: FakeVsRealDataset(for-original)\\training\\fake\\file9875.mp3\n"
     ]
    },
    {
     "name": "stderr",
     "output_type": "stream",
     "text": [
      "Training:   7%|█████                                                                | 246/3368 [00:25<04:57, 10.50it/s]"
     ]
    },
    {
     "name": "stdout",
     "output_type": "stream",
     "text": [
      "--> WARNING: Skipping corrupted file: FakeVsRealDataset(for-original)\\training\\fake\\file5323.mp3\n"
     ]
    },
    {
     "name": "stderr",
     "output_type": "stream",
     "text": [
      "Training:   9%|█████▉                                                               | 288/3368 [00:29<05:00, 10.25it/s]"
     ]
    },
    {
     "name": "stdout",
     "output_type": "stream",
     "text": [
      "--> WARNING: Skipping corrupted file: FakeVsRealDataset(for-original)\\training\\fake\\file32972.mp3\n"
     ]
    },
    {
     "name": "stderr",
     "output_type": "stream",
     "text": [
      "Training:  16%|██████████▋                                                          | 524/3368 [00:54<04:24, 10.75it/s]"
     ]
    },
    {
     "name": "stdout",
     "output_type": "stream",
     "text": [
      "--> WARNING: Skipping corrupted file: FakeVsRealDataset(for-original)\\training\\fake\\file15746.mp3\n"
     ]
    },
    {
     "name": "stderr",
     "output_type": "stream",
     "text": [
      "Training:  22%|███████████████▏                                                     | 744/3368 [01:17<04:11, 10.44it/s]"
     ]
    },
    {
     "name": "stdout",
     "output_type": "stream",
     "text": [
      "--> WARNING: Skipping corrupted file: FakeVsRealDataset(for-original)\\training\\fake\\file30959.mp3\n"
     ]
    },
    {
     "name": "stderr",
     "output_type": "stream",
     "text": [
      "Training:  28%|███████████████████▏                                                 | 936/3368 [01:38<04:09,  9.76it/s]"
     ]
    },
    {
     "name": "stdout",
     "output_type": "stream",
     "text": [
      "--> WARNING: Skipping corrupted file: FakeVsRealDataset(for-original)\\training\\fake\\file19851.mp3\n"
     ]
    },
    {
     "name": "stderr",
     "output_type": "stream",
     "text": [
      "Training:  42%|████████████████████████████▌                                       | 1412/3368 [02:31<03:35,  9.08it/s]"
     ]
    },
    {
     "name": "stdout",
     "output_type": "stream",
     "text": [
      "--> WARNING: Skipping corrupted file: FakeVsRealDataset(for-original)\\training\\fake\\file31017.mp3\n"
     ]
    },
    {
     "name": "stderr",
     "output_type": "stream",
     "text": [
      "Training:  42%|████████████████████████████▌                                       | 1416/3368 [02:32<03:23,  9.58it/s]"
     ]
    },
    {
     "name": "stdout",
     "output_type": "stream",
     "text": [
      "--> WARNING: Skipping corrupted file: FakeVsRealDataset(for-original)\\training\\fake\\file17450.mp3\n"
     ]
    },
    {
     "name": "stderr",
     "output_type": "stream",
     "text": [
      "Training:  66%|█████████████████████████████████████████████                       | 2233/3368 [04:13<02:41,  7.01it/s]"
     ]
    },
    {
     "name": "stdout",
     "output_type": "stream",
     "text": [
      "--> WARNING: Skipping corrupted file: FakeVsRealDataset(for-original)\\training\\fake\\file17407.mp3\n"
     ]
    },
    {
     "name": "stderr",
     "output_type": "stream",
     "text": [
      "Training:  68%|█████████████████████████████████████████████▉                      | 2276/3368 [04:18<02:03,  8.84it/s]"
     ]
    },
    {
     "name": "stdout",
     "output_type": "stream",
     "text": [
      "--> WARNING: Skipping corrupted file: FakeVsRealDataset(for-original)\\training\\fake\\file27643.mp3\n"
     ]
    },
    {
     "name": "stderr",
     "output_type": "stream",
     "text": [
      "Training:  82%|███████████████████████████████████████████████████████▊            | 2762/3368 [05:45<02:02,  4.93it/s]"
     ]
    },
    {
     "name": "stdout",
     "output_type": "stream",
     "text": [
      "--> WARNING: Skipping corrupted file: FakeVsRealDataset(for-original)\\training\\fake\\file13424.mp3\n"
     ]
    },
    {
     "name": "stderr",
     "output_type": "stream",
     "text": [
      "Training:  84%|█████████████████████████████████████████████████████████▍          | 2844/3368 [06:05<01:50,  4.74it/s]"
     ]
    },
    {
     "name": "stdout",
     "output_type": "stream",
     "text": [
      "--> WARNING: Skipping corrupted file: FakeVsRealDataset(for-original)\\training\\fake\\file27839.mp3\n"
     ]
    },
    {
     "name": "stderr",
     "output_type": "stream",
     "text": [
      "Training:  86%|██████████████████████████████████████████████████████████▎         | 2887/3368 [06:15<01:48,  4.44it/s]"
     ]
    },
    {
     "name": "stdout",
     "output_type": "stream",
     "text": [
      "--> WARNING: Skipping corrupted file: FakeVsRealDataset(for-original)\\training\\fake\\file16643.mp3\n"
     ]
    },
    {
     "name": "stderr",
     "output_type": "stream",
     "text": [
      "Training: 100%|████████████████████████████████████████████████████████████████████| 3368/3368 [08:15<00:00,  6.79it/s]\n",
      "Evaluating:  15%|██████████                                                          | 100/675 [00:18<01:38,  5.85it/s]"
     ]
    },
    {
     "name": "stdout",
     "output_type": "stream",
     "text": [
      "--> WARNING: Skipping corrupted file: FakeVsRealDataset(for-original)\\validation\\fake\\file16165.mp3\n"
     ]
    },
    {
     "name": "stderr",
     "output_type": "stream",
     "text": [
      "Evaluating:  37%|█████████████████████████▍                                          | 253/675 [00:46<01:07,  6.22it/s]"
     ]
    },
    {
     "name": "stdout",
     "output_type": "stream",
     "text": [
      "--> WARNING: Skipping corrupted file: FakeVsRealDataset(for-original)\\validation\\fake\\file31606.mp3\n"
     ]
    },
    {
     "name": "stderr",
     "output_type": "stream",
     "text": [
      "Evaluating: 100%|████████████████████████████████████████████████████████████████████| 675/675 [02:13<00:00,  5.06it/s]\n"
     ]
    },
    {
     "name": "stdout",
     "output_type": "stream",
     "text": [
      "Epoch: 02 | Train Loss: nan | Train Acc: 0.9788 | Val Loss: nan | Val Acc: 0.4970\n"
     ]
    },
    {
     "name": "stderr",
     "output_type": "stream",
     "text": [
      "Training:   3%|██▏                                                                  | 104/3368 [00:10<04:55, 11.05it/s]"
     ]
    },
    {
     "name": "stdout",
     "output_type": "stream",
     "text": [
      "--> WARNING: Skipping corrupted file: FakeVsRealDataset(for-original)\\training\\fake\\file13424.mp3\n"
     ]
    },
    {
     "name": "stderr",
     "output_type": "stream",
     "text": [
      "Training:  37%|████████████████████████▉                                           | 1237/3368 [02:12<03:58,  8.93it/s]"
     ]
    },
    {
     "name": "stdout",
     "output_type": "stream",
     "text": [
      "--> WARNING: Skipping corrupted file: FakeVsRealDataset(for-original)\\training\\fake\\file32972.mp3\n"
     ]
    },
    {
     "name": "stderr",
     "output_type": "stream",
     "text": [
      "Training:  41%|████████████████████████████▏                                       | 1397/3368 [02:30<03:30,  9.37it/s]"
     ]
    },
    {
     "name": "stdout",
     "output_type": "stream",
     "text": [
      "--> WARNING: Skipping corrupted file: FakeVsRealDataset(for-original)\\training\\fake\\file15746.mp3\n"
     ]
    },
    {
     "name": "stderr",
     "output_type": "stream",
     "text": [
      "Training:  43%|█████████████████████████████▌                                      | 1465/3368 [02:38<03:34,  8.88it/s]"
     ]
    },
    {
     "name": "stdout",
     "output_type": "stream",
     "text": [
      "--> WARNING: Skipping corrupted file: FakeVsRealDataset(for-original)\\training\\fake\\file19851.mp3\n"
     ]
    },
    {
     "name": "stderr",
     "output_type": "stream",
     "text": [
      "Training:  45%|██████████████████████████████▌                                     | 1513/3368 [02:44<03:33,  8.69it/s]"
     ]
    },
    {
     "name": "stdout",
     "output_type": "stream",
     "text": [
      "--> WARNING: Skipping corrupted file: FakeVsRealDataset(for-original)\\training\\fake\\file16643.mp3\n"
     ]
    },
    {
     "name": "stderr",
     "output_type": "stream",
     "text": [
      "Training:  62%|██████████████████████████████████████████▍                         | 2101/3368 [03:57<02:28,  8.52it/s]"
     ]
    },
    {
     "name": "stdout",
     "output_type": "stream",
     "text": [
      "--> WARNING: Skipping corrupted file: FakeVsRealDataset(for-original)\\training\\fake\\file17407.mp3\n"
     ]
    },
    {
     "name": "stderr",
     "output_type": "stream",
     "text": [
      "Training:  74%|██████████████████████████████████████████████████▋                 | 2509/3368 [04:56<02:22,  6.01it/s]"
     ]
    },
    {
     "name": "stdout",
     "output_type": "stream",
     "text": [
      "--> WARNING: Skipping corrupted file: FakeVsRealDataset(for-original)\\training\\fake\\file17450.mp3\n"
     ]
    },
    {
     "name": "stderr",
     "output_type": "stream",
     "text": [
      "Training:  75%|██████████████████████████████████████████████████▋                 | 2513/3368 [04:57<02:29,  5.73it/s]"
     ]
    },
    {
     "name": "stdout",
     "output_type": "stream",
     "text": [
      "--> WARNING: Skipping corrupted file: FakeVsRealDataset(for-original)\\training\\fake\\file31017.mp3\n"
     ]
    },
    {
     "name": "stderr",
     "output_type": "stream",
     "text": [
      "Training:  77%|████████████████████████████████████████████████████                | 2577/3368 [05:11<02:33,  5.16it/s]"
     ]
    },
    {
     "name": "stdout",
     "output_type": "stream",
     "text": [
      "--> WARNING: Skipping corrupted file: FakeVsRealDataset(for-original)\\training\\fake\\file27839.mp3\n",
      "--> WARNING: Skipping corrupted file: FakeVsRealDataset(for-original)\\training\\fake\\file5323.mp3\n"
     ]
    },
    {
     "name": "stderr",
     "output_type": "stream",
     "text": [
      "Training:  79%|█████████████████████████████████████████████████████▋              | 2660/3368 [05:30<02:31,  4.67it/s]"
     ]
    },
    {
     "name": "stdout",
     "output_type": "stream",
     "text": [
      "--> WARNING: Skipping corrupted file: FakeVsRealDataset(for-original)\\training\\fake\\file27643.mp3\n"
     ]
    },
    {
     "name": "stderr",
     "output_type": "stream",
     "text": [
      "Training:  83%|████████████████████████████████████████████████████████▍           | 2798/3368 [06:03<01:56,  4.91it/s]"
     ]
    },
    {
     "name": "stdout",
     "output_type": "stream",
     "text": [
      "--> WARNING: Skipping corrupted file: FakeVsRealDataset(for-original)\\training\\fake\\file9875.mp3\n"
     ]
    },
    {
     "name": "stderr",
     "output_type": "stream",
     "text": [
      "Training:  87%|███████████████████████████████████████████████████████████▎        | 2936/3368 [06:37<01:37,  4.45it/s]"
     ]
    },
    {
     "name": "stdout",
     "output_type": "stream",
     "text": [
      "--> WARNING: Skipping corrupted file: FakeVsRealDataset(for-original)\\training\\fake\\file27206.mp3\n"
     ]
    },
    {
     "name": "stderr",
     "output_type": "stream",
     "text": [
      "Training:  98%|██████████████████████████████████████████████████████████████████▌ | 3295/3368 [08:06<00:16,  4.42it/s]"
     ]
    },
    {
     "name": "stdout",
     "output_type": "stream",
     "text": [
      "--> WARNING: Skipping corrupted file: FakeVsRealDataset(for-original)\\training\\fake\\file30959.mp3\n"
     ]
    },
    {
     "name": "stderr",
     "output_type": "stream",
     "text": [
      "Training: 100%|████████████████████████████████████████████████████████████████████| 3368/3368 [08:24<00:00,  6.67it/s]\n",
      "Evaluating:  15%|██████████                                                          | 100/675 [00:18<01:38,  5.81it/s]"
     ]
    },
    {
     "name": "stdout",
     "output_type": "stream",
     "text": [
      "--> WARNING: Skipping corrupted file: FakeVsRealDataset(for-original)\\validation\\fake\\file16165.mp3\n"
     ]
    },
    {
     "name": "stderr",
     "output_type": "stream",
     "text": [
      "Evaluating:  37%|█████████████████████████▍                                          | 253/675 [00:46<01:08,  6.15it/s]"
     ]
    },
    {
     "name": "stdout",
     "output_type": "stream",
     "text": [
      "--> WARNING: Skipping corrupted file: FakeVsRealDataset(for-original)\\validation\\fake\\file31606.mp3\n"
     ]
    },
    {
     "name": "stderr",
     "output_type": "stream",
     "text": [
      "Evaluating: 100%|████████████████████████████████████████████████████████████████████| 675/675 [02:13<00:00,  5.06it/s]\n"
     ]
    },
    {
     "name": "stdout",
     "output_type": "stream",
     "text": [
      "Epoch: 03 | Train Loss: nan | Train Acc: 0.9842 | Val Loss: nan | Val Acc: 0.4970\n",
      "    -> Learning rate reduced to 0.000100\n"
     ]
    },
    {
     "name": "stderr",
     "output_type": "stream",
     "text": [
      "Training:   5%|███▎                                                                 | 159/3368 [00:16<05:07, 10.42it/s]"
     ]
    },
    {
     "name": "stdout",
     "output_type": "stream",
     "text": [
      "--> WARNING: Skipping corrupted file: FakeVsRealDataset(for-original)\\training\\fake\\file19851.mp3\n"
     ]
    },
    {
     "name": "stderr",
     "output_type": "stream",
     "text": [
      "Training:  18%|████████████▋                                                        | 618/3368 [01:04<04:38,  9.87it/s]"
     ]
    },
    {
     "name": "stdout",
     "output_type": "stream",
     "text": [
      "--> WARNING: Skipping corrupted file: FakeVsRealDataset(for-original)\\training\\fake\\file17407.mp3\n"
     ]
    },
    {
     "name": "stderr",
     "output_type": "stream",
     "text": [
      "Training:  19%|████████████▊                                                        | 628/3368 [01:05<04:23, 10.38it/s]"
     ]
    },
    {
     "name": "stdout",
     "output_type": "stream",
     "text": [
      "--> WARNING: Skipping corrupted file: FakeVsRealDataset(for-original)\\training\\fake\\file30959.mp3\n"
     ]
    },
    {
     "name": "stderr",
     "output_type": "stream",
     "text": [
      "Training:  26%|█████████████████▋                                                   | 862/3368 [01:31<03:51, 10.84it/s]"
     ]
    },
    {
     "name": "stdout",
     "output_type": "stream",
     "text": [
      "--> WARNING: Skipping corrupted file: FakeVsRealDataset(for-original)\\training\\fake\\file13424.mp3\n"
     ]
    },
    {
     "name": "stderr",
     "output_type": "stream",
     "text": [
      "Training:  39%|██████████████████████████▊                                         | 1326/3368 [02:21<03:35,  9.49it/s]"
     ]
    },
    {
     "name": "stdout",
     "output_type": "stream",
     "text": [
      "--> WARNING: Skipping corrupted file: FakeVsRealDataset(for-original)\\training\\fake\\file27206.mp3\n"
     ]
    },
    {
     "name": "stderr",
     "output_type": "stream",
     "text": [
      "Training:  40%|███████████████████████████▏                                        | 1345/3368 [02:23<03:30,  9.61it/s]"
     ]
    },
    {
     "name": "stdout",
     "output_type": "stream",
     "text": [
      "--> WARNING: Skipping corrupted file: FakeVsRealDataset(for-original)\\training\\fake\\file5323.mp3\n"
     ]
    },
    {
     "name": "stderr",
     "output_type": "stream",
     "text": [
      "Training:  53%|███████████████████████████████████▉                                | 1782/3368 [03:14<02:40,  9.87it/s]"
     ]
    },
    {
     "name": "stdout",
     "output_type": "stream",
     "text": [
      "--> WARNING: Skipping corrupted file: FakeVsRealDataset(for-original)\\training\\fake\\file15746.mp3\n"
     ]
    },
    {
     "name": "stderr",
     "output_type": "stream",
     "text": [
      "Training:  60%|████████████████████████████████████████▌                           | 2012/3368 [03:43<02:30,  9.03it/s]"
     ]
    },
    {
     "name": "stdout",
     "output_type": "stream",
     "text": [
      "--> WARNING: Skipping corrupted file: FakeVsRealDataset(for-original)\\training\\fake\\file31017.mp3\n"
     ]
    },
    {
     "name": "stderr",
     "output_type": "stream",
     "text": [
      "Training:  62%|██████████████████████████████████████████▎                         | 2096/3368 [03:53<02:18,  9.16it/s]"
     ]
    },
    {
     "name": "stdout",
     "output_type": "stream",
     "text": [
      "--> WARNING: Skipping corrupted file: FakeVsRealDataset(for-original)\\training\\fake\\file9875.mp3\n"
     ]
    },
    {
     "name": "stderr",
     "output_type": "stream",
     "text": [
      "Training:  76%|███████████████████████████████████████████████████▌                | 2553/3368 [05:01<02:45,  4.92it/s]"
     ]
    },
    {
     "name": "stdout",
     "output_type": "stream",
     "text": [
      "--> WARNING: Skipping corrupted file: FakeVsRealDataset(for-original)\\training\\fake\\file17450.mp3\n"
     ]
    },
    {
     "name": "stderr",
     "output_type": "stream",
     "text": [
      "Training:  79%|█████████████████████████████████████████████████████▉              | 2671/3368 [05:28<02:27,  4.71it/s]"
     ]
    },
    {
     "name": "stdout",
     "output_type": "stream",
     "text": [
      "--> WARNING: Skipping corrupted file: FakeVsRealDataset(for-original)\\training\\fake\\file27643.mp3\n"
     ]
    },
    {
     "name": "stderr",
     "output_type": "stream",
     "text": [
      "Training:  86%|██████████████████████████████████████████████████████████▋         | 2909/3368 [06:26<01:39,  4.61it/s]"
     ]
    },
    {
     "name": "stdout",
     "output_type": "stream",
     "text": [
      "--> WARNING: Skipping corrupted file: FakeVsRealDataset(for-original)\\training\\fake\\file27839.mp3\n"
     ]
    },
    {
     "name": "stderr",
     "output_type": "stream",
     "text": [
      "Training:  89%|████████████████████████████████████████████████████████████▋       | 3007/3368 [06:50<01:21,  4.44it/s]"
     ]
    },
    {
     "name": "stdout",
     "output_type": "stream",
     "text": [
      "--> WARNING: Skipping corrupted file: FakeVsRealDataset(for-original)\\training\\fake\\file32972.mp3\n"
     ]
    },
    {
     "name": "stderr",
     "output_type": "stream",
     "text": [
      "Training:  93%|███████████████████████████████████████████████████████████████▎    | 3137/3368 [07:23<00:50,  4.60it/s]"
     ]
    },
    {
     "name": "stdout",
     "output_type": "stream",
     "text": [
      "--> WARNING: Skipping corrupted file: FakeVsRealDataset(for-original)\\training\\fake\\file16643.mp3\n"
     ]
    },
    {
     "name": "stderr",
     "output_type": "stream",
     "text": [
      "Training: 100%|████████████████████████████████████████████████████████████████████| 3368/3368 [08:20<00:00,  6.72it/s]\n",
      "Evaluating:  15%|██████████                                                          | 100/675 [00:18<01:34,  6.05it/s]"
     ]
    },
    {
     "name": "stdout",
     "output_type": "stream",
     "text": [
      "--> WARNING: Skipping corrupted file: FakeVsRealDataset(for-original)\\validation\\fake\\file16165.mp3\n"
     ]
    },
    {
     "name": "stderr",
     "output_type": "stream",
     "text": [
      "Evaluating:  37%|█████████████████████████▍                                          | 253/675 [00:46<01:10,  5.95it/s]"
     ]
    },
    {
     "name": "stdout",
     "output_type": "stream",
     "text": [
      "--> WARNING: Skipping corrupted file: FakeVsRealDataset(for-original)\\validation\\fake\\file31606.mp3\n"
     ]
    },
    {
     "name": "stderr",
     "output_type": "stream",
     "text": [
      "Evaluating: 100%|████████████████████████████████████████████████████████████████████| 675/675 [02:13<00:00,  5.05it/s]\n"
     ]
    },
    {
     "name": "stdout",
     "output_type": "stream",
     "text": [
      "Epoch: 04 | Train Loss: nan | Train Acc: 0.9897 | Val Loss: nan | Val Acc: 0.4970\n"
     ]
    },
    {
     "name": "stderr",
     "output_type": "stream",
     "text": [
      "Training:   4%|██▊                                                                  | 137/3368 [00:14<05:01, 10.71it/s]"
     ]
    },
    {
     "name": "stdout",
     "output_type": "stream",
     "text": [
      "--> WARNING: Skipping corrupted file: FakeVsRealDataset(for-original)\\training\\fake\\file5323.mp3\n"
     ]
    },
    {
     "name": "stderr",
     "output_type": "stream",
     "text": [
      "Training:  13%|████████▋                                                            | 425/3368 [00:44<04:26, 11.03it/s]"
     ]
    },
    {
     "name": "stdout",
     "output_type": "stream",
     "text": [
      "--> WARNING: Skipping corrupted file: FakeVsRealDataset(for-original)\\training\\fake\\file15746.mp3\n"
     ]
    },
    {
     "name": "stderr",
     "output_type": "stream",
     "text": [
      "Training:  23%|████████████████                                                     | 784/3368 [01:22<04:35,  9.38it/s]"
     ]
    },
    {
     "name": "stdout",
     "output_type": "stream",
     "text": [
      "--> WARNING: Skipping corrupted file: FakeVsRealDataset(for-original)\\training\\fake\\file27643.mp3\n"
     ]
    },
    {
     "name": "stderr",
     "output_type": "stream",
     "text": [
      "Training:  30%|████████████████████▍                                                | 999/3368 [01:45<04:28,  8.82it/s]"
     ]
    },
    {
     "name": "stdout",
     "output_type": "stream",
     "text": [
      "--> WARNING: Skipping corrupted file: FakeVsRealDataset(for-original)\\training\\fake\\file16643.mp3\n"
     ]
    },
    {
     "name": "stderr",
     "output_type": "stream",
     "text": [
      "Training:  30%|████████████████████▎                                               | 1003/3368 [01:46<04:11,  9.42it/s]"
     ]
    },
    {
     "name": "stdout",
     "output_type": "stream",
     "text": [
      "--> WARNING: Skipping corrupted file: FakeVsRealDataset(for-original)\\training\\fake\\file9875.mp3\n"
     ]
    },
    {
     "name": "stderr",
     "output_type": "stream",
     "text": [
      "Training:  30%|████████████████████▋                                               | 1027/3368 [01:48<04:33,  8.55it/s]"
     ]
    },
    {
     "name": "stdout",
     "output_type": "stream",
     "text": [
      "--> WARNING: Skipping corrupted file: FakeVsRealDataset(for-original)\\training\\fake\\file17407.mp3\n"
     ]
    },
    {
     "name": "stderr",
     "output_type": "stream",
     "text": [
      "Training:  45%|██████████████████████████████▋                                     | 1518/3368 [02:44<03:12,  9.63it/s]"
     ]
    },
    {
     "name": "stdout",
     "output_type": "stream",
     "text": [
      "--> WARNING: Skipping corrupted file: FakeVsRealDataset(for-original)\\training\\fake\\file31017.mp3\n"
     ]
    },
    {
     "name": "stderr",
     "output_type": "stream",
     "text": [
      "Training:  46%|███████████████████████████████▌                                    | 1564/3368 [02:49<03:20,  8.98it/s]"
     ]
    },
    {
     "name": "stdout",
     "output_type": "stream",
     "text": [
      "--> WARNING: Skipping corrupted file: FakeVsRealDataset(for-original)\\training\\fake\\file13424.mp3\n"
     ]
    },
    {
     "name": "stderr",
     "output_type": "stream",
     "text": [
      "Training:  55%|█████████████████████████████████████▌                              | 1860/3368 [03:23<02:43,  9.24it/s]"
     ]
    },
    {
     "name": "stdout",
     "output_type": "stream",
     "text": [
      "--> WARNING: Skipping corrupted file: FakeVsRealDataset(for-original)\\training\\fake\\file30959.mp3\n"
     ]
    },
    {
     "name": "stderr",
     "output_type": "stream",
     "text": [
      "Training:  63%|██████████████████████████████████████████▊                         | 2121/3368 [03:56<02:26,  8.51it/s]"
     ]
    },
    {
     "name": "stdout",
     "output_type": "stream",
     "text": [
      "--> WARNING: Skipping corrupted file: FakeVsRealDataset(for-original)\\training\\fake\\file27206.mp3\n"
     ]
    },
    {
     "name": "stderr",
     "output_type": "stream",
     "text": [
      "Training:  73%|█████████████████████████████████████████████████▍                  | 2450/3368 [04:41<02:02,  7.51it/s]"
     ]
    },
    {
     "name": "stdout",
     "output_type": "stream",
     "text": [
      "--> WARNING: Skipping corrupted file: FakeVsRealDataset(for-original)\\training\\fake\\file32972.mp3\n"
     ]
    },
    {
     "name": "stderr",
     "output_type": "stream",
     "text": [
      "Training:  74%|██████████████████████████████████████████████████▌                 | 2504/3368 [04:50<01:56,  7.42it/s]"
     ]
    },
    {
     "name": "stdout",
     "output_type": "stream",
     "text": [
      "--> WARNING: Skipping corrupted file: FakeVsRealDataset(for-original)\\training\\fake\\file17450.mp3\n"
     ]
    },
    {
     "name": "stderr",
     "output_type": "stream",
     "text": [
      "Training:  82%|███████████████████████████████████████████████████████▉            | 2772/3368 [05:48<02:06,  4.70it/s]"
     ]
    },
    {
     "name": "stdout",
     "output_type": "stream",
     "text": [
      "--> WARNING: Skipping corrupted file: FakeVsRealDataset(for-original)\\training\\fake\\file19851.mp3\n"
     ]
    },
    {
     "name": "stderr",
     "output_type": "stream",
     "text": [
      "Training:  86%|██████████████████████████████████████████████████████████▏         | 2881/3368 [06:14<01:45,  4.62it/s]"
     ]
    },
    {
     "name": "stdout",
     "output_type": "stream",
     "text": [
      "--> WARNING: Skipping corrupted file: FakeVsRealDataset(for-original)\\training\\fake\\file27839.mp3\n"
     ]
    },
    {
     "name": "stderr",
     "output_type": "stream",
     "text": [
      "Training: 100%|████████████████████████████████████████████████████████████████████| 3368/3368 [08:15<00:00,  6.80it/s]\n",
      "Evaluating:  15%|██████████                                                          | 100/675 [00:18<01:38,  5.81it/s]"
     ]
    },
    {
     "name": "stdout",
     "output_type": "stream",
     "text": [
      "--> WARNING: Skipping corrupted file: FakeVsRealDataset(for-original)\\validation\\fake\\file16165.mp3\n"
     ]
    },
    {
     "name": "stderr",
     "output_type": "stream",
     "text": [
      "Evaluating:  37%|█████████████████████████▍                                          | 253/675 [00:46<01:09,  6.05it/s]"
     ]
    },
    {
     "name": "stdout",
     "output_type": "stream",
     "text": [
      "--> WARNING: Skipping corrupted file: FakeVsRealDataset(for-original)\\validation\\fake\\file31606.mp3\n"
     ]
    },
    {
     "name": "stderr",
     "output_type": "stream",
     "text": [
      "Evaluating: 100%|████████████████████████████████████████████████████████████████████| 675/675 [02:14<00:00,  5.03it/s]\n"
     ]
    },
    {
     "name": "stdout",
     "output_type": "stream",
     "text": [
      "Epoch: 05 | Train Loss: nan | Train Acc: 0.9915 | Val Loss: nan | Val Acc: 0.4970\n"
     ]
    },
    {
     "name": "stderr",
     "output_type": "stream",
     "text": [
      "Training:   5%|███▌                                                                 | 176/3368 [00:18<05:22,  9.89it/s]"
     ]
    },
    {
     "name": "stdout",
     "output_type": "stream",
     "text": [
      "--> WARNING: Skipping corrupted file: FakeVsRealDataset(for-original)\\training\\fake\\file15746.mp3\n"
     ]
    },
    {
     "name": "stderr",
     "output_type": "stream",
     "text": [
      "Training:  14%|█████████▍                                                           | 460/3368 [00:48<04:40, 10.35it/s]"
     ]
    },
    {
     "name": "stdout",
     "output_type": "stream",
     "text": [
      "--> WARNING: Skipping corrupted file: FakeVsRealDataset(for-original)\\training\\fake\\file19851.mp3\n"
     ]
    },
    {
     "name": "stderr",
     "output_type": "stream",
     "text": [
      "Training:  20%|█████████████▊                                                       | 677/3368 [01:14<04:31,  9.91it/s]"
     ]
    },
    {
     "name": "stdout",
     "output_type": "stream",
     "text": [
      "--> WARNING: Skipping corrupted file: FakeVsRealDataset(for-original)\\training\\fake\\file16643.mp3\n"
     ]
    },
    {
     "name": "stderr",
     "output_type": "stream",
     "text": [
      "Training:  22%|███████████████▍                                                     | 751/3368 [01:23<04:18, 10.13it/s]"
     ]
    },
    {
     "name": "stdout",
     "output_type": "stream",
     "text": [
      "--> WARNING: Skipping corrupted file: FakeVsRealDataset(for-original)\\training\\fake\\file17450.mp3\n"
     ]
    },
    {
     "name": "stderr",
     "output_type": "stream",
     "text": [
      "Training:  25%|█████████████████▏                                                   | 836/3368 [01:33<04:32,  9.31it/s]"
     ]
    },
    {
     "name": "stdout",
     "output_type": "stream",
     "text": [
      "--> WARNING: Skipping corrupted file: FakeVsRealDataset(for-original)\\training\\fake\\file9875.mp3\n"
     ]
    },
    {
     "name": "stderr",
     "output_type": "stream",
     "text": [
      "Training:  27%|██████████████████▍                                                  | 903/3368 [01:41<04:20,  9.47it/s]"
     ]
    },
    {
     "name": "stdout",
     "output_type": "stream",
     "text": [
      "--> WARNING: Skipping corrupted file: FakeVsRealDataset(for-original)\\training\\fake\\file32972.mp3\n"
     ]
    },
    {
     "name": "stderr",
     "output_type": "stream",
     "text": [
      "Training:  29%|███████████████████▊                                                 | 968/3368 [01:49<04:23,  9.11it/s]"
     ]
    },
    {
     "name": "stdout",
     "output_type": "stream",
     "text": [
      "--> WARNING: Skipping corrupted file: FakeVsRealDataset(for-original)\\training\\fake\\file31017.mp3\n"
     ]
    },
    {
     "name": "stderr",
     "output_type": "stream",
     "text": [
      "Training:  40%|██████████████████████████▉                                         | 1335/3368 [02:34<03:28,  9.76it/s]"
     ]
    },
    {
     "name": "stdout",
     "output_type": "stream",
     "text": [
      "--> WARNING: Skipping corrupted file: FakeVsRealDataset(for-original)\\training\\fake\\file5323.mp3\n"
     ]
    },
    {
     "name": "stderr",
     "output_type": "stream",
     "text": [
      "Training:  43%|█████████████████████████████▎                                      | 1449/3368 [02:48<03:23,  9.43it/s]"
     ]
    },
    {
     "name": "stdout",
     "output_type": "stream",
     "text": [
      "--> WARNING: Skipping corrupted file: FakeVsRealDataset(for-original)\\training\\fake\\file17407.mp3\n"
     ]
    },
    {
     "name": "stderr",
     "output_type": "stream",
     "text": [
      "Training:  47%|███████████████████████████████▉                                    | 1580/3368 [03:05<04:19,  6.89it/s]"
     ]
    },
    {
     "name": "stdout",
     "output_type": "stream",
     "text": [
      "--> WARNING: Skipping corrupted file: FakeVsRealDataset(for-original)\\training\\fake\\file30959.mp3\n"
     ]
    },
    {
     "name": "stderr",
     "output_type": "stream",
     "text": [
      "Training:  57%|██████████████████████████████████████▌                             | 1913/3368 [03:50<02:45,  8.77it/s]"
     ]
    },
    {
     "name": "stdout",
     "output_type": "stream",
     "text": [
      "--> WARNING: Skipping corrupted file: FakeVsRealDataset(for-original)\\training\\fake\\file27206.mp3\n"
     ]
    },
    {
     "name": "stderr",
     "output_type": "stream",
     "text": [
      "Training:  66%|████████████████████████████████████████████▊                       | 2218/3368 [04:34<02:53,  6.63it/s]"
     ]
    },
    {
     "name": "stdout",
     "output_type": "stream",
     "text": [
      "--> WARNING: Skipping corrupted file: FakeVsRealDataset(for-original)\\training\\fake\\file13424.mp3\n"
     ]
    },
    {
     "name": "stderr",
     "output_type": "stream",
     "text": [
      "Training:  82%|████████████████████████████████████████████████████████            | 2775/3368 [06:34<02:09,  4.58it/s]"
     ]
    },
    {
     "name": "stdout",
     "output_type": "stream",
     "text": [
      "--> WARNING: Skipping corrupted file: FakeVsRealDataset(for-original)\\training\\fake\\file27643.mp3\n"
     ]
    },
    {
     "name": "stderr",
     "output_type": "stream",
     "text": [
      "Training:  93%|███████████████████████████████████████████████████████████████▎    | 3136/3368 [08:05<00:50,  4.56it/s]"
     ]
    },
    {
     "name": "stdout",
     "output_type": "stream",
     "text": [
      "--> WARNING: Skipping corrupted file: FakeVsRealDataset(for-original)\\training\\fake\\file27839.mp3\n"
     ]
    },
    {
     "name": "stderr",
     "output_type": "stream",
     "text": [
      "Training: 100%|████████████████████████████████████████████████████████████████████| 3368/3368 [09:04<00:00,  6.19it/s]\n",
      "Evaluating:  15%|██████████                                                          | 100/675 [00:19<01:42,  5.60it/s]"
     ]
    },
    {
     "name": "stdout",
     "output_type": "stream",
     "text": [
      "--> WARNING: Skipping corrupted file: FakeVsRealDataset(for-original)\\validation\\fake\\file16165.mp3\n"
     ]
    },
    {
     "name": "stderr",
     "output_type": "stream",
     "text": [
      "Evaluating:  37%|█████████████████████████▍                                          | 253/675 [00:47<01:10,  5.97it/s]"
     ]
    },
    {
     "name": "stdout",
     "output_type": "stream",
     "text": [
      "--> WARNING: Skipping corrupted file: FakeVsRealDataset(for-original)\\validation\\fake\\file31606.mp3\n"
     ]
    },
    {
     "name": "stderr",
     "output_type": "stream",
     "text": [
      "Evaluating: 100%|████████████████████████████████████████████████████████████████████| 675/675 [02:16<00:00,  4.95it/s]\n"
     ]
    },
    {
     "name": "stdout",
     "output_type": "stream",
     "text": [
      "Epoch: 06 | Train Loss: nan | Train Acc: 0.9916 | Val Loss: nan | Val Acc: 0.4970\n",
      "    -> Learning rate reduced to 0.000010\n"
     ]
    },
    {
     "name": "stderr",
     "output_type": "stream",
     "text": [
      "Training:  17%|███████████▋                                                         | 573/3368 [01:00<04:24, 10.55it/s]"
     ]
    },
    {
     "name": "stdout",
     "output_type": "stream",
     "text": [
      "--> WARNING: Skipping corrupted file: FakeVsRealDataset(for-original)\\training\\fake\\file32972.mp3\n"
     ]
    },
    {
     "name": "stderr",
     "output_type": "stream",
     "text": [
      "Training:  25%|█████████████████▍                                                   | 851/3368 [01:30<03:56, 10.65it/s]"
     ]
    },
    {
     "name": "stdout",
     "output_type": "stream",
     "text": [
      "--> WARNING: Skipping corrupted file: FakeVsRealDataset(for-original)\\training\\fake\\file27839.mp3\n"
     ]
    },
    {
     "name": "stderr",
     "output_type": "stream",
     "text": [
      "Training:  29%|███████████████████▊                                                 | 967/3368 [01:43<03:55, 10.18it/s]"
     ]
    },
    {
     "name": "stdout",
     "output_type": "stream",
     "text": [
      "--> WARNING: Skipping corrupted file: FakeVsRealDataset(for-original)\\training\\fake\\file15746.mp3\n"
     ]
    },
    {
     "name": "stderr",
     "output_type": "stream",
     "text": [
      "Training:  47%|████████████████████████████████▏                                   | 1593/3368 [02:58<03:54,  7.57it/s]"
     ]
    },
    {
     "name": "stdout",
     "output_type": "stream",
     "text": [
      "--> WARNING: Skipping corrupted file: FakeVsRealDataset(for-original)\\training\\fake\\file16643.mp3\n"
     ]
    },
    {
     "name": "stderr",
     "output_type": "stream",
     "text": [
      "Training:  50%|█████████████████████████████████▋                                  | 1669/3368 [03:07<03:25,  8.27it/s]"
     ]
    },
    {
     "name": "stdout",
     "output_type": "stream",
     "text": [
      "--> WARNING: Skipping corrupted file: FakeVsRealDataset(for-original)\\training\\fake\\file5323.mp3\n"
     ]
    },
    {
     "name": "stderr",
     "output_type": "stream",
     "text": [
      "Training:  50%|██████████████████████████████████▎                                 | 1700/3368 [03:11<03:32,  7.85it/s]"
     ]
    },
    {
     "name": "stdout",
     "output_type": "stream",
     "text": [
      "--> WARNING: Skipping corrupted file: FakeVsRealDataset(for-original)\\training\\fake\\file17450.mp3\n"
     ]
    },
    {
     "name": "stderr",
     "output_type": "stream",
     "text": [
      "Training:  54%|████████████████████████████████████▉                               | 1830/3368 [03:28<03:16,  7.84it/s]"
     ]
    },
    {
     "name": "stdout",
     "output_type": "stream",
     "text": [
      "--> WARNING: Skipping corrupted file: FakeVsRealDataset(for-original)\\training\\fake\\file19851.mp3\n"
     ]
    },
    {
     "name": "stderr",
     "output_type": "stream",
     "text": [
      "Training:  58%|███████████████████████████████████████▏                            | 1943/3368 [03:43<03:07,  7.62it/s]"
     ]
    },
    {
     "name": "stdout",
     "output_type": "stream",
     "text": [
      "--> WARNING: Skipping corrupted file: FakeVsRealDataset(for-original)\\training\\fake\\file27206.mp3\n"
     ]
    },
    {
     "name": "stderr",
     "output_type": "stream",
     "text": [
      "Training:  69%|██████████████████████████████████████████████▋                     | 2311/3368 [04:34<02:39,  6.63it/s]"
     ]
    },
    {
     "name": "stdout",
     "output_type": "stream",
     "text": [
      "--> WARNING: Skipping corrupted file: FakeVsRealDataset(for-original)\\training\\fake\\file13424.mp3\n"
     ]
    },
    {
     "name": "stderr",
     "output_type": "stream",
     "text": [
      "Training:  69%|██████████████████████████████████████████████▉                     | 2323/3368 [04:35<02:23,  7.26it/s]"
     ]
    },
    {
     "name": "stdout",
     "output_type": "stream",
     "text": [
      "--> WARNING: Skipping corrupted file: FakeVsRealDataset(for-original)\\training\\fake\\file30959.mp3\n"
     ]
    },
    {
     "name": "stderr",
     "output_type": "stream",
     "text": [
      "Training:  76%|███████████████████████████████████████████████████▍                | 2546/3368 [05:16<02:55,  4.69it/s]"
     ]
    },
    {
     "name": "stdout",
     "output_type": "stream",
     "text": [
      "--> WARNING: Skipping corrupted file: FakeVsRealDataset(for-original)\\training\\fake\\file9875.mp3\n"
     ]
    },
    {
     "name": "stderr",
     "output_type": "stream",
     "text": [
      "Training:  77%|████████████████████████████████████████████████████                | 2580/3368 [05:23<02:29,  5.27it/s]"
     ]
    },
    {
     "name": "stdout",
     "output_type": "stream",
     "text": [
      "--> WARNING: Skipping corrupted file: FakeVsRealDataset(for-original)\\training\\fake\\file17407.mp3\n"
     ]
    },
    {
     "name": "stderr",
     "output_type": "stream",
     "text": [
      "Training:  96%|█████████████████████████████████████████████████████████████████▌  | 3245/3368 [08:08<00:26,  4.57it/s]"
     ]
    },
    {
     "name": "stdout",
     "output_type": "stream",
     "text": [
      "--> WARNING: Skipping corrupted file: FakeVsRealDataset(for-original)\\training\\fake\\file27643.mp3\n"
     ]
    },
    {
     "name": "stderr",
     "output_type": "stream",
     "text": [
      "Training:  99%|███████████████████████████████████████████████████████████████████▍| 3341/3368 [08:32<00:06,  4.35it/s]"
     ]
    },
    {
     "name": "stdout",
     "output_type": "stream",
     "text": [
      "--> WARNING: Skipping corrupted file: FakeVsRealDataset(for-original)\\training\\fake\\file31017.mp3\n"
     ]
    },
    {
     "name": "stderr",
     "output_type": "stream",
     "text": [
      "Training: 100%|████████████████████████████████████████████████████████████████████| 3368/3368 [08:39<00:00,  6.49it/s]\n",
      "Evaluating:  15%|██████████                                                          | 100/675 [00:19<01:40,  5.69it/s]"
     ]
    },
    {
     "name": "stdout",
     "output_type": "stream",
     "text": [
      "--> WARNING: Skipping corrupted file: FakeVsRealDataset(for-original)\\validation\\fake\\file16165.mp3\n"
     ]
    },
    {
     "name": "stderr",
     "output_type": "stream",
     "text": [
      "Evaluating:  37%|█████████████████████████▍                                          | 253/675 [00:47<01:11,  5.93it/s]"
     ]
    },
    {
     "name": "stdout",
     "output_type": "stream",
     "text": [
      "--> WARNING: Skipping corrupted file: FakeVsRealDataset(for-original)\\validation\\fake\\file31606.mp3\n"
     ]
    },
    {
     "name": "stderr",
     "output_type": "stream",
     "text": [
      "Evaluating: 100%|████████████████████████████████████████████████████████████████████| 675/675 [02:15<00:00,  4.98it/s]\n"
     ]
    },
    {
     "name": "stdout",
     "output_type": "stream",
     "text": [
      "Epoch: 07 | Train Loss: nan | Train Acc: 0.9923 | Val Loss: nan | Val Acc: 0.4970\n"
     ]
    },
    {
     "name": "stderr",
     "output_type": "stream",
     "text": [
      "Training:   2%|█▌                                                                    | 74/3368 [00:08<05:28, 10.02it/s]"
     ]
    },
    {
     "name": "stdout",
     "output_type": "stream",
     "text": [
      "--> WARNING: Skipping corrupted file: FakeVsRealDataset(for-original)\\training\\fake\\file13424.mp3\n"
     ]
    },
    {
     "name": "stderr",
     "output_type": "stream",
     "text": [
      "Training:  25%|█████████████████▍                                                   | 851/3368 [01:31<04:17,  9.79it/s]"
     ]
    },
    {
     "name": "stdout",
     "output_type": "stream",
     "text": [
      "--> WARNING: Skipping corrupted file: FakeVsRealDataset(for-original)\\training\\fake\\file31017.mp3\n"
     ]
    },
    {
     "name": "stderr",
     "output_type": "stream",
     "text": [
      "Training:  27%|██████████████████▎                                                  | 895/3368 [01:36<03:50, 10.71it/s]"
     ]
    },
    {
     "name": "stdout",
     "output_type": "stream",
     "text": [
      "--> WARNING: Skipping corrupted file: FakeVsRealDataset(for-original)\\training\\fake\\file5323.mp3\n"
     ]
    },
    {
     "name": "stderr",
     "output_type": "stream",
     "text": [
      "Training:  30%|████████████████████▎                                               | 1004/3368 [01:48<03:53, 10.12it/s]"
     ]
    },
    {
     "name": "stdout",
     "output_type": "stream",
     "text": [
      "--> WARNING: Skipping corrupted file: FakeVsRealDataset(for-original)\\training\\fake\\file30959.mp3\n"
     ]
    },
    {
     "name": "stderr",
     "output_type": "stream",
     "text": [
      "Training:  40%|███████████████████████████                                         | 1343/3368 [02:27<03:38,  9.29it/s]"
     ]
    },
    {
     "name": "stdout",
     "output_type": "stream",
     "text": [
      "--> WARNING: Skipping corrupted file: FakeVsRealDataset(for-original)\\training\\fake\\file17450.mp3\n"
     ]
    },
    {
     "name": "stderr",
     "output_type": "stream",
     "text": [
      "Training:  45%|██████████████████████████████▋                                     | 1517/3368 [02:47<03:04, 10.04it/s]"
     ]
    },
    {
     "name": "stdout",
     "output_type": "stream",
     "text": [
      "--> WARNING: Skipping corrupted file: FakeVsRealDataset(for-original)\\training\\fake\\file16643.mp3\n"
     ]
    },
    {
     "name": "stderr",
     "output_type": "stream",
     "text": [
      "Training:  55%|█████████████████████████████████████▍                              | 1857/3368 [03:29<02:36,  9.64it/s]"
     ]
    },
    {
     "name": "stdout",
     "output_type": "stream",
     "text": [
      "--> WARNING: Skipping corrupted file: FakeVsRealDataset(for-original)\\training\\fake\\file19851.mp3\n"
     ]
    },
    {
     "name": "stderr",
     "output_type": "stream",
     "text": [
      "Training:  64%|███████████████████████████████████████████▎                        | 2147/3368 [04:07<02:35,  7.86it/s]"
     ]
    },
    {
     "name": "stdout",
     "output_type": "stream",
     "text": [
      "--> WARNING: Skipping corrupted file: FakeVsRealDataset(for-original)\\training\\fake\\file32972.mp3\n"
     ]
    },
    {
     "name": "stderr",
     "output_type": "stream",
     "text": [
      "Training:  67%|█████████████████████████████████████████████▊                      | 2268/3368 [04:24<02:21,  7.79it/s]"
     ]
    },
    {
     "name": "stdout",
     "output_type": "stream",
     "text": [
      "--> WARNING: Skipping corrupted file: FakeVsRealDataset(for-original)\\training\\fake\\file27206.mp3\n"
     ]
    },
    {
     "name": "stderr",
     "output_type": "stream",
     "text": [
      "Training:  72%|█████████████████████████████████████████████████                   | 2431/3368 [04:48<02:02,  7.65it/s]"
     ]
    },
    {
     "name": "stdout",
     "output_type": "stream",
     "text": [
      "--> WARNING: Skipping corrupted file: FakeVsRealDataset(for-original)\\training\\fake\\file15746.mp3\n"
     ]
    },
    {
     "name": "stderr",
     "output_type": "stream",
     "text": [
      "Training:  77%|████████████████████████████████████████████████████                | 2580/3368 [05:19<02:39,  4.95it/s]"
     ]
    },
    {
     "name": "stdout",
     "output_type": "stream",
     "text": [
      "--> WARNING: Skipping corrupted file: FakeVsRealDataset(for-original)\\training\\fake\\file27839.mp3\n"
     ]
    },
    {
     "name": "stderr",
     "output_type": "stream",
     "text": [
      "Training:  77%|████████████████████████████████████████████████████▎               | 2590/3368 [05:21<02:45,  4.69it/s]"
     ]
    },
    {
     "name": "stdout",
     "output_type": "stream",
     "text": [
      "--> WARNING: Skipping corrupted file: FakeVsRealDataset(for-original)\\training\\fake\\file9875.mp3\n"
     ]
    },
    {
     "name": "stderr",
     "output_type": "stream",
     "text": [
      "Training:  82%|███████████████████████████████████████████████████████▌            | 2754/3368 [06:01<02:11,  4.65it/s]"
     ]
    },
    {
     "name": "stdout",
     "output_type": "stream",
     "text": [
      "--> WARNING: Skipping corrupted file: FakeVsRealDataset(for-original)\\training\\fake\\file17407.mp3\n"
     ]
    },
    {
     "name": "stderr",
     "output_type": "stream",
     "text": [
      "Training:  86%|██████████████████████████████████████████████████████████▋         | 2908/3368 [06:39<01:39,  4.62it/s]"
     ]
    },
    {
     "name": "stdout",
     "output_type": "stream",
     "text": [
      "--> WARNING: Skipping corrupted file: FakeVsRealDataset(for-original)\\training\\fake\\file27643.mp3\n"
     ]
    },
    {
     "name": "stderr",
     "output_type": "stream",
     "text": [
      "Training: 100%|████████████████████████████████████████████████████████████████████| 3368/3368 [08:35<00:00,  6.54it/s]\n",
      "Evaluating:  15%|██████████                                                          | 100/675 [00:19<01:40,  5.75it/s]"
     ]
    },
    {
     "name": "stdout",
     "output_type": "stream",
     "text": [
      "--> WARNING: Skipping corrupted file: FakeVsRealDataset(for-original)\\validation\\fake\\file16165.mp3\n"
     ]
    },
    {
     "name": "stderr",
     "output_type": "stream",
     "text": [
      "Evaluating:  37%|█████████████████████████▍                                          | 253/675 [00:47<01:09,  6.06it/s]"
     ]
    },
    {
     "name": "stdout",
     "output_type": "stream",
     "text": [
      "--> WARNING: Skipping corrupted file: FakeVsRealDataset(for-original)\\validation\\fake\\file31606.mp3\n"
     ]
    },
    {
     "name": "stderr",
     "output_type": "stream",
     "text": [
      "Evaluating: 100%|████████████████████████████████████████████████████████████████████| 675/675 [02:15<00:00,  4.97it/s]\n"
     ]
    },
    {
     "name": "stdout",
     "output_type": "stream",
     "text": [
      "Epoch: 08 | Train Loss: nan | Train Acc: 0.9919 | Val Loss: nan | Val Acc: 0.4970\n"
     ]
    },
    {
     "name": "stderr",
     "output_type": "stream",
     "text": [
      "Training:   8%|█████▋                                                               | 275/3368 [00:29<05:46,  8.93it/s]"
     ]
    },
    {
     "name": "stdout",
     "output_type": "stream",
     "text": [
      "--> WARNING: Skipping corrupted file: FakeVsRealDataset(for-original)\\training\\fake\\file19851.mp3\n"
     ]
    },
    {
     "name": "stderr",
     "output_type": "stream",
     "text": [
      "Training:  14%|█████████▌                                                           | 469/3368 [00:50<04:43, 10.21it/s]"
     ]
    },
    {
     "name": "stdout",
     "output_type": "stream",
     "text": [
      "--> WARNING: Skipping corrupted file: FakeVsRealDataset(for-original)\\training\\fake\\file13424.mp3\n"
     ]
    },
    {
     "name": "stderr",
     "output_type": "stream",
     "text": [
      "Training:  15%|██████████                                                           | 490/3368 [00:52<04:46, 10.05it/s]"
     ]
    },
    {
     "name": "stdout",
     "output_type": "stream",
     "text": [
      "--> WARNING: Skipping corrupted file: FakeVsRealDataset(for-original)\\training\\fake\\file17407.mp3\n"
     ]
    },
    {
     "name": "stderr",
     "output_type": "stream",
     "text": [
      "Training:  31%|████████████████████▉                                               | 1036/3368 [01:53<03:56,  9.87it/s]"
     ]
    },
    {
     "name": "stdout",
     "output_type": "stream",
     "text": [
      "--> WARNING: Skipping corrupted file: FakeVsRealDataset(for-original)\\training\\fake\\file30959.mp3\n"
     ]
    },
    {
     "name": "stderr",
     "output_type": "stream",
     "text": [
      "Training:  39%|██████████████████████████▍                                         | 1308/3368 [02:24<04:01,  8.55it/s]"
     ]
    },
    {
     "name": "stdout",
     "output_type": "stream",
     "text": [
      "--> WARNING: Skipping corrupted file: FakeVsRealDataset(for-original)\\training\\fake\\file27206.mp3\n"
     ]
    },
    {
     "name": "stderr",
     "output_type": "stream",
     "text": [
      "Training:  48%|████████████████████████████████▍                                   | 1604/3368 [02:59<03:29,  8.41it/s]"
     ]
    },
    {
     "name": "stdout",
     "output_type": "stream",
     "text": [
      "--> WARNING: Skipping corrupted file: FakeVsRealDataset(for-original)\\training\\fake\\file9875.mp3\n"
     ]
    },
    {
     "name": "stderr",
     "output_type": "stream",
     "text": [
      "Training:  62%|█████████████████████████████████████████▉                          | 2076/3368 [03:59<02:43,  7.90it/s]"
     ]
    },
    {
     "name": "stdout",
     "output_type": "stream",
     "text": [
      "--> WARNING: Skipping corrupted file: FakeVsRealDataset(for-original)\\training\\fake\\file32972.mp3\n"
     ]
    },
    {
     "name": "stderr",
     "output_type": "stream",
     "text": [
      "Training:  65%|███████████████████████████████████████████▉                        | 2179/3368 [04:15<02:55,  6.77it/s]"
     ]
    },
    {
     "name": "stdout",
     "output_type": "stream",
     "text": [
      "--> WARNING: Skipping corrupted file: FakeVsRealDataset(for-original)\\training\\fake\\file27643.mp3\n"
     ]
    },
    {
     "name": "stderr",
     "output_type": "stream",
     "text": [
      "Training:  79%|██████████████████████████████████████████████████████              | 2676/3368 [05:44<02:24,  4.78it/s]"
     ]
    },
    {
     "name": "stdout",
     "output_type": "stream",
     "text": [
      "--> WARNING: Skipping corrupted file: FakeVsRealDataset(for-original)\\training\\fake\\file15746.mp3\n"
     ]
    },
    {
     "name": "stderr",
     "output_type": "stream",
     "text": [
      "Training:  83%|████████████████████████████████████████████████████████▍           | 2794/3368 [06:13<02:04,  4.59it/s]"
     ]
    },
    {
     "name": "stdout",
     "output_type": "stream",
     "text": [
      "--> WARNING: Skipping corrupted file: FakeVsRealDataset(for-original)\\training\\fake\\file27839.mp3\n"
     ]
    },
    {
     "name": "stderr",
     "output_type": "stream",
     "text": [
      "Training:  83%|████████████████████████████████████████████████████████▌           | 2801/3368 [06:14<02:08,  4.40it/s]"
     ]
    },
    {
     "name": "stdout",
     "output_type": "stream",
     "text": [
      "--> WARNING: Skipping corrupted file: FakeVsRealDataset(for-original)\\training\\fake\\file16643.mp3\n"
     ]
    },
    {
     "name": "stderr",
     "output_type": "stream",
     "text": [
      "Training:  84%|█████████████████████████████████████████████████████████▏          | 2831/3368 [06:22<02:01,  4.40it/s]"
     ]
    },
    {
     "name": "stdout",
     "output_type": "stream",
     "text": [
      "--> WARNING: Skipping corrupted file: FakeVsRealDataset(for-original)\\training\\fake\\file5323.mp3\n"
     ]
    },
    {
     "name": "stderr",
     "output_type": "stream",
     "text": [
      "Training:  93%|███████████████████████████████████████████████████████████████▍    | 3140/3368 [07:40<00:51,  4.40it/s]"
     ]
    },
    {
     "name": "stdout",
     "output_type": "stream",
     "text": [
      "--> WARNING: Skipping corrupted file: FakeVsRealDataset(for-original)\\training\\fake\\file31017.mp3\n"
     ]
    },
    {
     "name": "stderr",
     "output_type": "stream",
     "text": [
      "Training:  95%|████████████████████████████████████████████████████████████████▎   | 3186/3368 [07:51<00:41,  4.38it/s]"
     ]
    },
    {
     "name": "stdout",
     "output_type": "stream",
     "text": [
      "--> WARNING: Skipping corrupted file: FakeVsRealDataset(for-original)\\training\\fake\\file17450.mp3\n"
     ]
    },
    {
     "name": "stderr",
     "output_type": "stream",
     "text": [
      "Training: 100%|████████████████████████████████████████████████████████████████████| 3368/3368 [08:37<00:00,  6.51it/s]\n",
      "Evaluating:  15%|██████████                                                          | 100/675 [00:19<01:39,  5.76it/s]"
     ]
    },
    {
     "name": "stdout",
     "output_type": "stream",
     "text": [
      "--> WARNING: Skipping corrupted file: FakeVsRealDataset(for-original)\\validation\\fake\\file16165.mp3\n"
     ]
    },
    {
     "name": "stderr",
     "output_type": "stream",
     "text": [
      "Evaluating:  37%|█████████████████████████▍                                          | 253/675 [00:47<01:11,  5.94it/s]"
     ]
    },
    {
     "name": "stdout",
     "output_type": "stream",
     "text": [
      "--> WARNING: Skipping corrupted file: FakeVsRealDataset(for-original)\\validation\\fake\\file31606.mp3\n"
     ]
    },
    {
     "name": "stderr",
     "output_type": "stream",
     "text": [
      "Evaluating: 100%|████████████████████████████████████████████████████████████████████| 675/675 [02:16<00:00,  4.96it/s]\n"
     ]
    },
    {
     "name": "stdout",
     "output_type": "stream",
     "text": [
      "Epoch: 09 | Train Loss: nan | Train Acc: 0.9921 | Val Loss: nan | Val Acc: 0.4970\n",
      "    -> Learning rate reduced to 0.000001\n"
     ]
    },
    {
     "name": "stderr",
     "output_type": "stream",
     "text": [
      "Training:   6%|████                                                                 | 199/3368 [00:21<05:48,  9.10it/s]"
     ]
    },
    {
     "name": "stdout",
     "output_type": "stream",
     "text": [
      "--> WARNING: Skipping corrupted file: FakeVsRealDataset(for-original)\\training\\fake\\file17450.mp3\n"
     ]
    },
    {
     "name": "stderr",
     "output_type": "stream",
     "text": [
      "Training:  15%|██████████▌                                                          | 516/3368 [00:55<05:15,  9.05it/s]"
     ]
    },
    {
     "name": "stdout",
     "output_type": "stream",
     "text": [
      "--> WARNING: Skipping corrupted file: FakeVsRealDataset(for-original)\\training\\fake\\file16643.mp3\n"
     ]
    },
    {
     "name": "stderr",
     "output_type": "stream",
     "text": [
      "Training:  16%|██████████▉                                                          | 534/3368 [00:57<04:31, 10.42it/s]"
     ]
    },
    {
     "name": "stdout",
     "output_type": "stream",
     "text": [
      "--> WARNING: Skipping corrupted file: FakeVsRealDataset(for-original)\\training\\fake\\file27643.mp3\n"
     ]
    },
    {
     "name": "stderr",
     "output_type": "stream",
     "text": [
      "Training:  17%|███████████▍                                                         | 559/3368 [01:00<04:58,  9.40it/s]"
     ]
    },
    {
     "name": "stdout",
     "output_type": "stream",
     "text": [
      "--> WARNING: Skipping corrupted file: FakeVsRealDataset(for-original)\\training\\fake\\file19851.mp3\n"
     ]
    },
    {
     "name": "stderr",
     "output_type": "stream",
     "text": [
      "Training:  28%|███████████████████▎                                                 | 943/3368 [01:43<04:11,  9.63it/s]"
     ]
    },
    {
     "name": "stdout",
     "output_type": "stream",
     "text": [
      "--> WARNING: Skipping corrupted file: FakeVsRealDataset(for-original)\\training\\fake\\file9875.mp3\n"
     ]
    },
    {
     "name": "stderr",
     "output_type": "stream",
     "text": [
      "Training:  31%|████████████████████▊                                               | 1029/3368 [01:53<04:13,  9.22it/s]"
     ]
    },
    {
     "name": "stdout",
     "output_type": "stream",
     "text": [
      "--> WARNING: Skipping corrupted file: FakeVsRealDataset(for-original)\\training\\fake\\file31017.mp3\n"
     ]
    },
    {
     "name": "stderr",
     "output_type": "stream",
     "text": [
      "Training:  33%|██████████████████████▍                                             | 1113/3368 [02:02<03:59,  9.42it/s]"
     ]
    },
    {
     "name": "stdout",
     "output_type": "stream",
     "text": [
      "--> WARNING: Skipping corrupted file: FakeVsRealDataset(for-original)\\training\\fake\\file27839.mp3\n"
     ]
    },
    {
     "name": "stderr",
     "output_type": "stream",
     "text": [
      "Training:  37%|████████████████████████▉                                           | 1234/3368 [02:16<03:48,  9.35it/s]"
     ]
    },
    {
     "name": "stdout",
     "output_type": "stream",
     "text": [
      "--> WARNING: Skipping corrupted file: FakeVsRealDataset(for-original)\\training\\fake\\file5323.mp3\n"
     ]
    },
    {
     "name": "stderr",
     "output_type": "stream",
     "text": [
      "Training:  49%|█████████████████████████████████▌                                  | 1661/3368 [03:08<02:55,  9.70it/s]"
     ]
    },
    {
     "name": "stdout",
     "output_type": "stream",
     "text": [
      "--> WARNING: Skipping corrupted file: FakeVsRealDataset(for-original)\\training\\fake\\file30959.mp3\n"
     ]
    },
    {
     "name": "stderr",
     "output_type": "stream",
     "text": [
      "Training:  60%|█████████████████████████████████████████                           | 2032/3368 [03:56<02:26,  9.15it/s]"
     ]
    },
    {
     "name": "stdout",
     "output_type": "stream",
     "text": [
      "--> WARNING: Skipping corrupted file: FakeVsRealDataset(for-original)\\training\\fake\\file15746.mp3\n"
     ]
    },
    {
     "name": "stderr",
     "output_type": "stream",
     "text": [
      "Training:  67%|█████████████████████████████████████████████▋                      | 2263/3368 [04:29<02:07,  8.67it/s]"
     ]
    },
    {
     "name": "stdout",
     "output_type": "stream",
     "text": [
      "--> WARNING: Skipping corrupted file: FakeVsRealDataset(for-original)\\training\\fake\\file17407.mp3\n"
     ]
    },
    {
     "name": "stderr",
     "output_type": "stream",
     "text": [
      "Training:  72%|████████████████████████████████████████████████▋                   | 2413/3368 [04:52<02:17,  6.92it/s]"
     ]
    },
    {
     "name": "stdout",
     "output_type": "stream",
     "text": [
      "--> WARNING: Skipping corrupted file: FakeVsRealDataset(for-original)\\training\\fake\\file27206.mp3\n"
     ]
    },
    {
     "name": "stderr",
     "output_type": "stream",
     "text": [
      "Training:  83%|████████████████████████████████████████████████████████▍           | 2797/3368 [06:19<02:06,  4.52it/s]"
     ]
    },
    {
     "name": "stdout",
     "output_type": "stream",
     "text": [
      "--> WARNING: Skipping corrupted file: FakeVsRealDataset(for-original)\\training\\fake\\file13424.mp3\n"
     ]
    },
    {
     "name": "stderr",
     "output_type": "stream",
     "text": [
      "Training:  94%|███████████████████████████████████████████████████████████████▋    | 3157/3368 [07:50<00:46,  4.58it/s]"
     ]
    },
    {
     "name": "stdout",
     "output_type": "stream",
     "text": [
      "--> WARNING: Skipping corrupted file: FakeVsRealDataset(for-original)\\training\\fake\\file32972.mp3\n"
     ]
    },
    {
     "name": "stderr",
     "output_type": "stream",
     "text": [
      "Training: 100%|████████████████████████████████████████████████████████████████████| 3368/3368 [08:43<00:00,  6.43it/s]\n",
      "Evaluating:  15%|██████████                                                          | 100/675 [00:19<01:42,  5.60it/s]"
     ]
    },
    {
     "name": "stdout",
     "output_type": "stream",
     "text": [
      "--> WARNING: Skipping corrupted file: FakeVsRealDataset(for-original)\\validation\\fake\\file16165.mp3\n"
     ]
    },
    {
     "name": "stderr",
     "output_type": "stream",
     "text": [
      "Evaluating:  37%|█████████████████████████▍                                          | 253/675 [00:49<01:14,  5.70it/s]"
     ]
    },
    {
     "name": "stdout",
     "output_type": "stream",
     "text": [
      "--> WARNING: Skipping corrupted file: FakeVsRealDataset(for-original)\\validation\\fake\\file31606.mp3\n"
     ]
    },
    {
     "name": "stderr",
     "output_type": "stream",
     "text": [
      "Evaluating: 100%|████████████████████████████████████████████████████████████████████| 675/675 [02:18<00:00,  4.87it/s]\n"
     ]
    },
    {
     "name": "stdout",
     "output_type": "stream",
     "text": [
      "Epoch: 10 | Train Loss: nan | Train Acc: 0.9926 | Val Loss: nan | Val Acc: 0.4970\n"
     ]
    },
    {
     "name": "stderr",
     "output_type": "stream",
     "text": [
      "Training:   3%|██▏                                                                  | 107/3368 [00:12<05:41,  9.56it/s]"
     ]
    },
    {
     "name": "stdout",
     "output_type": "stream",
     "text": [
      "--> WARNING: Skipping corrupted file: FakeVsRealDataset(for-original)\\training\\fake\\file15746.mp3\n"
     ]
    },
    {
     "name": "stderr",
     "output_type": "stream",
     "text": [
      "Training:  28%|███████████████████▎                                                 | 945/3368 [01:47<05:33,  7.26it/s]"
     ]
    },
    {
     "name": "stdout",
     "output_type": "stream",
     "text": [
      "--> WARNING: Skipping corrupted file: FakeVsRealDataset(for-original)\\training\\fake\\file13424.mp3\n"
     ]
    },
    {
     "name": "stderr",
     "output_type": "stream",
     "text": [
      "Training:  32%|█████████████████████▊                                              | 1081/3368 [02:03<04:31,  8.43it/s]"
     ]
    },
    {
     "name": "stdout",
     "output_type": "stream",
     "text": [
      "--> WARNING: Skipping corrupted file: FakeVsRealDataset(for-original)\\training\\fake\\file9875.mp3\n"
     ]
    },
    {
     "name": "stderr",
     "output_type": "stream",
     "text": [
      "Training:  33%|██████████████████████▏                                             | 1096/3368 [02:05<04:09,  9.09it/s]"
     ]
    },
    {
     "name": "stdout",
     "output_type": "stream",
     "text": [
      "--> WARNING: Skipping corrupted file: FakeVsRealDataset(for-original)\\training\\fake\\file17450.mp3\n"
     ]
    },
    {
     "name": "stderr",
     "output_type": "stream",
     "text": [
      "Training:  34%|███████████████████████▍                                            | 1160/3368 [02:13<04:04,  9.03it/s]"
     ]
    },
    {
     "name": "stdout",
     "output_type": "stream",
     "text": [
      "--> WARNING: Skipping corrupted file: FakeVsRealDataset(for-original)\\training\\fake\\file27643.mp3\n"
     ]
    },
    {
     "name": "stderr",
     "output_type": "stream",
     "text": [
      "Training:  38%|█████████████████████████▉                                          | 1286/3368 [02:29<04:52,  7.11it/s]"
     ]
    },
    {
     "name": "stdout",
     "output_type": "stream",
     "text": [
      "--> WARNING: Skipping corrupted file: FakeVsRealDataset(for-original)\\training\\fake\\file27839.mp3\n"
     ]
    },
    {
     "name": "stderr",
     "output_type": "stream",
     "text": [
      "Training:  48%|████████████████████████████████▊                                   | 1626/3368 [03:13<03:58,  7.30it/s]"
     ]
    },
    {
     "name": "stdout",
     "output_type": "stream",
     "text": [
      "--> WARNING: Skipping corrupted file: FakeVsRealDataset(for-original)\\training\\fake\\file32972.mp3\n"
     ]
    },
    {
     "name": "stderr",
     "output_type": "stream",
     "text": [
      "Training:  54%|████████████████████████████████████▍                               | 1805/3368 [03:38<03:51,  6.74it/s]"
     ]
    },
    {
     "name": "stdout",
     "output_type": "stream",
     "text": [
      "--> WARNING: Skipping corrupted file: FakeVsRealDataset(for-original)\\training\\fake\\file19851.mp3\n"
     ]
    },
    {
     "name": "stderr",
     "output_type": "stream",
     "text": [
      "Training:  54%|████████████████████████████████████▌                               | 1810/3368 [03:38<03:23,  7.66it/s]"
     ]
    },
    {
     "name": "stdout",
     "output_type": "stream",
     "text": [
      "--> WARNING: Skipping corrupted file: FakeVsRealDataset(for-original)\\training\\fake\\file16643.mp3\n"
     ]
    },
    {
     "name": "stderr",
     "output_type": "stream",
     "text": [
      "Training:  55%|█████████████████████████████████████▎                              | 1850/3368 [03:44<04:14,  5.97it/s]"
     ]
    },
    {
     "name": "stdout",
     "output_type": "stream",
     "text": [
      "--> WARNING: Skipping corrupted file: FakeVsRealDataset(for-original)\\training\\fake\\file27206.mp3\n"
     ]
    },
    {
     "name": "stderr",
     "output_type": "stream",
     "text": [
      "Training:  60%|█████████████████████████████████████████                           | 2035/3368 [04:11<03:11,  6.97it/s]"
     ]
    },
    {
     "name": "stdout",
     "output_type": "stream",
     "text": [
      "--> WARNING: Skipping corrupted file: FakeVsRealDataset(for-original)\\training\\fake\\file17407.mp3\n"
     ]
    },
    {
     "name": "stderr",
     "output_type": "stream",
     "text": [
      "Training:  74%|██████████████████████████████████████████████████▋                 | 2508/3368 [05:40<02:54,  4.93it/s]"
     ]
    },
    {
     "name": "stdout",
     "output_type": "stream",
     "text": [
      "--> WARNING: Skipping corrupted file: FakeVsRealDataset(for-original)\\training\\fake\\file30959.mp3\n"
     ]
    },
    {
     "name": "stderr",
     "output_type": "stream",
     "text": [
      "Training:  86%|██████████████████████████████████████████████████████████▎         | 2889/3368 [07:14<01:47,  4.45it/s]"
     ]
    },
    {
     "name": "stdout",
     "output_type": "stream",
     "text": [
      "--> WARNING: Skipping corrupted file: FakeVsRealDataset(for-original)\\training\\fake\\file31017.mp3\n"
     ]
    },
    {
     "name": "stderr",
     "output_type": "stream",
     "text": [
      "Training:  93%|███████████████████████████████████████████████████████████████▍    | 3141/3368 [08:39<00:53,  4.22it/s]"
     ]
    },
    {
     "name": "stdout",
     "output_type": "stream",
     "text": [
      "--> WARNING: Skipping corrupted file: FakeVsRealDataset(for-original)\\training\\fake\\file5323.mp3\n"
     ]
    },
    {
     "name": "stderr",
     "output_type": "stream",
     "text": [
      "Training: 100%|████████████████████████████████████████████████████████████████████| 3368/3368 [09:34<00:00,  5.86it/s]\n",
      "Evaluating:  15%|██████████                                                          | 100/675 [00:19<01:48,  5.30it/s]"
     ]
    },
    {
     "name": "stdout",
     "output_type": "stream",
     "text": [
      "--> WARNING: Skipping corrupted file: FakeVsRealDataset(for-original)\\validation\\fake\\file16165.mp3\n"
     ]
    },
    {
     "name": "stderr",
     "output_type": "stream",
     "text": [
      "Evaluating:  37%|█████████████████████████▍                                          | 253/675 [00:50<01:15,  5.58it/s]"
     ]
    },
    {
     "name": "stdout",
     "output_type": "stream",
     "text": [
      "--> WARNING: Skipping corrupted file: FakeVsRealDataset(for-original)\\validation\\fake\\file31606.mp3\n"
     ]
    },
    {
     "name": "stderr",
     "output_type": "stream",
     "text": [
      "Evaluating: 100%|████████████████████████████████████████████████████████████████████| 675/675 [02:25<00:00,  4.64it/s]\n"
     ]
    },
    {
     "name": "stdout",
     "output_type": "stream",
     "text": [
      "Epoch: 11 | Train Loss: nan | Train Acc: 0.9922 | Val Loss: nan | Val Acc: 0.4970\n"
     ]
    },
    {
     "name": "stderr",
     "output_type": "stream",
     "text": [
      "Training:   3%|█▉                                                                    | 91/3368 [00:12<08:21,  6.54it/s]"
     ]
    },
    {
     "name": "stdout",
     "output_type": "stream",
     "text": [
      "--> WARNING: Skipping corrupted file: FakeVsRealDataset(for-original)\\training\\fake\\file32972.mp3\n"
     ]
    },
    {
     "name": "stderr",
     "output_type": "stream",
     "text": [
      "Training:  21%|██████████████▋                                                      | 716/3368 [01:35<05:06,  8.64it/s]"
     ]
    },
    {
     "name": "stdout",
     "output_type": "stream",
     "text": [
      "--> WARNING: Skipping corrupted file: FakeVsRealDataset(for-original)\\training\\fake\\file27643.mp3\n"
     ]
    },
    {
     "name": "stderr",
     "output_type": "stream",
     "text": [
      "Training:  28%|███████████████████▍                                                 | 949/3368 [02:09<06:30,  6.19it/s]"
     ]
    },
    {
     "name": "stdout",
     "output_type": "stream",
     "text": [
      "--> WARNING: Skipping corrupted file: FakeVsRealDataset(for-original)\\training\\fake\\file30959.mp3\n"
     ]
    },
    {
     "name": "stderr",
     "output_type": "stream",
     "text": [
      "Training:  29%|███████████████████▋                                                 | 963/3368 [02:11<05:45,  6.97it/s]"
     ]
    },
    {
     "name": "stdout",
     "output_type": "stream",
     "text": [
      "--> WARNING: Skipping corrupted file: FakeVsRealDataset(for-original)\\training\\fake\\file17407.mp3\n"
     ]
    },
    {
     "name": "stderr",
     "output_type": "stream",
     "text": [
      "Training:  32%|█████████████████████▉                                              | 1088/3368 [02:30<04:55,  7.71it/s]"
     ]
    },
    {
     "name": "stdout",
     "output_type": "stream",
     "text": [
      "--> WARNING: Skipping corrupted file: FakeVsRealDataset(for-original)\\training\\fake\\file5323.mp3\n"
     ]
    },
    {
     "name": "stderr",
     "output_type": "stream",
     "text": [
      "Training:  36%|████████████████████████▏                                           | 1196/3368 [02:48<05:19,  6.79it/s]"
     ]
    },
    {
     "name": "stdout",
     "output_type": "stream",
     "text": [
      "--> WARNING: Skipping corrupted file: FakeVsRealDataset(for-original)\\training\\fake\\file16643.mp3\n"
     ]
    },
    {
     "name": "stderr",
     "output_type": "stream",
     "text": [
      "Training:  41%|███████████████████████████▊                                        | 1377/3368 [03:16<04:24,  7.54it/s]"
     ]
    },
    {
     "name": "stdout",
     "output_type": "stream",
     "text": [
      "--> WARNING: Skipping corrupted file: FakeVsRealDataset(for-original)\\training\\fake\\file27206.mp3\n"
     ]
    },
    {
     "name": "stderr",
     "output_type": "stream",
     "text": [
      "Training:  47%|███████████████████████████████▋                                    | 1569/3368 [03:48<04:03,  7.38it/s]"
     ]
    },
    {
     "name": "stdout",
     "output_type": "stream",
     "text": [
      "--> WARNING: Skipping corrupted file: FakeVsRealDataset(for-original)\\training\\fake\\file31017.mp3\n"
     ]
    },
    {
     "name": "stderr",
     "output_type": "stream",
     "text": [
      "Training:  48%|████████████████████████████████▋                                   | 1622/3368 [03:57<04:23,  6.62it/s]"
     ]
    },
    {
     "name": "stdout",
     "output_type": "stream",
     "text": [
      "--> WARNING: Skipping corrupted file: FakeVsRealDataset(for-original)\\training\\fake\\file27839.mp3\n"
     ]
    },
    {
     "name": "stderr",
     "output_type": "stream",
     "text": [
      "Training:  49%|█████████████████████████████████                                   | 1636/3368 [04:00<05:02,  5.73it/s]"
     ]
    },
    {
     "name": "stdout",
     "output_type": "stream",
     "text": [
      "--> WARNING: Skipping corrupted file: FakeVsRealDataset(for-original)\\training\\fake\\file19851.mp3\n"
     ]
    },
    {
     "name": "stderr",
     "output_type": "stream",
     "text": [
      "Training:  68%|██████████████████████████████████████████████▍                     | 2297/3368 [06:18<03:44,  4.77it/s]"
     ]
    },
    {
     "name": "stdout",
     "output_type": "stream",
     "text": [
      "--> WARNING: Skipping corrupted file: FakeVsRealDataset(for-original)\\training\\fake\\file9875.mp3\n"
     ]
    },
    {
     "name": "stderr",
     "output_type": "stream",
     "text": [
      "Training:  86%|██████████████████████████████████████████████████████████▋         | 2908/3368 [08:40<01:40,  4.58it/s]"
     ]
    },
    {
     "name": "stdout",
     "output_type": "stream",
     "text": [
      "--> WARNING: Skipping corrupted file: FakeVsRealDataset(for-original)\\training\\fake\\file15746.mp3\n"
     ]
    },
    {
     "name": "stderr",
     "output_type": "stream",
     "text": [
      "Training:  88%|███████████████████████████████████████████████████████████▋        | 2957/3368 [08:52<01:33,  4.40it/s]"
     ]
    },
    {
     "name": "stdout",
     "output_type": "stream",
     "text": [
      "--> WARNING: Skipping corrupted file: FakeVsRealDataset(for-original)\\training\\fake\\file13424.mp3\n"
     ]
    },
    {
     "name": "stderr",
     "output_type": "stream",
     "text": [
      "Training:  93%|███████████████████████████████████████████████████████████████▌    | 3148/3368 [09:39<01:19,  2.78it/s]"
     ]
    },
    {
     "name": "stdout",
     "output_type": "stream",
     "text": [
      "--> WARNING: Skipping corrupted file: FakeVsRealDataset(for-original)\\training\\fake\\file17450.mp3\n"
     ]
    },
    {
     "name": "stderr",
     "output_type": "stream",
     "text": [
      "Training: 100%|████████████████████████████████████████████████████████████████████| 3368/3368 [10:35<00:00,  5.30it/s]\n",
      "Evaluating:  15%|██████████                                                          | 100/675 [00:20<01:43,  5.56it/s]"
     ]
    },
    {
     "name": "stdout",
     "output_type": "stream",
     "text": [
      "--> WARNING: Skipping corrupted file: FakeVsRealDataset(for-original)\\validation\\fake\\file16165.mp3\n"
     ]
    },
    {
     "name": "stderr",
     "output_type": "stream",
     "text": [
      "Evaluating:  37%|█████████████████████████▍                                          | 253/675 [00:50<01:23,  5.03it/s]"
     ]
    },
    {
     "name": "stdout",
     "output_type": "stream",
     "text": [
      "--> WARNING: Skipping corrupted file: FakeVsRealDataset(for-original)\\validation\\fake\\file31606.mp3\n"
     ]
    },
    {
     "name": "stderr",
     "output_type": "stream",
     "text": [
      "Evaluating: 100%|████████████████████████████████████████████████████████████████████| 675/675 [02:25<00:00,  4.63it/s]\n"
     ]
    },
    {
     "name": "stdout",
     "output_type": "stream",
     "text": [
      "Epoch: 12 | Train Loss: nan | Train Acc: 0.9925 | Val Loss: nan | Val Acc: 0.4970\n",
      "    -> Learning rate reduced to 0.000000\n"
     ]
    },
    {
     "name": "stderr",
     "output_type": "stream",
     "text": [
      "Training:   2%|█▌                                                                    | 73/3368 [00:09<06:21,  8.64it/s]"
     ]
    },
    {
     "name": "stdout",
     "output_type": "stream",
     "text": [
      "--> WARNING: Skipping corrupted file: FakeVsRealDataset(for-original)\\training\\fake\\file31017.mp3\n"
     ]
    },
    {
     "name": "stderr",
     "output_type": "stream",
     "text": [
      "Training:   3%|█▊                                                                    | 87/3368 [00:11<07:08,  7.65it/s]"
     ]
    },
    {
     "name": "stdout",
     "output_type": "stream",
     "text": [
      "--> WARNING: Skipping corrupted file: FakeVsRealDataset(for-original)\\training\\fake\\file16643.mp3\n"
     ]
    },
    {
     "name": "stderr",
     "output_type": "stream",
     "text": [
      "Training:   8%|█████▊                                                               | 285/3368 [00:37<06:03,  8.49it/s]"
     ]
    },
    {
     "name": "stdout",
     "output_type": "stream",
     "text": [
      "--> WARNING: Skipping corrupted file: FakeVsRealDataset(for-original)\\training\\fake\\file5323.mp3\n"
     ]
    },
    {
     "name": "stderr",
     "output_type": "stream",
     "text": [
      "Training:   9%|██████▍                                                              | 315/3368 [00:40<06:20,  8.03it/s]"
     ]
    },
    {
     "name": "stdout",
     "output_type": "stream",
     "text": [
      "--> WARNING: Skipping corrupted file: FakeVsRealDataset(for-original)\\training\\fake\\file27206.mp3\n"
     ]
    },
    {
     "name": "stderr",
     "output_type": "stream",
     "text": [
      "Training:  14%|█████████▊                                                           | 481/3368 [01:02<05:56,  8.10it/s]"
     ]
    },
    {
     "name": "stdout",
     "output_type": "stream",
     "text": [
      "--> WARNING: Skipping corrupted file: FakeVsRealDataset(for-original)\\training\\fake\\file9875.mp3\n"
     ]
    },
    {
     "name": "stderr",
     "output_type": "stream",
     "text": [
      "Training:  21%|██████████████▌                                                      | 711/3368 [01:34<06:04,  7.29it/s]"
     ]
    },
    {
     "name": "stdout",
     "output_type": "stream",
     "text": [
      "--> WARNING: Skipping corrupted file: FakeVsRealDataset(for-original)\\training\\fake\\file17407.mp3\n"
     ]
    },
    {
     "name": "stderr",
     "output_type": "stream",
     "text": [
      "Training:  42%|████████████████████████████▊                                       | 1430/3368 [03:19<04:52,  6.61it/s]"
     ]
    },
    {
     "name": "stdout",
     "output_type": "stream",
     "text": [
      "--> WARNING: Skipping corrupted file: FakeVsRealDataset(for-original)\\training\\fake\\file32972.mp3\n"
     ]
    },
    {
     "name": "stderr",
     "output_type": "stream",
     "text": [
      "Training:  64%|███████████████████████████████████████████▋                        | 2163/3368 [05:20<03:52,  5.18it/s]"
     ]
    },
    {
     "name": "stdout",
     "output_type": "stream",
     "text": [
      "--> WARNING: Skipping corrupted file: FakeVsRealDataset(for-original)\\training\\fake\\file27643.mp3\n"
     ]
    },
    {
     "name": "stderr",
     "output_type": "stream",
     "text": [
      "Training:  67%|█████████████████████████████████████████████▏                      | 2241/3368 [05:35<03:01,  6.22it/s]"
     ]
    },
    {
     "name": "stdout",
     "output_type": "stream",
     "text": [
      "--> WARNING: Skipping corrupted file: FakeVsRealDataset(for-original)\\training\\fake\\file15746.mp3\n"
     ]
    },
    {
     "name": "stderr",
     "output_type": "stream",
     "text": [
      "Training:  75%|██████████████████████████████████████████████████▋                 | 2510/3368 [06:38<02:53,  4.94it/s]"
     ]
    },
    {
     "name": "stdout",
     "output_type": "stream",
     "text": [
      "--> WARNING: Skipping corrupted file: FakeVsRealDataset(for-original)\\training\\fake\\file13424.mp3\n"
     ]
    },
    {
     "name": "stderr",
     "output_type": "stream",
     "text": [
      "Training:  79%|█████████████████████████████████████████████████████▍              | 2648/3368 [07:10<02:30,  4.78it/s]"
     ]
    },
    {
     "name": "stdout",
     "output_type": "stream",
     "text": [
      "--> WARNING: Skipping corrupted file: FakeVsRealDataset(for-original)\\training\\fake\\file30959.mp3\n"
     ]
    },
    {
     "name": "stderr",
     "output_type": "stream",
     "text": [
      "Training:  80%|██████████████████████████████████████████████████████▎             | 2690/3368 [07:20<02:35,  4.35it/s]"
     ]
    },
    {
     "name": "stdout",
     "output_type": "stream",
     "text": [
      "--> WARNING: Skipping corrupted file: FakeVsRealDataset(for-original)\\training\\fake\\file19851.mp3\n"
     ]
    },
    {
     "name": "stderr",
     "output_type": "stream",
     "text": [
      "Training:  83%|████████████████████████████████████████████████████████▋           | 2809/3368 [07:49<02:05,  4.44it/s]"
     ]
    },
    {
     "name": "stdout",
     "output_type": "stream",
     "text": [
      "--> WARNING: Skipping corrupted file: FakeVsRealDataset(for-original)\\training\\fake\\file27839.mp3\n"
     ]
    },
    {
     "name": "stderr",
     "output_type": "stream",
     "text": [
      "Training:  99%|███████████████████████████████████████████████████████████████████▎| 3331/3368 [10:03<00:08,  4.51it/s]"
     ]
    },
    {
     "name": "stdout",
     "output_type": "stream",
     "text": [
      "--> WARNING: Skipping corrupted file: FakeVsRealDataset(for-original)\\training\\fake\\file17450.mp3\n"
     ]
    },
    {
     "name": "stderr",
     "output_type": "stream",
     "text": [
      "Training: 100%|████████████████████████████████████████████████████████████████████| 3368/3368 [10:12<00:00,  5.50it/s]\n",
      "Evaluating:  15%|██████████                                                          | 100/675 [00:19<01:40,  5.70it/s]"
     ]
    },
    {
     "name": "stdout",
     "output_type": "stream",
     "text": [
      "--> WARNING: Skipping corrupted file: FakeVsRealDataset(for-original)\\validation\\fake\\file16165.mp3\n"
     ]
    },
    {
     "name": "stderr",
     "output_type": "stream",
     "text": [
      "Evaluating:  37%|█████████████████████████▍                                          | 253/675 [00:48<01:24,  4.99it/s]"
     ]
    },
    {
     "name": "stdout",
     "output_type": "stream",
     "text": [
      "--> WARNING: Skipping corrupted file: FakeVsRealDataset(for-original)\\validation\\fake\\file31606.mp3\n"
     ]
    },
    {
     "name": "stderr",
     "output_type": "stream",
     "text": [
      "Evaluating: 100%|████████████████████████████████████████████████████████████████████| 675/675 [02:17<00:00,  4.91it/s]\n"
     ]
    },
    {
     "name": "stdout",
     "output_type": "stream",
     "text": [
      "Epoch: 13 | Train Loss: nan | Train Acc: 0.9919 | Val Loss: nan | Val Acc: 0.4970\n"
     ]
    },
    {
     "name": "stderr",
     "output_type": "stream",
     "text": [
      "Training:  10%|███████▏                                                             | 349/3368 [00:43<06:35,  7.63it/s]"
     ]
    },
    {
     "name": "stdout",
     "output_type": "stream",
     "text": [
      "--> WARNING: Skipping corrupted file: FakeVsRealDataset(for-original)\\training\\fake\\file9875.mp3\n"
     ]
    },
    {
     "name": "stderr",
     "output_type": "stream",
     "text": [
      "Training:  15%|██████████                                                           | 489/3368 [01:00<05:18,  9.05it/s]"
     ]
    },
    {
     "name": "stdout",
     "output_type": "stream",
     "text": [
      "--> WARNING: Skipping corrupted file: FakeVsRealDataset(for-original)\\training\\fake\\file30959.mp3\n"
     ]
    },
    {
     "name": "stderr",
     "output_type": "stream",
     "text": [
      "Training:  29%|████████████████████                                                 | 980/3368 [02:05<05:09,  7.71it/s]"
     ]
    },
    {
     "name": "stdout",
     "output_type": "stream",
     "text": [
      "--> WARNING: Skipping corrupted file: FakeVsRealDataset(for-original)\\training\\fake\\file31017.mp3\n"
     ]
    },
    {
     "name": "stderr",
     "output_type": "stream",
     "text": [
      "Training:  29%|████████████████████▎                                                | 989/3368 [02:06<04:47,  8.29it/s]"
     ]
    },
    {
     "name": "stdout",
     "output_type": "stream",
     "text": [
      "--> WARNING: Skipping corrupted file: FakeVsRealDataset(for-original)\\training\\fake\\file5323.mp3\n"
     ]
    },
    {
     "name": "stderr",
     "output_type": "stream",
     "text": [
      "Training:  36%|████████████████████████▎                                           | 1203/3368 [02:36<04:51,  7.44it/s]"
     ]
    },
    {
     "name": "stdout",
     "output_type": "stream",
     "text": [
      "--> WARNING: Skipping corrupted file: FakeVsRealDataset(for-original)\\training\\fake\\file15746.mp3\n"
     ]
    },
    {
     "name": "stderr",
     "output_type": "stream",
     "text": [
      "Training:  38%|█████████████████████████▉                                          | 1282/3368 [02:48<04:25,  7.86it/s]"
     ]
    },
    {
     "name": "stdout",
     "output_type": "stream",
     "text": [
      "--> WARNING: Skipping corrupted file: FakeVsRealDataset(for-original)\\training\\fake\\file13424.mp3\n"
     ]
    },
    {
     "name": "stderr",
     "output_type": "stream",
     "text": [
      "Training:  50%|█████████████████████████████████▊                                  | 1677/3368 [03:48<04:02,  6.98it/s]"
     ]
    },
    {
     "name": "stdout",
     "output_type": "stream",
     "text": [
      "--> WARNING: Skipping corrupted file: FakeVsRealDataset(for-original)\\training\\fake\\file27839.mp3\n"
     ]
    },
    {
     "name": "stderr",
     "output_type": "stream",
     "text": [
      "Training:  51%|███████████████████████████████████                                 | 1734/3368 [03:57<03:55,  6.94it/s]"
     ]
    },
    {
     "name": "stdout",
     "output_type": "stream",
     "text": [
      "--> WARNING: Skipping corrupted file: FakeVsRealDataset(for-original)\\training\\fake\\file32972.mp3\n"
     ]
    },
    {
     "name": "stderr",
     "output_type": "stream",
     "text": [
      "Training:  52%|███████████████████████████████████▎                                | 1751/3368 [04:00<04:36,  5.85it/s]"
     ]
    },
    {
     "name": "stdout",
     "output_type": "stream",
     "text": [
      "--> WARNING: Skipping corrupted file: FakeVsRealDataset(for-original)\\training\\fake\\file27206.mp3\n"
     ]
    },
    {
     "name": "stderr",
     "output_type": "stream",
     "text": [
      "Training:  56%|██████████████████████████████████████▎                             | 1898/3368 [04:25<03:07,  7.85it/s]"
     ]
    },
    {
     "name": "stdout",
     "output_type": "stream",
     "text": [
      "--> WARNING: Skipping corrupted file: FakeVsRealDataset(for-original)\\training\\fake\\file16643.mp3\n"
     ]
    },
    {
     "name": "stderr",
     "output_type": "stream",
     "text": [
      "Training:  59%|████████████████████████████████████████▎                           | 1999/3368 [04:44<04:10,  5.46it/s]"
     ]
    },
    {
     "name": "stdout",
     "output_type": "stream",
     "text": [
      "--> WARNING: Skipping corrupted file: FakeVsRealDataset(for-original)\\training\\fake\\file17407.mp3\n"
     ]
    },
    {
     "name": "stderr",
     "output_type": "stream",
     "text": [
      "Training:  83%|████████████████████████████████████████████████████████▋           | 2806/3368 [07:46<02:07,  4.40it/s]"
     ]
    },
    {
     "name": "stdout",
     "output_type": "stream",
     "text": [
      "--> WARNING: Skipping corrupted file: FakeVsRealDataset(for-original)\\training\\fake\\file19851.mp3\n"
     ]
    },
    {
     "name": "stderr",
     "output_type": "stream",
     "text": [
      "Training:  85%|█████████████████████████████████████████████████████████▌          | 2854/3368 [07:58<01:51,  4.62it/s]"
     ]
    },
    {
     "name": "stdout",
     "output_type": "stream",
     "text": [
      "--> WARNING: Skipping corrupted file: FakeVsRealDataset(for-original)\\training\\fake\\file27643.mp3\n"
     ]
    },
    {
     "name": "stderr",
     "output_type": "stream",
     "text": [
      "Training:  85%|██████████████████████████████████████████████████████████          | 2875/3368 [08:04<01:49,  4.50it/s]"
     ]
    },
    {
     "name": "stdout",
     "output_type": "stream",
     "text": [
      "--> WARNING: Skipping corrupted file: FakeVsRealDataset(for-original)\\training\\fake\\file17450.mp3\n"
     ]
    },
    {
     "name": "stderr",
     "output_type": "stream",
     "text": [
      "Training: 100%|████████████████████████████████████████████████████████████████████| 3368/3368 [10:08<00:00,  5.53it/s]\n",
      "Evaluating:  15%|██████████                                                          | 100/675 [00:19<01:46,  5.39it/s]"
     ]
    },
    {
     "name": "stdout",
     "output_type": "stream",
     "text": [
      "--> WARNING: Skipping corrupted file: FakeVsRealDataset(for-original)\\validation\\fake\\file16165.mp3\n"
     ]
    },
    {
     "name": "stderr",
     "output_type": "stream",
     "text": [
      "Evaluating:  37%|█████████████████████████▍                                          | 253/675 [00:48<01:14,  5.68it/s]"
     ]
    },
    {
     "name": "stdout",
     "output_type": "stream",
     "text": [
      "--> WARNING: Skipping corrupted file: FakeVsRealDataset(for-original)\\validation\\fake\\file31606.mp3\n"
     ]
    },
    {
     "name": "stderr",
     "output_type": "stream",
     "text": [
      "Evaluating: 100%|████████████████████████████████████████████████████████████████████| 675/675 [02:17<00:00,  4.91it/s]\n"
     ]
    },
    {
     "name": "stdout",
     "output_type": "stream",
     "text": [
      "Epoch: 14 | Train Loss: nan | Train Acc: 0.9923 | Val Loss: nan | Val Acc: 0.4970\n"
     ]
    },
    {
     "name": "stderr",
     "output_type": "stream",
     "text": [
      "Training:   3%|█▉                                                                    | 92/3368 [00:10<05:54,  9.23it/s]"
     ]
    },
    {
     "name": "stdout",
     "output_type": "stream",
     "text": [
      "--> WARNING: Skipping corrupted file: FakeVsRealDataset(for-original)\\training\\fake\\file9875.mp3\n"
     ]
    },
    {
     "name": "stderr",
     "output_type": "stream",
     "text": [
      "Training:  19%|█████████████▏                                                       | 646/3368 [01:12<04:54,  9.23it/s]"
     ]
    },
    {
     "name": "stdout",
     "output_type": "stream",
     "text": [
      "--> WARNING: Skipping corrupted file: FakeVsRealDataset(for-original)\\training\\fake\\file19851.mp3\n"
     ]
    },
    {
     "name": "stderr",
     "output_type": "stream",
     "text": [
      "Training:  22%|███████████████▍                                                     | 751/3368 [01:24<04:30,  9.69it/s]"
     ]
    },
    {
     "name": "stdout",
     "output_type": "stream",
     "text": [
      "--> WARNING: Skipping corrupted file: FakeVsRealDataset(for-original)\\training\\fake\\file16643.mp3\n"
     ]
    },
    {
     "name": "stderr",
     "output_type": "stream",
     "text": [
      "Training:  42%|████████████████████████████▎                                       | 1402/3368 [02:45<03:55,  8.34it/s]"
     ]
    },
    {
     "name": "stdout",
     "output_type": "stream",
     "text": [
      "--> WARNING: Skipping corrupted file: FakeVsRealDataset(for-original)\\training\\fake\\file27206.mp3\n"
     ]
    },
    {
     "name": "stderr",
     "output_type": "stream",
     "text": [
      "Training:  43%|█████████████████████████████                                       | 1439/3368 [02:49<03:31,  9.11it/s]"
     ]
    },
    {
     "name": "stdout",
     "output_type": "stream",
     "text": [
      "--> WARNING: Skipping corrupted file: FakeVsRealDataset(for-original)\\training\\fake\\file17450.mp3\n"
     ]
    },
    {
     "name": "stderr",
     "output_type": "stream",
     "text": [
      "Training:  48%|████████████████████████████████▉                                   | 1631/3368 [03:14<03:34,  8.08it/s]"
     ]
    },
    {
     "name": "stdout",
     "output_type": "stream",
     "text": [
      "--> WARNING: Skipping corrupted file: FakeVsRealDataset(for-original)\\training\\fake\\file30959.mp3\n"
     ]
    },
    {
     "name": "stderr",
     "output_type": "stream",
     "text": [
      "Training:  55%|█████████████████████████████████████▎                              | 1850/3368 [03:44<03:08,  8.05it/s]"
     ]
    },
    {
     "name": "stdout",
     "output_type": "stream",
     "text": [
      "--> WARNING: Skipping corrupted file: FakeVsRealDataset(for-original)\\training\\fake\\file27839.mp3\n"
     ]
    },
    {
     "name": "stderr",
     "output_type": "stream",
     "text": [
      "Training:  58%|███████████████████████████████████████▏                            | 1939/3368 [03:57<03:12,  7.41it/s]"
     ]
    },
    {
     "name": "stdout",
     "output_type": "stream",
     "text": [
      "--> WARNING: Skipping corrupted file: FakeVsRealDataset(for-original)\\training\\fake\\file5323.mp3\n"
     ]
    },
    {
     "name": "stderr",
     "output_type": "stream",
     "text": [
      "Training:  67%|█████████████████████████████████████████████▌                      | 2257/3368 [04:47<02:26,  7.58it/s]"
     ]
    },
    {
     "name": "stdout",
     "output_type": "stream",
     "text": [
      "--> WARNING: Skipping corrupted file: FakeVsRealDataset(for-original)\\training\\fake\\file17407.mp3\n"
     ]
    },
    {
     "name": "stderr",
     "output_type": "stream",
     "text": [
      "Training:  84%|█████████████████████████████████████████████████████████▏          | 2834/3368 [06:59<02:03,  4.32it/s]"
     ]
    },
    {
     "name": "stdout",
     "output_type": "stream",
     "text": [
      "--> WARNING: Skipping corrupted file: FakeVsRealDataset(for-original)\\training\\fake\\file31017.mp3\n"
     ]
    },
    {
     "name": "stderr",
     "output_type": "stream",
     "text": [
      "Training:  87%|███████████████████████████████████████████████████████████         | 2928/3368 [07:23<01:35,  4.62it/s]"
     ]
    },
    {
     "name": "stdout",
     "output_type": "stream",
     "text": [
      "--> WARNING: Skipping corrupted file: FakeVsRealDataset(for-original)\\training\\fake\\file27643.mp3\n"
     ]
    },
    {
     "name": "stderr",
     "output_type": "stream",
     "text": [
      "Training:  96%|█████████████████████████████████████████████████████████████████▏  | 3229/3368 [08:39<00:30,  4.56it/s]"
     ]
    },
    {
     "name": "stdout",
     "output_type": "stream",
     "text": [
      "--> WARNING: Skipping corrupted file: FakeVsRealDataset(for-original)\\training\\fake\\file13424.mp3\n"
     ]
    },
    {
     "name": "stderr",
     "output_type": "stream",
     "text": [
      "Training:  97%|██████████████████████████████████████████████████████████████████▏ | 3276/3368 [08:51<00:20,  4.40it/s]"
     ]
    },
    {
     "name": "stdout",
     "output_type": "stream",
     "text": [
      "--> WARNING: Skipping corrupted file: FakeVsRealDataset(for-original)\\training\\fake\\file15746.mp3\n"
     ]
    },
    {
     "name": "stderr",
     "output_type": "stream",
     "text": [
      "Training: 100%|███████████████████████████████████████████████████████████████████▊| 3361/3368 [09:12<00:01,  4.30it/s]"
     ]
    },
    {
     "name": "stdout",
     "output_type": "stream",
     "text": [
      "--> WARNING: Skipping corrupted file: FakeVsRealDataset(for-original)\\training\\fake\\file32972.mp3\n"
     ]
    },
    {
     "name": "stderr",
     "output_type": "stream",
     "text": [
      "Training: 100%|████████████████████████████████████████████████████████████████████| 3368/3368 [09:14<00:00,  6.08it/s]\n",
      "Evaluating:  15%|██████████                                                          | 100/675 [00:19<01:39,  5.79it/s]"
     ]
    },
    {
     "name": "stdout",
     "output_type": "stream",
     "text": [
      "--> WARNING: Skipping corrupted file: FakeVsRealDataset(for-original)\\validation\\fake\\file16165.mp3\n"
     ]
    },
    {
     "name": "stderr",
     "output_type": "stream",
     "text": [
      "Evaluating:  37%|█████████████████████████▍                                          | 253/675 [00:48<01:13,  5.72it/s]"
     ]
    },
    {
     "name": "stdout",
     "output_type": "stream",
     "text": [
      "--> WARNING: Skipping corrupted file: FakeVsRealDataset(for-original)\\validation\\fake\\file31606.mp3\n"
     ]
    },
    {
     "name": "stderr",
     "output_type": "stream",
     "text": [
      "Evaluating: 100%|████████████████████████████████████████████████████████████████████| 675/675 [02:16<00:00,  4.95it/s]"
     ]
    },
    {
     "name": "stdout",
     "output_type": "stream",
     "text": [
      "Epoch: 15 | Train Loss: nan | Train Acc: 0.9921 | Val Loss: nan | Val Acc: 0.4970\n",
      "    -> Learning rate reduced to 0.000000\n"
     ]
    },
    {
     "name": "stderr",
     "output_type": "stream",
     "text": [
      "\n"
     ]
    }
   ],
   "source": [
    "# --- Define Model ---\n",
    "class DeeperCNN(nn.Module):\n",
    "    def __init__(self, num_classes=2):\n",
    "        super().__init__()\n",
    "        self.conv_stack = nn.Sequential(\n",
    "            nn.Conv2d(1, 16, 3, 1, 1), nn.ReLU(), nn.BatchNorm2d(16), nn.MaxPool2d(2),\n",
    "            nn.Conv2d(16, 32, 3, 1, 1), nn.ReLU(), nn.BatchNorm2d(32), nn.MaxPool2d(2),\n",
    "            nn.Conv2d(32, 64, 3, 1, 1), nn.ReLU(), nn.BatchNorm2d(64), nn.MaxPool2d(2),\n",
    "            nn.Conv2d(64, 128, 3, 1, 1), nn.ReLU(), nn.BatchNorm2d(128), nn.MaxPool2d(2),\n",
    "        )\n",
    "        self.flatten = nn.Flatten()\n",
    "        self.linear_stack = nn.Sequential(\n",
    "            nn.Linear(128 * 8 * 7, 256), nn.ReLU(), nn.Dropout(0.5),\n",
    "            nn.Linear(256, num_classes)\n",
    "        )\n",
    "    def forward(self, x): return self.linear_stack(self.flatten(self.conv_stack(x)))\n",
    "\n",
    "# --- Run Experiment ---\n",
    "model_2_name = \"Deeper CNN\"\n",
    "model_2 = DeeperCNN().to(device)\n",
    "loss_fn_2 = nn.CrossEntropyLoss()\n",
    "optimizer_2 = torch.optim.Adam(model_2.parameters(), lr=LEARNING_RATE)\n",
    "scheduler_2 = torch.optim.lr_scheduler.ReduceLROnPlateau(optimizer_2, mode='min', factor=0.1, patience=2)\n",
    "\n",
    "deeper_cnn_history = run_experiment(model_2, train_loader, val_loader, loss_fn_2, optimizer_2, device, EPOCHS, scheduler_2)"
   ]
  },
  {
   "cell_type": "code",
   "execution_count": 13,
   "id": "df16f4b1-798b-49da-b937-96b55f8b544d",
   "metadata": {},
   "outputs": [
    {
     "data": {
      "image/png": "[encoded data removed]",
      "text/plain": [
       "<Figure size 1600x600 with 2 Axes>"
      ]
     },
     "metadata": {},
     "output_type": "display_data"
    },
    {
     "name": "stdout",
     "output_type": "stream",
     "text": [
      "\n",
      "--- Final Evaluation on Test Set for Deeper CNN ---\n"
     ]
    },
    {
     "name": "stderr",
     "output_type": "stream",
     "text": [
      "Evaluating: 100%|████████████████████████████████████████████████████████████████████| 290/290 [00:53<00:00,  5.43it/s]\n"
     ]
    },
    {
     "name": "stdout",
     "output_type": "stream",
     "text": [
      "Test Accuracy: 0.5108 | Test Loss: nan\n"
     ]
    },
    {
     "data": {
      "image/png": "[encoded data removed]",
      "text/plain": [
       "<Figure size 600x600 with 2 Axes>"
      ]
     },
     "metadata": {},
     "output_type": "display_data"
    }
   ],
   "source": [
    "# --- Visualize Results for Model 2 ---\n",
    "deeper_cnn_test_acc = plot_results(model_2, deeper_cnn_history, test_loader, loss_fn_2, device, model_2_name)"
   ]
  },
  {
   "cell_type": "code",
   "execution_count": 18,
   "id": "763d8586-b36c-4df8-9eb7-bbf5c701be70",
   "metadata": {},
   "outputs": [
    {
     "name": "stdout",
     "output_type": "stream",
     "text": [
      "Deeper CNN model saved to deeper_cnn_model.pth\n"
     ]
    }
   ],
   "source": [
    "# --- Save the trained model's weights ---\n",
    "torch.save(model_2.state_dict(), 'deeper_cnn_model.pth')\n",
    "print(\"Deeper CNN model saved to deeper_cnn_model.pth\")"
   ]
  },
  {
   "cell_type": "markdown",
   "id": "39460896-72d9-431f-ba63-3c31e15780c2",
   "metadata": {},
   "source": [
    "## Model 3: Vision Transformer (Transfer Learning)\n",
    "\n",
    "Now for a completely different approach. We will use a Vision Transformer (ViT), a powerful architecture pre-trained on millions of images. We will adapt it for our task by:\n",
    "\n",
    "1. Modifying its input \"patch embedding\" layer to handle our 1-channel spectrograms.\n",
    "\n",
    "2. Replacing its final classifier with one suited for our 2 classes.\n",
    "\n",
    "### This demonstrates the power of transfer learning."
   ]
  },
  {
   "cell_type": "code",
   "execution_count": 14,
   "id": "8f5abb68-57e4-4f83-b122-f49285dde06d",
   "metadata": {
    "scrolled": true
   },
   "outputs": [
    {
     "name": "stdout",
     "output_type": "stream",
     "text": [
      "\n",
      "--- Training ViTModel for 15 epochs ---\n"
     ]
    },
    {
     "name": "stderr",
     "output_type": "stream",
     "text": [
      "Training:   8%|█████▌                                                               | 269/3368 [01:32<14:15,  3.62it/s]"
     ]
    },
    {
     "name": "stdout",
     "output_type": "stream",
     "text": [
      "--> WARNING: Skipping corrupted file: FakeVsRealDataset(for-original)\\training\\fake\\file9875.mp3\n"
     ]
    },
    {
     "name": "stderr",
     "output_type": "stream",
     "text": [
      "Training:  21%|██████████████▌                                                      | 710/3368 [04:08<12:53,  3.44it/s]"
     ]
    },
    {
     "name": "stdout",
     "output_type": "stream",
     "text": [
      "--> WARNING: Skipping corrupted file: FakeVsRealDataset(for-original)\\training\\fake\\file27643.mp3\n"
     ]
    },
    {
     "name": "stderr",
     "output_type": "stream",
     "text": [
      "Training:  24%|████████████████▊                                                    | 822/3368 [04:48<12:29,  3.39it/s]"
     ]
    },
    {
     "name": "stdout",
     "output_type": "stream",
     "text": [
      "--> WARNING: Skipping corrupted file: FakeVsRealDataset(for-original)\\training\\fake\\file5323.mp3\n"
     ]
    },
    {
     "name": "stderr",
     "output_type": "stream",
     "text": [
      "Training:  36%|████████████████████████▏                                           | 1199/3368 [07:06<11:11,  3.23it/s]"
     ]
    },
    {
     "name": "stdout",
     "output_type": "stream",
     "text": [
      "--> WARNING: Skipping corrupted file: FakeVsRealDataset(for-original)\\training\\fake\\file31017.mp3\n"
     ]
    },
    {
     "name": "stderr",
     "output_type": "stream",
     "text": [
      "Training:  37%|█████████████████████████▏                                          | 1249/3368 [07:25<12:50,  2.75it/s]"
     ]
    },
    {
     "name": "stdout",
     "output_type": "stream",
     "text": [
      "--> WARNING: Skipping corrupted file: FakeVsRealDataset(for-original)\\training\\fake\\file16643.mp3\n"
     ]
    },
    {
     "name": "stderr",
     "output_type": "stream",
     "text": [
      "Training:  37%|█████████████████████████▍                                          | 1257/3368 [07:27<10:08,  3.47it/s]"
     ]
    },
    {
     "name": "stdout",
     "output_type": "stream",
     "text": [
      "--> WARNING: Skipping corrupted file: FakeVsRealDataset(for-original)\\training\\fake\\file27839.mp3\n"
     ]
    },
    {
     "name": "stderr",
     "output_type": "stream",
     "text": [
      "Training:  50%|██████████████████████████████████▏                                 | 1693/3368 [10:14<08:59,  3.11it/s]"
     ]
    },
    {
     "name": "stdout",
     "output_type": "stream",
     "text": [
      "--> WARNING: Skipping corrupted file: FakeVsRealDataset(for-original)\\training\\fake\\file13424.mp3\n"
     ]
    },
    {
     "name": "stderr",
     "output_type": "stream",
     "text": [
      "Training:  60%|████████████████████████████████████████▉                           | 2028/3368 [12:32<07:41,  2.91it/s]"
     ]
    },
    {
     "name": "stdout",
     "output_type": "stream",
     "text": [
      "--> WARNING: Skipping corrupted file: FakeVsRealDataset(for-original)\\training\\fake\\file17450.mp3\n"
     ]
    },
    {
     "name": "stderr",
     "output_type": "stream",
     "text": [
      "Training:  71%|████████████████████████████████████████████████▍                   | 2401/3368 [15:08<05:35,  2.88it/s]"
     ]
    },
    {
     "name": "stdout",
     "output_type": "stream",
     "text": [
      "--> WARNING: Skipping corrupted file: FakeVsRealDataset(for-original)\\training\\fake\\file19851.mp3\n"
     ]
    },
    {
     "name": "stderr",
     "output_type": "stream",
     "text": [
      "Training:  79%|█████████████████████████████████████████████████████▊              | 2666/3368 [16:59<04:04,  2.87it/s]"
     ]
    },
    {
     "name": "stdout",
     "output_type": "stream",
     "text": [
      "--> WARNING: Skipping corrupted file: FakeVsRealDataset(for-original)\\training\\fake\\file27206.mp3\n"
     ]
    },
    {
     "name": "stderr",
     "output_type": "stream",
     "text": [
      "Training:  81%|██████████████████████████████████████████████████████▉             | 2719/3368 [17:21<03:44,  2.89it/s]"
     ]
    },
    {
     "name": "stdout",
     "output_type": "stream",
     "text": [
      "--> WARNING: Skipping corrupted file: FakeVsRealDataset(for-original)\\training\\fake\\file17407.mp3\n"
     ]
    },
    {
     "name": "stderr",
     "output_type": "stream",
     "text": [
      "Training:  84%|█████████████████████████████████████████████████████████           | 2828/3368 [18:06<03:08,  2.86it/s]"
     ]
    },
    {
     "name": "stdout",
     "output_type": "stream",
     "text": [
      "--> WARNING: Skipping corrupted file: FakeVsRealDataset(for-original)\\training\\fake\\file30959.mp3\n"
     ]
    },
    {
     "name": "stderr",
     "output_type": "stream",
     "text": [
      "Training:  85%|█████████████████████████████████████████████████████████▉          | 2870/3368 [18:24<02:53,  2.87it/s]"
     ]
    },
    {
     "name": "stdout",
     "output_type": "stream",
     "text": [
      "--> WARNING: Skipping corrupted file: FakeVsRealDataset(for-original)\\training\\fake\\file32972.mp3\n"
     ]
    },
    {
     "name": "stderr",
     "output_type": "stream",
     "text": [
      "Training:  96%|█████████████████████████████████████████████████████████████████▎  | 3234/3368 [20:56<00:46,  2.89it/s]"
     ]
    },
    {
     "name": "stdout",
     "output_type": "stream",
     "text": [
      "--> WARNING: Skipping corrupted file: FakeVsRealDataset(for-original)\\training\\fake\\file15746.mp3\n"
     ]
    },
    {
     "name": "stderr",
     "output_type": "stream",
     "text": [
      "Training: 100%|████████████████████████████████████████████████████████████████████| 3368/3368 [21:52<00:00,  2.57it/s]\n",
      "Evaluating:  15%|██████████                                                          | 100/675 [00:33<02:42,  3.54it/s]"
     ]
    },
    {
     "name": "stdout",
     "output_type": "stream",
     "text": [
      "--> WARNING: Skipping corrupted file: FakeVsRealDataset(for-original)\\validation\\fake\\file16165.mp3\n"
     ]
    },
    {
     "name": "stderr",
     "output_type": "stream",
     "text": [
      "Evaluating:  37%|█████████████████████████▍                                          | 253/675 [01:23<01:56,  3.62it/s]"
     ]
    },
    {
     "name": "stdout",
     "output_type": "stream",
     "text": [
      "--> WARNING: Skipping corrupted file: FakeVsRealDataset(for-original)\\validation\\fake\\file31606.mp3\n"
     ]
    },
    {
     "name": "stderr",
     "output_type": "stream",
     "text": [
      "Evaluating: 100%|████████████████████████████████████████████████████████████████████| 675/675 [03:51<00:00,  2.92it/s]\n"
     ]
    },
    {
     "name": "stdout",
     "output_type": "stream",
     "text": [
      "Epoch: 01 | Train Loss: nan | Train Acc: 0.9384 | Val Loss: 0.0502 | Val Acc: 0.9794\n"
     ]
    },
    {
     "name": "stderr",
     "output_type": "stream",
     "text": [
      "Training:   3%|██                                                                   | 103/3368 [00:35<18:38,  2.92it/s]"
     ]
    },
    {
     "name": "stdout",
     "output_type": "stream",
     "text": [
      "--> WARNING: Skipping corrupted file: FakeVsRealDataset(for-original)\\training\\fake\\file27206.mp3\n"
     ]
    },
    {
     "name": "stderr",
     "output_type": "stream",
     "text": [
      "Training:   8%|█████▌                                                               | 269/3368 [01:31<17:52,  2.89it/s]"
     ]
    },
    {
     "name": "stdout",
     "output_type": "stream",
     "text": [
      "--> WARNING: Skipping corrupted file: FakeVsRealDataset(for-original)\\training\\fake\\file9875.mp3\n"
     ]
    },
    {
     "name": "stderr",
     "output_type": "stream",
     "text": [
      "Training:   8%|█████▋                                                               | 277/3368 [01:34<17:32,  2.94it/s]"
     ]
    },
    {
     "name": "stdout",
     "output_type": "stream",
     "text": [
      "--> WARNING: Skipping corrupted file: FakeVsRealDataset(for-original)\\training\\fake\\file19851.mp3\n"
     ]
    },
    {
     "name": "stderr",
     "output_type": "stream",
     "text": [
      "Training:   9%|██████▌                                                              | 318/3368 [01:48<17:16,  2.94it/s]"
     ]
    },
    {
     "name": "stdout",
     "output_type": "stream",
     "text": [
      "--> WARNING: Skipping corrupted file: FakeVsRealDataset(for-original)\\training\\fake\\file17407.mp3\n"
     ]
    },
    {
     "name": "stderr",
     "output_type": "stream",
     "text": [
      "Training:  20%|█████████████▉                                                       | 680/3368 [03:52<12:12,  3.67it/s]"
     ]
    },
    {
     "name": "stdout",
     "output_type": "stream",
     "text": [
      "--> WARNING: Skipping corrupted file: FakeVsRealDataset(for-original)\\training\\fake\\file31017.mp3\n"
     ]
    },
    {
     "name": "stderr",
     "output_type": "stream",
     "text": [
      "Training:  26%|█████████████████▋                                                   | 863/3368 [04:56<11:34,  3.61it/s]"
     ]
    },
    {
     "name": "stdout",
     "output_type": "stream",
     "text": [
      "--> WARNING: Skipping corrupted file: FakeVsRealDataset(for-original)\\training\\fake\\file13424.mp3\n"
     ]
    },
    {
     "name": "stderr",
     "output_type": "stream",
     "text": [
      "Training:  54%|████████████████████████████████████▋                               | 1816/3368 [10:38<07:45,  3.34it/s]"
     ]
    },
    {
     "name": "stdout",
     "output_type": "stream",
     "text": [
      "--> WARNING: Skipping corrupted file: FakeVsRealDataset(for-original)\\training\\fake\\file15746.mp3\n"
     ]
    },
    {
     "name": "stderr",
     "output_type": "stream",
     "text": [
      "Training:  71%|████████████████████████████████████████████████                    | 2381/3368 [14:22<05:40,  2.89it/s]"
     ]
    },
    {
     "name": "stdout",
     "output_type": "stream",
     "text": [
      "--> WARNING: Skipping corrupted file: FakeVsRealDataset(for-original)\\training\\fake\\file16643.mp3\n"
     ]
    },
    {
     "name": "stderr",
     "output_type": "stream",
     "text": [
      "Training:  74%|██████████████████████████████████████████████████▎                 | 2490/3368 [15:07<05:02,  2.90it/s]"
     ]
    },
    {
     "name": "stdout",
     "output_type": "stream",
     "text": [
      "--> WARNING: Skipping corrupted file: FakeVsRealDataset(for-original)\\training\\fake\\file17450.mp3\n"
     ]
    },
    {
     "name": "stderr",
     "output_type": "stream",
     "text": [
      "Training:  78%|████████████████████████████████████████████████████▊               | 2613/3368 [15:59<04:25,  2.85it/s]"
     ]
    },
    {
     "name": "stdout",
     "output_type": "stream",
     "text": [
      "--> WARNING: Skipping corrupted file: FakeVsRealDataset(for-original)\\training\\fake\\file27839.mp3\n"
     ]
    },
    {
     "name": "stderr",
     "output_type": "stream",
     "text": [
      "Training:  83%|████████████████████████████████████████████████████████▏           | 2785/3368 [17:11<03:22,  2.88it/s]"
     ]
    },
    {
     "name": "stdout",
     "output_type": "stream",
     "text": [
      "--> WARNING: Skipping corrupted file: FakeVsRealDataset(for-original)\\training\\fake\\file30959.mp3\n"
     ]
    },
    {
     "name": "stderr",
     "output_type": "stream",
     "text": [
      "Training:  91%|█████████████████████████████████████████████████████████████▉      | 3070/3368 [19:10<01:43,  2.87it/s]"
     ]
    },
    {
     "name": "stdout",
     "output_type": "stream",
     "text": [
      "--> WARNING: Skipping corrupted file: FakeVsRealDataset(for-original)\\training\\fake\\file32972.mp3\n"
     ]
    },
    {
     "name": "stderr",
     "output_type": "stream",
     "text": [
      "Training:  96%|█████████████████████████████████████████████████████████████████▏  | 3227/3368 [20:16<00:47,  2.95it/s]"
     ]
    },
    {
     "name": "stdout",
     "output_type": "stream",
     "text": [
      "--> WARNING: Skipping corrupted file: FakeVsRealDataset(for-original)\\training\\fake\\file27643.mp3\n"
     ]
    },
    {
     "name": "stderr",
     "output_type": "stream",
     "text": [
      "Training: 100%|███████████████████████████████████████████████████████████████████▉| 3367/3368 [21:15<00:00,  2.87it/s]"
     ]
    },
    {
     "name": "stdout",
     "output_type": "stream",
     "text": [
      "--> WARNING: Skipping corrupted file: FakeVsRealDataset(for-original)\\training\\fake\\file5323.mp3\n"
     ]
    },
    {
     "name": "stderr",
     "output_type": "stream",
     "text": [
      "Training: 100%|████████████████████████████████████████████████████████████████████| 3368/3368 [21:15<00:00,  2.64it/s]\n",
      "Evaluating:  15%|██████████                                                          | 100/675 [00:33<02:38,  3.62it/s]"
     ]
    },
    {
     "name": "stdout",
     "output_type": "stream",
     "text": [
      "--> WARNING: Skipping corrupted file: FakeVsRealDataset(for-original)\\validation\\fake\\file16165.mp3\n"
     ]
    },
    {
     "name": "stderr",
     "output_type": "stream",
     "text": [
      "Evaluating:  37%|█████████████████████████▍                                          | 253/675 [01:23<01:53,  3.73it/s]"
     ]
    },
    {
     "name": "stdout",
     "output_type": "stream",
     "text": [
      "--> WARNING: Skipping corrupted file: FakeVsRealDataset(for-original)\\validation\\fake\\file31606.mp3\n"
     ]
    },
    {
     "name": "stderr",
     "output_type": "stream",
     "text": [
      "Evaluating: 100%|████████████████████████████████████████████████████████████████████| 675/675 [03:50<00:00,  2.93it/s]\n"
     ]
    },
    {
     "name": "stdout",
     "output_type": "stream",
     "text": [
      "Epoch: 02 | Train Loss: nan | Train Acc: 0.9787 | Val Loss: 0.0386 | Val Acc: 0.9839\n"
     ]
    },
    {
     "name": "stderr",
     "output_type": "stream",
     "text": [
      "Training:   4%|██▉                                                                  | 143/3368 [00:48<18:01,  2.98it/s]"
     ]
    },
    {
     "name": "stdout",
     "output_type": "stream",
     "text": [
      "--> WARNING: Skipping corrupted file: FakeVsRealDataset(for-original)\\training\\fake\\file9875.mp3\n"
     ]
    },
    {
     "name": "stderr",
     "output_type": "stream",
     "text": [
      "Training:  23%|███████████████▌                                                     | 761/3368 [04:23<15:27,  2.81it/s]"
     ]
    },
    {
     "name": "stdout",
     "output_type": "stream",
     "text": [
      "--> WARNING: Skipping corrupted file: FakeVsRealDataset(for-original)\\training\\fake\\file15746.mp3\n"
     ]
    },
    {
     "name": "stderr",
     "output_type": "stream",
     "text": [
      "Training:  30%|████████████████████▍                                               | 1014/3368 [05:51<11:08,  3.52it/s]"
     ]
    },
    {
     "name": "stdout",
     "output_type": "stream",
     "text": [
      "--> WARNING: Skipping corrupted file: FakeVsRealDataset(for-original)\\training\\fake\\file17407.mp3\n"
     ]
    },
    {
     "name": "stderr",
     "output_type": "stream",
     "text": [
      "Training:  39%|██████████████████████████▋                                         | 1320/3368 [07:41<10:00,  3.41it/s]"
     ]
    },
    {
     "name": "stdout",
     "output_type": "stream",
     "text": [
      "--> WARNING: Skipping corrupted file: FakeVsRealDataset(for-original)\\training\\fake\\file13424.mp3\n"
     ]
    },
    {
     "name": "stderr",
     "output_type": "stream",
     "text": [
      "Training:  39%|██████████████████████████▋                                         | 1324/3368 [07:42<09:29,  3.59it/s]"
     ]
    },
    {
     "name": "stdout",
     "output_type": "stream",
     "text": [
      "--> WARNING: Skipping corrupted file: FakeVsRealDataset(for-original)\\training\\fake\\file27643.mp3\n"
     ]
    },
    {
     "name": "stderr",
     "output_type": "stream",
     "text": [
      "Training:  42%|████████████████████████████▋                                       | 1420/3368 [08:17<11:39,  2.78it/s]"
     ]
    },
    {
     "name": "stdout",
     "output_type": "stream",
     "text": [
      "--> WARNING: Skipping corrupted file: FakeVsRealDataset(for-original)\\training\\fake\\file31017.mp3\n"
     ]
    },
    {
     "name": "stderr",
     "output_type": "stream",
     "text": [
      "Training:  42%|████████████████████████████▊                                       | 1430/3368 [08:20<09:39,  3.34it/s]"
     ]
    },
    {
     "name": "stdout",
     "output_type": "stream",
     "text": [
      "--> WARNING: Skipping corrupted file: FakeVsRealDataset(for-original)\\training\\fake\\file27839.mp3\n"
     ]
    },
    {
     "name": "stderr",
     "output_type": "stream",
     "text": [
      "Training:  57%|███████████████████████████████████████                             | 1932/3368 [11:26<09:03,  2.64it/s]"
     ]
    },
    {
     "name": "stdout",
     "output_type": "stream",
     "text": [
      "--> WARNING: Skipping corrupted file: FakeVsRealDataset(for-original)\\training\\fake\\file32972.mp3\n"
     ]
    },
    {
     "name": "stderr",
     "output_type": "stream",
     "text": [
      "Training:  63%|██████████████████████████████████████████▊                         | 2119/3368 [12:38<06:59,  2.98it/s]"
     ]
    },
    {
     "name": "stdout",
     "output_type": "stream",
     "text": [
      "--> WARNING: Skipping corrupted file: FakeVsRealDataset(for-original)\\training\\fake\\file17450.mp3\n"
     ]
    },
    {
     "name": "stderr",
     "output_type": "stream",
     "text": [
      "Training:  79%|█████████████████████████████████████████████████████▊              | 2668/3368 [16:27<04:07,  2.83it/s]"
     ]
    },
    {
     "name": "stdout",
     "output_type": "stream",
     "text": [
      "--> WARNING: Skipping corrupted file: FakeVsRealDataset(for-original)\\training\\fake\\file30959.mp3\n"
     ]
    },
    {
     "name": "stderr",
     "output_type": "stream",
     "text": [
      "Training:  84%|████████████████████████████████████████████████████████▊           | 2814/3368 [17:28<03:09,  2.93it/s]"
     ]
    },
    {
     "name": "stdout",
     "output_type": "stream",
     "text": [
      "--> WARNING: Skipping corrupted file: FakeVsRealDataset(for-original)\\training\\fake\\file19851.mp3\n"
     ]
    },
    {
     "name": "stderr",
     "output_type": "stream",
     "text": [
      "Training:  88%|████████████████████████████████████████████████████████████        | 2973/3368 [18:35<02:17,  2.88it/s]"
     ]
    },
    {
     "name": "stdout",
     "output_type": "stream",
     "text": [
      "--> WARNING: Skipping corrupted file: FakeVsRealDataset(for-original)\\training\\fake\\file5323.mp3\n"
     ]
    },
    {
     "name": "stderr",
     "output_type": "stream",
     "text": [
      "Training:  95%|████████████████████████████████████████████████████████████████▌   | 3195/3368 [20:09<00:59,  2.90it/s]"
     ]
    },
    {
     "name": "stdout",
     "output_type": "stream",
     "text": [
      "--> WARNING: Skipping corrupted file: FakeVsRealDataset(for-original)\\training\\fake\\file16643.mp3\n"
     ]
    },
    {
     "name": "stderr",
     "output_type": "stream",
     "text": [
      "Training:  97%|██████████████████████████████████████████████████████████████████  | 3272/3368 [20:41<00:32,  2.95it/s]"
     ]
    },
    {
     "name": "stdout",
     "output_type": "stream",
     "text": [
      "--> WARNING: Skipping corrupted file: FakeVsRealDataset(for-original)\\training\\fake\\file27206.mp3\n"
     ]
    },
    {
     "name": "stderr",
     "output_type": "stream",
     "text": [
      "Training: 100%|████████████████████████████████████████████████████████████████████| 3368/3368 [21:21<00:00,  2.63it/s]\n",
      "Evaluating:  15%|██████████                                                          | 100/675 [00:33<02:39,  3.61it/s]"
     ]
    },
    {
     "name": "stdout",
     "output_type": "stream",
     "text": [
      "--> WARNING: Skipping corrupted file: FakeVsRealDataset(for-original)\\validation\\fake\\file16165.mp3\n"
     ]
    },
    {
     "name": "stderr",
     "output_type": "stream",
     "text": [
      "Evaluating:  37%|█████████████████████████▍                                          | 253/675 [01:23<01:54,  3.68it/s]"
     ]
    },
    {
     "name": "stdout",
     "output_type": "stream",
     "text": [
      "--> WARNING: Skipping corrupted file: FakeVsRealDataset(for-original)\\validation\\fake\\file31606.mp3\n"
     ]
    },
    {
     "name": "stderr",
     "output_type": "stream",
     "text": [
      "Evaluating: 100%|████████████████████████████████████████████████████████████████████| 675/675 [03:51<00:00,  2.91it/s]\n"
     ]
    },
    {
     "name": "stdout",
     "output_type": "stream",
     "text": [
      "Epoch: 03 | Train Loss: nan | Train Acc: 0.9850 | Val Loss: 0.0475 | Val Acc: 0.9822\n"
     ]
    },
    {
     "name": "stderr",
     "output_type": "stream",
     "text": [
      "Training:   5%|███▎                                                                 | 161/3368 [00:55<14:43,  3.63it/s]"
     ]
    },
    {
     "name": "stdout",
     "output_type": "stream",
     "text": [
      "--> WARNING: Skipping corrupted file: FakeVsRealDataset(for-original)\\training\\fake\\file5323.mp3\n"
     ]
    },
    {
     "name": "stderr",
     "output_type": "stream",
     "text": [
      "Training:   7%|█████▏                                                               | 252/3368 [01:27<18:02,  2.88it/s]"
     ]
    },
    {
     "name": "stdout",
     "output_type": "stream",
     "text": [
      "--> WARNING: Skipping corrupted file: FakeVsRealDataset(for-original)\\training\\fake\\file30959.mp3\n"
     ]
    },
    {
     "name": "stderr",
     "output_type": "stream",
     "text": [
      "Training:  13%|█████████                                                            | 444/3368 [02:33<16:44,  2.91it/s]"
     ]
    },
    {
     "name": "stdout",
     "output_type": "stream",
     "text": [
      "--> WARNING: Skipping corrupted file: FakeVsRealDataset(for-original)\\training\\fake\\file15746.mp3\n"
     ]
    },
    {
     "name": "stderr",
     "output_type": "stream",
     "text": [
      "Training:  16%|██████████▊                                                          | 527/3368 [03:02<13:03,  3.63it/s]"
     ]
    },
    {
     "name": "stdout",
     "output_type": "stream",
     "text": [
      "--> WARNING: Skipping corrupted file: FakeVsRealDataset(for-original)\\training\\fake\\file17407.mp3\n"
     ]
    },
    {
     "name": "stderr",
     "output_type": "stream",
     "text": [
      "Training:  20%|█████████████▊                                                       | 675/3368 [03:54<15:54,  2.82it/s]"
     ]
    },
    {
     "name": "stdout",
     "output_type": "stream",
     "text": [
      "--> WARNING: Skipping corrupted file: FakeVsRealDataset(for-original)\\training\\fake\\file13424.mp3\n"
     ]
    },
    {
     "name": "stderr",
     "output_type": "stream",
     "text": [
      "Training:  24%|████████████████▊                                                    | 823/3368 [04:46<12:08,  3.50it/s]"
     ]
    },
    {
     "name": "stdout",
     "output_type": "stream",
     "text": [
      "--> WARNING: Skipping corrupted file: FakeVsRealDataset(for-original)\\training\\fake\\file31017.mp3\n"
     ]
    },
    {
     "name": "stderr",
     "output_type": "stream",
     "text": [
      "Training:  46%|███████████████████████████████▌                                    | 1562/3368 [09:13<10:48,  2.78it/s]"
     ]
    },
    {
     "name": "stdout",
     "output_type": "stream",
     "text": [
      "--> WARNING: Skipping corrupted file: FakeVsRealDataset(for-original)\\training\\fake\\file27643.mp3\n"
     ]
    },
    {
     "name": "stderr",
     "output_type": "stream",
     "text": [
      "Training:  62%|█████████████████████████████████████████▊                          | 2072/3368 [12:26<07:04,  3.05it/s]"
     ]
    },
    {
     "name": "stdout",
     "output_type": "stream",
     "text": [
      "--> WARNING: Skipping corrupted file: FakeVsRealDataset(for-original)\\training\\fake\\file19851.mp3\n"
     ]
    },
    {
     "name": "stderr",
     "output_type": "stream",
     "text": [
      "Training:  65%|███████████████████████████████████████████▊                        | 2173/3368 [13:07<06:36,  3.02it/s]"
     ]
    },
    {
     "name": "stdout",
     "output_type": "stream",
     "text": [
      "--> WARNING: Skipping corrupted file: FakeVsRealDataset(for-original)\\training\\fake\\file16643.mp3\n"
     ]
    },
    {
     "name": "stderr",
     "output_type": "stream",
     "text": [
      "Training:  75%|██████████████████████████████████████████████████▋                 | 2512/3368 [15:30<05:03,  2.82it/s]"
     ]
    },
    {
     "name": "stdout",
     "output_type": "stream",
     "text": [
      "--> WARNING: Skipping corrupted file: FakeVsRealDataset(for-original)\\training\\fake\\file9875.mp3\n"
     ]
    },
    {
     "name": "stderr",
     "output_type": "stream",
     "text": [
      "Training:  80%|██████████████████████████████████████████████████████▋             | 2708/3368 [16:53<03:48,  2.89it/s]"
     ]
    },
    {
     "name": "stdout",
     "output_type": "stream",
     "text": [
      "--> WARNING: Skipping corrupted file: FakeVsRealDataset(for-original)\\training\\fake\\file32972.mp3\n"
     ]
    },
    {
     "name": "stderr",
     "output_type": "stream",
     "text": [
      "Training:  82%|███████████████████████████████████████████████████████▌            | 2749/3368 [17:10<03:30,  2.93it/s]"
     ]
    },
    {
     "name": "stdout",
     "output_type": "stream",
     "text": [
      "--> WARNING: Skipping corrupted file: FakeVsRealDataset(for-original)\\training\\fake\\file27839.mp3\n"
     ]
    },
    {
     "name": "stderr",
     "output_type": "stream",
     "text": [
      "Training:  83%|████████████████████████████████████████████████████████▏           | 2786/3368 [17:25<03:27,  2.81it/s]"
     ]
    },
    {
     "name": "stdout",
     "output_type": "stream",
     "text": [
      "--> WARNING: Skipping corrupted file: FakeVsRealDataset(for-original)\\training\\fake\\file27206.mp3\n"
     ]
    },
    {
     "name": "stderr",
     "output_type": "stream",
     "text": [
      "Training:  84%|████████████████████████████████████████████████████████▉           | 2821/3368 [17:40<03:08,  2.91it/s]"
     ]
    },
    {
     "name": "stdout",
     "output_type": "stream",
     "text": [
      "--> WARNING: Skipping corrupted file: FakeVsRealDataset(for-original)\\training\\fake\\file17450.mp3\n"
     ]
    },
    {
     "name": "stderr",
     "output_type": "stream",
     "text": [
      "Training: 100%|████████████████████████████████████████████████████████████████████| 3368/3368 [21:32<00:00,  2.61it/s]\n",
      "Evaluating:  15%|██████████                                                          | 100/675 [00:33<02:40,  3.57it/s]"
     ]
    },
    {
     "name": "stdout",
     "output_type": "stream",
     "text": [
      "--> WARNING: Skipping corrupted file: FakeVsRealDataset(for-original)\\validation\\fake\\file16165.mp3\n"
     ]
    },
    {
     "name": "stderr",
     "output_type": "stream",
     "text": [
      "Evaluating:  37%|█████████████████████████▍                                          | 253/675 [01:24<01:54,  3.68it/s]"
     ]
    },
    {
     "name": "stdout",
     "output_type": "stream",
     "text": [
      "--> WARNING: Skipping corrupted file: FakeVsRealDataset(for-original)\\validation\\fake\\file31606.mp3\n"
     ]
    },
    {
     "name": "stderr",
     "output_type": "stream",
     "text": [
      "Evaluating: 100%|████████████████████████████████████████████████████████████████████| 675/675 [03:53<00:00,  2.89it/s]\n"
     ]
    },
    {
     "name": "stdout",
     "output_type": "stream",
     "text": [
      "Epoch: 04 | Train Loss: nan | Train Acc: 0.9878 | Val Loss: 0.0175 | Val Acc: 0.9910\n"
     ]
    },
    {
     "name": "stderr",
     "output_type": "stream",
     "text": [
      "Training:  23%|███████████████▋                                                     | 763/3368 [04:27<12:18,  3.53it/s]"
     ]
    },
    {
     "name": "stdout",
     "output_type": "stream",
     "text": [
      "--> WARNING: Skipping corrupted file: FakeVsRealDataset(for-original)\\training\\fake\\file27206.mp3\n"
     ]
    },
    {
     "name": "stderr",
     "output_type": "stream",
     "text": [
      "Training:  29%|███████████████████▉                                                 | 976/3368 [05:44<11:19,  3.52it/s]"
     ]
    },
    {
     "name": "stdout",
     "output_type": "stream",
     "text": [
      "--> WARNING: Skipping corrupted file: FakeVsRealDataset(for-original)\\training\\fake\\file30959.mp3\n"
     ]
    },
    {
     "name": "stderr",
     "output_type": "stream",
     "text": [
      "Training:  36%|████████████████████████▋                                           | 1225/3368 [07:13<10:17,  3.47it/s]"
     ]
    },
    {
     "name": "stdout",
     "output_type": "stream",
     "text": [
      "--> WARNING: Skipping corrupted file: FakeVsRealDataset(for-original)\\training\\fake\\file32972.mp3\n"
     ]
    },
    {
     "name": "stderr",
     "output_type": "stream",
     "text": [
      "Training:  40%|███████████████████████████▎                                        | 1350/3368 [07:59<12:26,  2.70it/s]"
     ]
    },
    {
     "name": "stdout",
     "output_type": "stream",
     "text": [
      "--> WARNING: Skipping corrupted file: FakeVsRealDataset(for-original)\\training\\fake\\file15746.mp3\n"
     ]
    },
    {
     "name": "stderr",
     "output_type": "stream",
     "text": [
      "Training:  41%|███████████████████████████▊                                        | 1379/3368 [08:10<09:57,  3.33it/s]"
     ]
    },
    {
     "name": "stdout",
     "output_type": "stream",
     "text": [
      "--> WARNING: Skipping corrupted file: FakeVsRealDataset(for-original)\\training\\fake\\file5323.mp3\n"
     ]
    },
    {
     "name": "stderr",
     "output_type": "stream",
     "text": [
      "Training:  44%|██████████████████████████████▏                                     | 1494/3368 [08:52<09:04,  3.44it/s]"
     ]
    },
    {
     "name": "stdout",
     "output_type": "stream",
     "text": [
      "--> WARNING: Skipping corrupted file: FakeVsRealDataset(for-original)\\training\\fake\\file19851.mp3\n"
     ]
    },
    {
     "name": "stderr",
     "output_type": "stream",
     "text": [
      "Training:  51%|██████████████████████████████████▋                                 | 1717/3368 [10:15<10:16,  2.68it/s]"
     ]
    },
    {
     "name": "stdout",
     "output_type": "stream",
     "text": [
      "--> WARNING: Skipping corrupted file: FakeVsRealDataset(for-original)\\training\\fake\\file17450.mp3\n"
     ]
    },
    {
     "name": "stderr",
     "output_type": "stream",
     "text": [
      "Training:  56%|██████████████████████████████████████                              | 1888/3368 [11:20<07:51,  3.14it/s]"
     ]
    },
    {
     "name": "stdout",
     "output_type": "stream",
     "text": [
      "--> WARNING: Skipping corrupted file: FakeVsRealDataset(for-original)\\training\\fake\\file17407.mp3\n"
     ]
    },
    {
     "name": "stderr",
     "output_type": "stream",
     "text": [
      "Training:  63%|██████████████████████████████████████████▌                         | 2107/3368 [12:48<07:11,  2.92it/s]"
     ]
    },
    {
     "name": "stdout",
     "output_type": "stream",
     "text": [
      "--> WARNING: Skipping corrupted file: FakeVsRealDataset(for-original)\\training\\fake\\file31017.mp3\n"
     ]
    },
    {
     "name": "stderr",
     "output_type": "stream",
     "text": [
      "Training:  83%|████████████████████████████████████████████████████████▏           | 2783/3368 [17:34<03:18,  2.95it/s]"
     ]
    },
    {
     "name": "stdout",
     "output_type": "stream",
     "text": [
      "--> WARNING: Skipping corrupted file: FakeVsRealDataset(for-original)\\training\\fake\\file27839.mp3\n"
     ]
    },
    {
     "name": "stderr",
     "output_type": "stream",
     "text": [
      "Training:  85%|█████████████████████████████████████████████████████████▊          | 2861/3368 [18:07<02:59,  2.82it/s]"
     ]
    },
    {
     "name": "stdout",
     "output_type": "stream",
     "text": [
      "--> WARNING: Skipping corrupted file: FakeVsRealDataset(for-original)\\training\\fake\\file16643.mp3\n"
     ]
    },
    {
     "name": "stderr",
     "output_type": "stream",
     "text": [
      "Training:  89%|████████████████████████████████████████████████████████████▊       | 3009/3368 [19:09<02:06,  2.83it/s]"
     ]
    },
    {
     "name": "stdout",
     "output_type": "stream",
     "text": [
      "--> WARNING: Skipping corrupted file: FakeVsRealDataset(for-original)\\training\\fake\\file9875.mp3\n"
     ]
    },
    {
     "name": "stderr",
     "output_type": "stream",
     "text": [
      "Training:  91%|█████████████████████████████████████████████████████████████▋      | 3058/3368 [19:29<01:45,  2.94it/s]"
     ]
    },
    {
     "name": "stdout",
     "output_type": "stream",
     "text": [
      "--> WARNING: Skipping corrupted file: FakeVsRealDataset(for-original)\\training\\fake\\file13424.mp3\n"
     ]
    },
    {
     "name": "stderr",
     "output_type": "stream",
     "text": [
      "Training:  99%|███████████████████████████████████████████████████████████████████ | 3323/3368 [21:22<00:15,  2.88it/s]"
     ]
    },
    {
     "name": "stdout",
     "output_type": "stream",
     "text": [
      "--> WARNING: Skipping corrupted file: FakeVsRealDataset(for-original)\\training\\fake\\file27643.mp3\n"
     ]
    },
    {
     "name": "stderr",
     "output_type": "stream",
     "text": [
      "Training: 100%|████████████████████████████████████████████████████████████████████| 3368/3368 [21:41<00:00,  2.59it/s]\n",
      "Evaluating:  15%|██████████                                                          | 100/675 [00:33<02:43,  3.52it/s]"
     ]
    },
    {
     "name": "stdout",
     "output_type": "stream",
     "text": [
      "--> WARNING: Skipping corrupted file: FakeVsRealDataset(for-original)\\validation\\fake\\file16165.mp3\n"
     ]
    },
    {
     "name": "stderr",
     "output_type": "stream",
     "text": [
      "Evaluating:  37%|█████████████████████████▍                                          | 253/675 [01:24<01:58,  3.55it/s]"
     ]
    },
    {
     "name": "stdout",
     "output_type": "stream",
     "text": [
      "--> WARNING: Skipping corrupted file: FakeVsRealDataset(for-original)\\validation\\fake\\file31606.mp3\n"
     ]
    },
    {
     "name": "stderr",
     "output_type": "stream",
     "text": [
      "Evaluating: 100%|████████████████████████████████████████████████████████████████████| 675/675 [03:54<00:00,  2.88it/s]\n"
     ]
    },
    {
     "name": "stdout",
     "output_type": "stream",
     "text": [
      "Epoch: 05 | Train Loss: nan | Train Acc: 0.9895 | Val Loss: 0.0230 | Val Acc: 0.9906\n"
     ]
    },
    {
     "name": "stderr",
     "output_type": "stream",
     "text": [
      "Training:   2%|█▏                                                                    | 57/3368 [00:19<15:11,  3.63it/s]"
     ]
    },
    {
     "name": "stdout",
     "output_type": "stream",
     "text": [
      "--> WARNING: Skipping corrupted file: FakeVsRealDataset(for-original)\\training\\fake\\file19851.mp3\n"
     ]
    },
    {
     "name": "stderr",
     "output_type": "stream",
     "text": [
      "Training:  18%|████████████▊                                                        | 623/3368 [03:38<16:11,  2.83it/s]"
     ]
    },
    {
     "name": "stdout",
     "output_type": "stream",
     "text": [
      "--> WARNING: Skipping corrupted file: FakeVsRealDataset(for-original)\\training\\fake\\file13424.mp3\n"
     ]
    },
    {
     "name": "stderr",
     "output_type": "stream",
     "text": [
      "Training:  21%|██████████████▎                                                      | 699/3368 [04:04<15:49,  2.81it/s]"
     ]
    },
    {
     "name": "stdout",
     "output_type": "stream",
     "text": [
      "--> WARNING: Skipping corrupted file: FakeVsRealDataset(for-original)\\training\\fake\\file17407.mp3\n"
     ]
    },
    {
     "name": "stderr",
     "output_type": "stream",
     "text": [
      "Training:  25%|█████████████████▎                                                   | 845/3368 [04:56<11:39,  3.61it/s]"
     ]
    },
    {
     "name": "stdout",
     "output_type": "stream",
     "text": [
      "--> WARNING: Skipping corrupted file: FakeVsRealDataset(for-original)\\training\\fake\\file31017.mp3\n"
     ]
    },
    {
     "name": "stderr",
     "output_type": "stream",
     "text": [
      "Training:  30%|████████████████████▏                                               | 1002/3368 [05:52<14:05,  2.80it/s]"
     ]
    },
    {
     "name": "stdout",
     "output_type": "stream",
     "text": [
      "--> WARNING: Skipping corrupted file: FakeVsRealDataset(for-original)\\training\\fake\\file9875.mp3\n"
     ]
    },
    {
     "name": "stderr",
     "output_type": "stream",
     "text": [
      "Training:  42%|████████████████████████████▍                                       | 1408/3368 [08:20<09:50,  3.32it/s]"
     ]
    },
    {
     "name": "stdout",
     "output_type": "stream",
     "text": [
      "--> WARNING: Skipping corrupted file: FakeVsRealDataset(for-original)\\training\\fake\\file16643.mp3\n"
     ]
    },
    {
     "name": "stderr",
     "output_type": "stream",
     "text": [
      "Training:  52%|███████████████████████████████████                                 | 1738/3368 [10:23<08:20,  3.26it/s]"
     ]
    },
    {
     "name": "stdout",
     "output_type": "stream",
     "text": [
      "--> WARNING: Skipping corrupted file: FakeVsRealDataset(for-original)\\training\\fake\\file30959.mp3\n"
     ]
    },
    {
     "name": "stderr",
     "output_type": "stream",
     "text": [
      "Training:  52%|███████████████████████████████████▎                                | 1752/3368 [10:28<08:19,  3.24it/s]"
     ]
    },
    {
     "name": "stdout",
     "output_type": "stream",
     "text": [
      "--> WARNING: Skipping corrupted file: FakeVsRealDataset(for-original)\\training\\fake\\file15746.mp3\n"
     ]
    },
    {
     "name": "stderr",
     "output_type": "stream",
     "text": [
      "Training:  56%|██████████████████████████████████████▎                             | 1899/3368 [11:24<07:37,  3.21it/s]"
     ]
    },
    {
     "name": "stdout",
     "output_type": "stream",
     "text": [
      "--> WARNING: Skipping corrupted file: FakeVsRealDataset(for-original)\\training\\fake\\file27643.mp3\n"
     ]
    },
    {
     "name": "stderr",
     "output_type": "stream",
     "text": [
      "Training:  60%|████████████████████████████████████████▌                           | 2011/3368 [12:08<07:15,  3.12it/s]"
     ]
    },
    {
     "name": "stdout",
     "output_type": "stream",
     "text": [
      "--> WARNING: Skipping corrupted file: FakeVsRealDataset(for-original)\\training\\fake\\file32972.mp3\n"
     ]
    },
    {
     "name": "stderr",
     "output_type": "stream",
     "text": [
      "Training:  74%|██████████████████████████████████████████████████▌                 | 2507/3368 [15:36<04:57,  2.90it/s]"
     ]
    },
    {
     "name": "stdout",
     "output_type": "stream",
     "text": [
      "--> WARNING: Skipping corrupted file: FakeVsRealDataset(for-original)\\training\\fake\\file27839.mp3\n"
     ]
    },
    {
     "name": "stderr",
     "output_type": "stream",
     "text": [
      "Training:  78%|█████████████████████████████████████████████████████               | 2628/3368 [16:27<04:25,  2.78it/s]"
     ]
    },
    {
     "name": "stdout",
     "output_type": "stream",
     "text": [
      "--> WARNING: Skipping corrupted file: FakeVsRealDataset(for-original)\\training\\fake\\file27206.mp3\n"
     ]
    },
    {
     "name": "stderr",
     "output_type": "stream",
     "text": [
      "Training:  80%|██████████████████████████████████████████████████████▏             | 2683/3368 [16:50<03:58,  2.88it/s]"
     ]
    },
    {
     "name": "stdout",
     "output_type": "stream",
     "text": [
      "--> WARNING: Skipping corrupted file: FakeVsRealDataset(for-original)\\training\\fake\\file5323.mp3\n"
     ]
    },
    {
     "name": "stderr",
     "output_type": "stream",
     "text": [
      "Training:  97%|██████████████████████████████████████████████████████████████████  | 3273/3368 [21:02<00:33,  2.81it/s]"
     ]
    },
    {
     "name": "stdout",
     "output_type": "stream",
     "text": [
      "--> WARNING: Skipping corrupted file: FakeVsRealDataset(for-original)\\training\\fake\\file17450.mp3\n"
     ]
    },
    {
     "name": "stderr",
     "output_type": "stream",
     "text": [
      "Training: 100%|████████████████████████████████████████████████████████████████████| 3368/3368 [21:42<00:00,  2.59it/s]\n",
      "Evaluating:  15%|██████████                                                          | 100/675 [00:33<02:46,  3.46it/s]"
     ]
    },
    {
     "name": "stdout",
     "output_type": "stream",
     "text": [
      "--> WARNING: Skipping corrupted file: FakeVsRealDataset(for-original)\\validation\\fake\\file16165.mp3\n"
     ]
    },
    {
     "name": "stderr",
     "output_type": "stream",
     "text": [
      "Evaluating:  37%|█████████████████████████▍                                          | 253/675 [01:24<01:55,  3.65it/s]"
     ]
    },
    {
     "name": "stdout",
     "output_type": "stream",
     "text": [
      "--> WARNING: Skipping corrupted file: FakeVsRealDataset(for-original)\\validation\\fake\\file31606.mp3\n"
     ]
    },
    {
     "name": "stderr",
     "output_type": "stream",
     "text": [
      "Evaluating: 100%|████████████████████████████████████████████████████████████████████| 675/675 [03:54<00:00,  2.87it/s]\n"
     ]
    },
    {
     "name": "stdout",
     "output_type": "stream",
     "text": [
      "Epoch: 06 | Train Loss: nan | Train Acc: 0.9912 | Val Loss: 0.0140 | Val Acc: 0.9917\n"
     ]
    },
    {
     "name": "stderr",
     "output_type": "stream",
     "text": [
      "Training:   0%|▏                                                                     | 12/3368 [00:03<15:53,  3.52it/s]"
     ]
    },
    {
     "name": "stdout",
     "output_type": "stream",
     "text": [
      "--> WARNING: Skipping corrupted file: FakeVsRealDataset(for-original)\\training\\fake\\file27206.mp3\n"
     ]
    },
    {
     "name": "stderr",
     "output_type": "stream",
     "text": [
      "Training:   8%|█████▊                                                               | 284/3368 [01:39<18:17,  2.81it/s]"
     ]
    },
    {
     "name": "stdout",
     "output_type": "stream",
     "text": [
      "--> WARNING: Skipping corrupted file: FakeVsRealDataset(for-original)\\training\\fake\\file17407.mp3\n"
     ]
    },
    {
     "name": "stderr",
     "output_type": "stream",
     "text": [
      "Training:  24%|████████████████▋                                                    | 815/3368 [04:47<14:36,  2.91it/s]"
     ]
    },
    {
     "name": "stdout",
     "output_type": "stream",
     "text": [
      "--> WARNING: Skipping corrupted file: FakeVsRealDataset(for-original)\\training\\fake\\file13424.mp3\n"
     ]
    },
    {
     "name": "stderr",
     "output_type": "stream",
     "text": [
      "Training:  34%|██████████████████████▉                                             | 1137/3368 [06:42<13:46,  2.70it/s]"
     ]
    },
    {
     "name": "stdout",
     "output_type": "stream",
     "text": [
      "--> WARNING: Skipping corrupted file: FakeVsRealDataset(for-original)\\training\\fake\\file5323.mp3\n"
     ]
    },
    {
     "name": "stderr",
     "output_type": "stream",
     "text": [
      "Training:  39%|██████████████████████████▊                                         | 1325/3368 [07:50<12:37,  2.70it/s]"
     ]
    },
    {
     "name": "stdout",
     "output_type": "stream",
     "text": [
      "--> WARNING: Skipping corrupted file: FakeVsRealDataset(for-original)\\training\\fake\\file32972.mp3\n"
     ]
    },
    {
     "name": "stderr",
     "output_type": "stream",
     "text": [
      "Training:  58%|███████████████████████████████████████▊                            | 1970/3368 [11:50<07:11,  3.24it/s]"
     ]
    },
    {
     "name": "stdout",
     "output_type": "stream",
     "text": [
      "--> WARNING: Skipping corrupted file: FakeVsRealDataset(for-original)\\training\\fake\\file17450.mp3\n"
     ]
    },
    {
     "name": "stderr",
     "output_type": "stream",
     "text": [
      "Training:  68%|██████████████████████████████████████████████▏                     | 2288/3368 [14:01<06:04,  2.96it/s]"
     ]
    },
    {
     "name": "stdout",
     "output_type": "stream",
     "text": [
      "--> WARNING: Skipping corrupted file: FakeVsRealDataset(for-original)\\training\\fake\\file16643.mp3\n"
     ]
    },
    {
     "name": "stderr",
     "output_type": "stream",
     "text": [
      "Training:  73%|█████████████████████████████████████████████████▌                  | 2452/3368 [15:10<05:15,  2.90it/s]"
     ]
    },
    {
     "name": "stdout",
     "output_type": "stream",
     "text": [
      "--> WARNING: Skipping corrupted file: FakeVsRealDataset(for-original)\\training\\fake\\file27643.mp3\n"
     ]
    },
    {
     "name": "stderr",
     "output_type": "stream",
     "text": [
      "Training:  74%|██████████████████████████████████████████████████▏                 | 2483/3368 [15:24<05:16,  2.80it/s]"
     ]
    },
    {
     "name": "stdout",
     "output_type": "stream",
     "text": [
      "--> WARNING: Skipping corrupted file: FakeVsRealDataset(for-original)\\training\\fake\\file27839.mp3\n"
     ]
    },
    {
     "name": "stderr",
     "output_type": "stream",
     "text": [
      "Training:  75%|██████████████████████████████████████████████████▉                 | 2520/3368 [15:39<04:50,  2.92it/s]"
     ]
    },
    {
     "name": "stdout",
     "output_type": "stream",
     "text": [
      "--> WARNING: Skipping corrupted file: FakeVsRealDataset(for-original)\\training\\fake\\file15746.mp3\n"
     ]
    },
    {
     "name": "stderr",
     "output_type": "stream",
     "text": [
      "Training:  79%|█████████████████████████████████████████████████████▉              | 2672/3368 [16:44<04:03,  2.86it/s]"
     ]
    },
    {
     "name": "stdout",
     "output_type": "stream",
     "text": [
      "--> WARNING: Skipping corrupted file: FakeVsRealDataset(for-original)\\training\\fake\\file31017.mp3\n"
     ]
    },
    {
     "name": "stderr",
     "output_type": "stream",
     "text": [
      "Training:  87%|███████████████████████████████████████████████████████████▎        | 2939/3368 [18:37<02:32,  2.82it/s]"
     ]
    },
    {
     "name": "stdout",
     "output_type": "stream",
     "text": [
      "--> WARNING: Skipping corrupted file: FakeVsRealDataset(for-original)\\training\\fake\\file30959.mp3\n"
     ]
    },
    {
     "name": "stderr",
     "output_type": "stream",
     "text": [
      "Training:  97%|██████████████████████████████████████████████████████████████████▏ | 3277/3368 [21:01<00:31,  2.85it/s]"
     ]
    },
    {
     "name": "stdout",
     "output_type": "stream",
     "text": [
      "--> WARNING: Skipping corrupted file: FakeVsRealDataset(for-original)\\training\\fake\\file19851.mp3\n"
     ]
    },
    {
     "name": "stderr",
     "output_type": "stream",
     "text": [
      "Training:  99%|███████████████████████████████████████████████████████████████████▍| 3343/3368 [21:29<00:08,  2.97it/s]"
     ]
    },
    {
     "name": "stdout",
     "output_type": "stream",
     "text": [
      "--> WARNING: Skipping corrupted file: FakeVsRealDataset(for-original)\\training\\fake\\file9875.mp3\n"
     ]
    },
    {
     "name": "stderr",
     "output_type": "stream",
     "text": [
      "Training: 100%|████████████████████████████████████████████████████████████████████| 3368/3368 [21:39<00:00,  2.59it/s]\n",
      "Evaluating:  15%|██████████                                                          | 100/675 [00:33<02:43,  3.52it/s]"
     ]
    },
    {
     "name": "stdout",
     "output_type": "stream",
     "text": [
      "--> WARNING: Skipping corrupted file: FakeVsRealDataset(for-original)\\validation\\fake\\file16165.mp3\n"
     ]
    },
    {
     "name": "stderr",
     "output_type": "stream",
     "text": [
      "Evaluating:  37%|█████████████████████████▍                                          | 253/675 [01:25<01:55,  3.64it/s]"
     ]
    },
    {
     "name": "stdout",
     "output_type": "stream",
     "text": [
      "--> WARNING: Skipping corrupted file: FakeVsRealDataset(for-original)\\validation\\fake\\file31606.mp3\n"
     ]
    },
    {
     "name": "stderr",
     "output_type": "stream",
     "text": [
      "Evaluating: 100%|████████████████████████████████████████████████████████████████████| 675/675 [03:55<00:00,  2.87it/s]\n"
     ]
    },
    {
     "name": "stdout",
     "output_type": "stream",
     "text": [
      "Epoch: 07 | Train Loss: nan | Train Acc: 0.9916 | Val Loss: 0.0196 | Val Acc: 0.9901\n"
     ]
    },
    {
     "name": "stderr",
     "output_type": "stream",
     "text": [
      "Training:   2%|█                                                                     | 52/3368 [00:18<19:06,  2.89it/s]"
     ]
    },
    {
     "name": "stdout",
     "output_type": "stream",
     "text": [
      "--> WARNING: Skipping corrupted file: FakeVsRealDataset(for-original)\\training\\fake\\file17450.mp3\n"
     ]
    },
    {
     "name": "stderr",
     "output_type": "stream",
     "text": [
      "Training:   6%|████▍                                                                | 217/3368 [01:15<18:03,  2.91it/s]"
     ]
    },
    {
     "name": "stdout",
     "output_type": "stream",
     "text": [
      "--> WARNING: Skipping corrupted file: FakeVsRealDataset(for-original)\\training\\fake\\file32972.mp3\n"
     ]
    },
    {
     "name": "stderr",
     "output_type": "stream",
     "text": [
      "Training:   8%|█████▊                                                               | 284/3368 [01:38<14:20,  3.58it/s]"
     ]
    },
    {
     "name": "stdout",
     "output_type": "stream",
     "text": [
      "--> WARNING: Skipping corrupted file: FakeVsRealDataset(for-original)\\training\\fake\\file16643.mp3\n"
     ]
    },
    {
     "name": "stderr",
     "output_type": "stream",
     "text": [
      "Training:   9%|██████▏                                                              | 299/3368 [01:43<17:55,  2.85it/s]"
     ]
    },
    {
     "name": "stdout",
     "output_type": "stream",
     "text": [
      "--> WARNING: Skipping corrupted file: FakeVsRealDataset(for-original)\\training\\fake\\file13424.mp3\n"
     ]
    },
    {
     "name": "stderr",
     "output_type": "stream",
     "text": [
      "Training:  10%|██████▊                                                              | 332/3368 [01:54<14:12,  3.56it/s]"
     ]
    },
    {
     "name": "stdout",
     "output_type": "stream",
     "text": [
      "--> WARNING: Skipping corrupted file: FakeVsRealDataset(for-original)\\training\\fake\\file19851.mp3\n"
     ]
    },
    {
     "name": "stderr",
     "output_type": "stream",
     "text": [
      "Training:  13%|█████████▏                                                           | 449/3368 [02:35<17:15,  2.82it/s]"
     ]
    },
    {
     "name": "stdout",
     "output_type": "stream",
     "text": [
      "--> WARNING: Skipping corrupted file: FakeVsRealDataset(for-original)\\training\\fake\\file17407.mp3\n"
     ]
    },
    {
     "name": "stderr",
     "output_type": "stream",
     "text": [
      "Training:  28%|███████████████████                                                  | 928/3368 [05:25<11:25,  3.56it/s]"
     ]
    },
    {
     "name": "stdout",
     "output_type": "stream",
     "text": [
      "--> WARNING: Skipping corrupted file: FakeVsRealDataset(for-original)\\training\\fake\\file9875.mp3\n"
     ]
    },
    {
     "name": "stderr",
     "output_type": "stream",
     "text": [
      "Training:  37%|█████████████████████████▎                                          | 1251/3368 [07:22<10:26,  3.38it/s]"
     ]
    },
    {
     "name": "stdout",
     "output_type": "stream",
     "text": [
      "--> WARNING: Skipping corrupted file: FakeVsRealDataset(for-original)\\training\\fake\\file5323.mp3\n"
     ]
    },
    {
     "name": "stderr",
     "output_type": "stream",
     "text": [
      "Training:  65%|████████████████████████████████████████████▌                       | 2205/3368 [13:27<06:34,  2.95it/s]"
     ]
    },
    {
     "name": "stdout",
     "output_type": "stream",
     "text": [
      "--> WARNING: Skipping corrupted file: FakeVsRealDataset(for-original)\\training\\fake\\file27206.mp3\n"
     ]
    },
    {
     "name": "stderr",
     "output_type": "stream",
     "text": [
      "Training:  79%|█████████████████████████████████████████████████████▍              | 2648/3368 [16:35<04:08,  2.89it/s]"
     ]
    },
    {
     "name": "stdout",
     "output_type": "stream",
     "text": [
      "--> WARNING: Skipping corrupted file: FakeVsRealDataset(for-original)\\training\\fake\\file27839.mp3\n"
     ]
    },
    {
     "name": "stderr",
     "output_type": "stream",
     "text": [
      "Training:  84%|█████████████████████████████████████████████████████████▍          | 2842/3368 [17:57<03:07,  2.80it/s]"
     ]
    },
    {
     "name": "stdout",
     "output_type": "stream",
     "text": [
      "--> WARNING: Skipping corrupted file: FakeVsRealDataset(for-original)\\training\\fake\\file27643.mp3\n"
     ]
    },
    {
     "name": "stderr",
     "output_type": "stream",
     "text": [
      "Training:  89%|████████████████████████████████████████████████████████████▌       | 2997/3368 [19:03<02:09,  2.87it/s]"
     ]
    },
    {
     "name": "stdout",
     "output_type": "stream",
     "text": [
      "--> WARNING: Skipping corrupted file: FakeVsRealDataset(for-original)\\training\\fake\\file31017.mp3\n"
     ]
    },
    {
     "name": "stderr",
     "output_type": "stream",
     "text": [
      "Training:  97%|██████████████████████████████████████████████████████████████████▎ | 3282/3368 [21:04<00:29,  2.88it/s]"
     ]
    },
    {
     "name": "stdout",
     "output_type": "stream",
     "text": [
      "--> WARNING: Skipping corrupted file: FakeVsRealDataset(for-original)\\training\\fake\\file30959.mp3\n"
     ]
    },
    {
     "name": "stderr",
     "output_type": "stream",
     "text": [
      "Training:  98%|██████████████████████████████████████████████████████████████████▌ | 3295/3368 [21:09<00:26,  2.78it/s]"
     ]
    },
    {
     "name": "stdout",
     "output_type": "stream",
     "text": [
      "--> WARNING: Skipping corrupted file: FakeVsRealDataset(for-original)\\training\\fake\\file15746.mp3\n"
     ]
    },
    {
     "name": "stderr",
     "output_type": "stream",
     "text": [
      "Training: 100%|████████████████████████████████████████████████████████████████████| 3368/3368 [21:40<00:00,  2.59it/s]\n",
      "Evaluating:  15%|██████████                                                          | 100/675 [00:33<02:44,  3.49it/s]"
     ]
    },
    {
     "name": "stdout",
     "output_type": "stream",
     "text": [
      "--> WARNING: Skipping corrupted file: FakeVsRealDataset(for-original)\\validation\\fake\\file16165.mp3\n"
     ]
    },
    {
     "name": "stderr",
     "output_type": "stream",
     "text": [
      "Evaluating:  37%|█████████████████████████▍                                          | 253/675 [01:25<01:59,  3.55it/s]"
     ]
    },
    {
     "name": "stdout",
     "output_type": "stream",
     "text": [
      "--> WARNING: Skipping corrupted file: FakeVsRealDataset(for-original)\\validation\\fake\\file31606.mp3\n"
     ]
    },
    {
     "name": "stderr",
     "output_type": "stream",
     "text": [
      "Evaluating: 100%|████████████████████████████████████████████████████████████████████| 675/675 [03:56<00:00,  2.86it/s]\n"
     ]
    },
    {
     "name": "stdout",
     "output_type": "stream",
     "text": [
      "Epoch: 08 | Train Loss: nan | Train Acc: 0.9922 | Val Loss: 0.0089 | Val Acc: 0.9941\n"
     ]
    },
    {
     "name": "stderr",
     "output_type": "stream",
     "text": [
      "Training:   7%|████▊                                                                | 237/3368 [01:23<18:07,  2.88it/s]"
     ]
    },
    {
     "name": "stdout",
     "output_type": "stream",
     "text": [
      "--> WARNING: Skipping corrupted file: FakeVsRealDataset(for-original)\\training\\fake\\file27643.mp3\n"
     ]
    },
    {
     "name": "stderr",
     "output_type": "stream",
     "text": [
      "Training:   7%|█████▏                                                               | 252/3368 [01:28<18:10,  2.86it/s]"
     ]
    },
    {
     "name": "stdout",
     "output_type": "stream",
     "text": [
      "--> WARNING: Skipping corrupted file: FakeVsRealDataset(for-original)\\training\\fake\\file9875.mp3\n"
     ]
    },
    {
     "name": "stderr",
     "output_type": "stream",
     "text": [
      "Training:  10%|███████▏                                                             | 350/3368 [02:02<17:34,  2.86it/s]"
     ]
    },
    {
     "name": "stdout",
     "output_type": "stream",
     "text": [
      "--> WARNING: Skipping corrupted file: FakeVsRealDataset(for-original)\\training\\fake\\file30959.mp3\n"
     ]
    },
    {
     "name": "stderr",
     "output_type": "stream",
     "text": [
      "Training:  12%|████████▍                                                            | 410/3368 [02:23<17:18,  2.85it/s]"
     ]
    },
    {
     "name": "stdout",
     "output_type": "stream",
     "text": [
      "--> WARNING: Skipping corrupted file: FakeVsRealDataset(for-original)\\training\\fake\\file13424.mp3\n"
     ]
    },
    {
     "name": "stderr",
     "output_type": "stream",
     "text": [
      "Training:  17%|███████████▉                                                         | 580/3368 [03:23<16:33,  2.81it/s]"
     ]
    },
    {
     "name": "stdout",
     "output_type": "stream",
     "text": [
      "--> WARNING: Skipping corrupted file: FakeVsRealDataset(for-original)\\training\\fake\\file32972.mp3\n"
     ]
    },
    {
     "name": "stderr",
     "output_type": "stream",
     "text": [
      "Training:  21%|██████████████▊                                                      | 721/3368 [04:13<12:35,  3.51it/s]"
     ]
    },
    {
     "name": "stdout",
     "output_type": "stream",
     "text": [
      "--> WARNING: Skipping corrupted file: FakeVsRealDataset(for-original)\\training\\fake\\file17407.mp3\n"
     ]
    },
    {
     "name": "stderr",
     "output_type": "stream",
     "text": [
      "Training:  35%|███████████████████████▋                                            | 1172/3368 [06:57<10:44,  3.41it/s]"
     ]
    },
    {
     "name": "stdout",
     "output_type": "stream",
     "text": [
      "--> WARNING: Skipping corrupted file: FakeVsRealDataset(for-original)\\training\\fake\\file27839.mp3\n"
     ]
    },
    {
     "name": "stderr",
     "output_type": "stream",
     "text": [
      "Training:  38%|█████████████████████████▌                                          | 1269/3368 [07:33<10:31,  3.33it/s]"
     ]
    },
    {
     "name": "stdout",
     "output_type": "stream",
     "text": [
      "--> WARNING: Skipping corrupted file: FakeVsRealDataset(for-original)\\training\\fake\\file16643.mp3\n"
     ]
    },
    {
     "name": "stderr",
     "output_type": "stream",
     "text": [
      "Training:  39%|██████████████████████████▋                                         | 1324/3368 [07:54<13:11,  2.58it/s]"
     ]
    },
    {
     "name": "stdout",
     "output_type": "stream",
     "text": [
      "--> WARNING: Skipping corrupted file: FakeVsRealDataset(for-original)\\training\\fake\\file5323.mp3\n"
     ]
    },
    {
     "name": "stderr",
     "output_type": "stream",
     "text": [
      "Training:  49%|█████████████████████████████████▎                                  | 1647/3368 [09:54<08:28,  3.38it/s]"
     ]
    },
    {
     "name": "stdout",
     "output_type": "stream",
     "text": [
      "--> WARNING: Skipping corrupted file: FakeVsRealDataset(for-original)\\training\\fake\\file15746.mp3\n"
     ]
    },
    {
     "name": "stderr",
     "output_type": "stream",
     "text": [
      "Training:  63%|██████████████████████████████████████████▌                         | 2106/3368 [12:53<07:08,  2.95it/s]"
     ]
    },
    {
     "name": "stdout",
     "output_type": "stream",
     "text": [
      "--> WARNING: Skipping corrupted file: FakeVsRealDataset(for-original)\\training\\fake\\file17450.mp3\n"
     ]
    },
    {
     "name": "stderr",
     "output_type": "stream",
     "text": [
      "Training:  65%|████████████████████████████████████████████▍                       | 2199/3368 [13:31<06:48,  2.86it/s]"
     ]
    },
    {
     "name": "stdout",
     "output_type": "stream",
     "text": [
      "--> WARNING: Skipping corrupted file: FakeVsRealDataset(for-original)\\training\\fake\\file31017.mp3\n"
     ]
    },
    {
     "name": "stderr",
     "output_type": "stream",
     "text": [
      "Training:  76%|███████████████████████████████████████████████████▍                | 2547/3368 [15:59<04:46,  2.87it/s]"
     ]
    },
    {
     "name": "stdout",
     "output_type": "stream",
     "text": [
      "--> WARNING: Skipping corrupted file: FakeVsRealDataset(for-original)\\training\\fake\\file27206.mp3\n"
     ]
    },
    {
     "name": "stderr",
     "output_type": "stream",
     "text": [
      "Training:  97%|█████████████████████████████████████████████████████████████████▋  | 3254/3368 [21:00<00:39,  2.86it/s]"
     ]
    },
    {
     "name": "stdout",
     "output_type": "stream",
     "text": [
      "--> WARNING: Skipping corrupted file: FakeVsRealDataset(for-original)\\training\\fake\\file19851.mp3\n"
     ]
    },
    {
     "name": "stderr",
     "output_type": "stream",
     "text": [
      "Training: 100%|████████████████████████████████████████████████████████████████████| 3368/3368 [21:48<00:00,  2.57it/s]\n",
      "Evaluating:  15%|██████████                                                          | 100/675 [00:33<02:39,  3.60it/s]"
     ]
    },
    {
     "name": "stdout",
     "output_type": "stream",
     "text": [
      "--> WARNING: Skipping corrupted file: FakeVsRealDataset(for-original)\\validation\\fake\\file16165.mp3\n"
     ]
    },
    {
     "name": "stderr",
     "output_type": "stream",
     "text": [
      "Evaluating:  37%|█████████████████████████▍                                          | 253/675 [01:25<01:57,  3.59it/s]"
     ]
    },
    {
     "name": "stdout",
     "output_type": "stream",
     "text": [
      "--> WARNING: Skipping corrupted file: FakeVsRealDataset(for-original)\\validation\\fake\\file31606.mp3\n"
     ]
    },
    {
     "name": "stderr",
     "output_type": "stream",
     "text": [
      "Evaluating: 100%|████████████████████████████████████████████████████████████████████| 675/675 [03:56<00:00,  2.85it/s]\n"
     ]
    },
    {
     "name": "stdout",
     "output_type": "stream",
     "text": [
      "Epoch: 09 | Train Loss: nan | Train Acc: 0.9924 | Val Loss: 0.0075 | Val Acc: 0.9940\n"
     ]
    },
    {
     "name": "stderr",
     "output_type": "stream",
     "text": [
      "Training:  14%|█████████▋                                                           | 472/3368 [02:46<13:33,  3.56it/s]"
     ]
    },
    {
     "name": "stdout",
     "output_type": "stream",
     "text": [
      "--> WARNING: Skipping corrupted file: FakeVsRealDataset(for-original)\\training\\fake\\file13424.mp3\n"
     ]
    },
    {
     "name": "stderr",
     "output_type": "stream",
     "text": [
      "Training:  34%|███████████████████████                                             | 1140/3368 [06:46<10:47,  3.44it/s]"
     ]
    },
    {
     "name": "stdout",
     "output_type": "stream",
     "text": [
      "--> WARNING: Skipping corrupted file: FakeVsRealDataset(for-original)\\training\\fake\\file27839.mp3\n"
     ]
    },
    {
     "name": "stderr",
     "output_type": "stream",
     "text": [
      "Training:  35%|███████████████████████▋                                            | 1172/3368 [06:57<13:17,  2.75it/s]"
     ]
    },
    {
     "name": "stdout",
     "output_type": "stream",
     "text": [
      "--> WARNING: Skipping corrupted file: FakeVsRealDataset(for-original)\\training\\fake\\file30959.mp3\n"
     ]
    },
    {
     "name": "stderr",
     "output_type": "stream",
     "text": [
      "Training:  35%|███████████████████████▊                                            | 1181/3368 [07:00<10:06,  3.61it/s]"
     ]
    },
    {
     "name": "stdout",
     "output_type": "stream",
     "text": [
      "--> WARNING: Skipping corrupted file: FakeVsRealDataset(for-original)\\training\\fake\\file5323.mp3\n"
     ]
    },
    {
     "name": "stderr",
     "output_type": "stream",
     "text": [
      "Training:  36%|████████████████████████▊                                           | 1228/3368 [07:17<13:07,  2.72it/s]"
     ]
    },
    {
     "name": "stdout",
     "output_type": "stream",
     "text": [
      "--> WARNING: Skipping corrupted file: FakeVsRealDataset(for-original)\\training\\fake\\file16643.mp3\n"
     ]
    },
    {
     "name": "stderr",
     "output_type": "stream",
     "text": [
      "Training:  40%|███████████████████████████▌                                        | 1363/3368 [08:06<09:56,  3.36it/s]"
     ]
    },
    {
     "name": "stdout",
     "output_type": "stream",
     "text": [
      "--> WARNING: Skipping corrupted file: FakeVsRealDataset(for-original)\\training\\fake\\file17407.mp3\n"
     ]
    },
    {
     "name": "stderr",
     "output_type": "stream",
     "text": [
      "Training:  41%|███████████████████████████▉                                        | 1383/3368 [08:13<11:18,  2.93it/s]"
     ]
    },
    {
     "name": "stdout",
     "output_type": "stream",
     "text": [
      "--> WARNING: Skipping corrupted file: FakeVsRealDataset(for-original)\\training\\fake\\file15746.mp3\n"
     ]
    },
    {
     "name": "stderr",
     "output_type": "stream",
     "text": [
      "Training:  55%|█████████████████████████████████████▍                              | 1854/3368 [11:09<08:00,  3.15it/s]"
     ]
    },
    {
     "name": "stdout",
     "output_type": "stream",
     "text": [
      "--> WARNING: Skipping corrupted file: FakeVsRealDataset(for-original)\\training\\fake\\file9875.mp3\n"
     ]
    },
    {
     "name": "stderr",
     "output_type": "stream",
     "text": [
      "Training:  57%|███████████████████████████████████████                             | 1932/3368 [11:38<07:10,  3.34it/s]"
     ]
    },
    {
     "name": "stdout",
     "output_type": "stream",
     "text": [
      "--> WARNING: Skipping corrupted file: FakeVsRealDataset(for-original)\\training\\fake\\file27206.mp3\n"
     ]
    },
    {
     "name": "stderr",
     "output_type": "stream",
     "text": [
      "Training:  60%|████████████████████████████████████████▌                           | 2006/3368 [12:07<07:01,  3.23it/s]"
     ]
    },
    {
     "name": "stdout",
     "output_type": "stream",
     "text": [
      "--> WARNING: Skipping corrupted file: FakeVsRealDataset(for-original)\\training\\fake\\file17450.mp3\n"
     ]
    },
    {
     "name": "stderr",
     "output_type": "stream",
     "text": [
      "Training:  74%|██████████████████████████████████████████████████                  | 2481/3368 [15:25<05:06,  2.89it/s]"
     ]
    },
    {
     "name": "stdout",
     "output_type": "stream",
     "text": [
      "--> WARNING: Skipping corrupted file: FakeVsRealDataset(for-original)\\training\\fake\\file32972.mp3\n"
     ]
    },
    {
     "name": "stderr",
     "output_type": "stream",
     "text": [
      "Training:  85%|█████████████████████████████████████████████████████████▉          | 2868/3368 [18:10<02:51,  2.92it/s]"
     ]
    },
    {
     "name": "stdout",
     "output_type": "stream",
     "text": [
      "--> WARNING: Skipping corrupted file: FakeVsRealDataset(for-original)\\training\\fake\\file27643.mp3\n"
     ]
    },
    {
     "name": "stderr",
     "output_type": "stream",
     "text": [
      "Training:  95%|████████████████████████████████████████████████████████████████▊   | 3210/3368 [20:37<00:56,  2.82it/s]"
     ]
    },
    {
     "name": "stdout",
     "output_type": "stream",
     "text": [
      "--> WARNING: Skipping corrupted file: FakeVsRealDataset(for-original)\\training\\fake\\file31017.mp3\n"
     ]
    },
    {
     "name": "stderr",
     "output_type": "stream",
     "text": [
      "Training:  97%|██████████████████████████████████████████████████████████████████▏ | 3280/3368 [21:07<00:31,  2.83it/s]"
     ]
    },
    {
     "name": "stdout",
     "output_type": "stream",
     "text": [
      "--> WARNING: Skipping corrupted file: FakeVsRealDataset(for-original)\\training\\fake\\file19851.mp3\n"
     ]
    },
    {
     "name": "stderr",
     "output_type": "stream",
     "text": [
      "Training: 100%|████████████████████████████████████████████████████████████████████| 3368/3368 [21:44<00:00,  2.58it/s]\n",
      "Evaluating:  15%|██████████                                                          | 100/675 [00:33<02:42,  3.54it/s]"
     ]
    },
    {
     "name": "stdout",
     "output_type": "stream",
     "text": [
      "--> WARNING: Skipping corrupted file: FakeVsRealDataset(for-original)\\validation\\fake\\file16165.mp3\n"
     ]
    },
    {
     "name": "stderr",
     "output_type": "stream",
     "text": [
      "Evaluating:  37%|█████████████████████████▍                                          | 253/675 [01:25<01:56,  3.63it/s]"
     ]
    },
    {
     "name": "stdout",
     "output_type": "stream",
     "text": [
      "--> WARNING: Skipping corrupted file: FakeVsRealDataset(for-original)\\validation\\fake\\file31606.mp3\n"
     ]
    },
    {
     "name": "stderr",
     "output_type": "stream",
     "text": [
      "Evaluating: 100%|████████████████████████████████████████████████████████████████████| 675/675 [03:56<00:00,  2.86it/s]\n"
     ]
    },
    {
     "name": "stdout",
     "output_type": "stream",
     "text": [
      "Epoch: 10 | Train Loss: nan | Train Acc: 0.9929 | Val Loss: 0.0091 | Val Acc: 0.9937\n"
     ]
    },
    {
     "name": "stderr",
     "output_type": "stream",
     "text": [
      "Training:   0%|▎                                                                     | 14/3368 [00:04<19:15,  2.90it/s]"
     ]
    },
    {
     "name": "stdout",
     "output_type": "stream",
     "text": [
      "--> WARNING: Skipping corrupted file: FakeVsRealDataset(for-original)\\training\\fake\\file17450.mp3\n"
     ]
    },
    {
     "name": "stderr",
     "output_type": "stream",
     "text": [
      "Training:   7%|████▍                                                                | 219/3368 [01:16<14:38,  3.59it/s]"
     ]
    },
    {
     "name": "stdout",
     "output_type": "stream",
     "text": [
      "--> WARNING: Skipping corrupted file: FakeVsRealDataset(for-original)\\training\\fake\\file32972.mp3\n"
     ]
    },
    {
     "name": "stderr",
     "output_type": "stream",
     "text": [
      "Training:  14%|█████████▌                                                           | 467/3368 [02:43<16:32,  2.92it/s]"
     ]
    },
    {
     "name": "stdout",
     "output_type": "stream",
     "text": [
      "--> WARNING: Skipping corrupted file: FakeVsRealDataset(for-original)\\training\\fake\\file13424.mp3\n"
     ]
    },
    {
     "name": "stderr",
     "output_type": "stream",
     "text": [
      "Training:  14%|█████████▊                                                           | 481/3368 [02:47<13:25,  3.58it/s]"
     ]
    },
    {
     "name": "stdout",
     "output_type": "stream",
     "text": [
      "--> WARNING: Skipping corrupted file: FakeVsRealDataset(for-original)\\training\\fake\\file17407.mp3\n"
     ]
    },
    {
     "name": "stderr",
     "output_type": "stream",
     "text": [
      "Training:  19%|█████████████▍                                                       | 654/3368 [03:48<12:45,  3.55it/s]"
     ]
    },
    {
     "name": "stdout",
     "output_type": "stream",
     "text": [
      "--> WARNING: Skipping corrupted file: FakeVsRealDataset(for-original)\\training\\fake\\file5323.mp3\n"
     ]
    },
    {
     "name": "stderr",
     "output_type": "stream",
     "text": [
      "Training:  28%|███████████████████▏                                                 | 937/3368 [05:29<14:18,  2.83it/s]"
     ]
    },
    {
     "name": "stdout",
     "output_type": "stream",
     "text": [
      "--> WARNING: Skipping corrupted file: FakeVsRealDataset(for-original)\\training\\fake\\file27643.mp3\n"
     ]
    },
    {
     "name": "stderr",
     "output_type": "stream",
     "text": [
      "Training:  54%|████████████████████████████████████▋                               | 1815/3368 [10:51<07:49,  3.30it/s]"
     ]
    },
    {
     "name": "stdout",
     "output_type": "stream",
     "text": [
      "--> WARNING: Skipping corrupted file: FakeVsRealDataset(for-original)\\training\\fake\\file9875.mp3\n"
     ]
    },
    {
     "name": "stderr",
     "output_type": "stream",
     "text": [
      "Training:  58%|███████████████████████████████████████▌                            | 1959/3368 [11:46<06:49,  3.44it/s]"
     ]
    },
    {
     "name": "stdout",
     "output_type": "stream",
     "text": [
      "--> WARNING: Skipping corrupted file: FakeVsRealDataset(for-original)\\training\\fake\\file31017.mp3\n"
     ]
    },
    {
     "name": "stderr",
     "output_type": "stream",
     "text": [
      "Training:  60%|████████████████████████████████████████▌                           | 2010/3368 [12:06<06:59,  3.24it/s]"
     ]
    },
    {
     "name": "stdout",
     "output_type": "stream",
     "text": [
      "--> WARNING: Skipping corrupted file: FakeVsRealDataset(for-original)\\training\\fake\\file30959.mp3\n"
     ]
    },
    {
     "name": "stderr",
     "output_type": "stream",
     "text": [
      "Training:  62%|██████████████████████████████████████████▍                         | 2099/3368 [12:41<07:16,  2.91it/s]"
     ]
    },
    {
     "name": "stdout",
     "output_type": "stream",
     "text": [
      "--> WARNING: Skipping corrupted file: FakeVsRealDataset(for-original)\\training\\fake\\file15746.mp3\n"
     ]
    },
    {
     "name": "stderr",
     "output_type": "stream",
     "text": [
      "Training:  79%|████████████████████████████████████████████████████              | 2654/3368 [1:04:05<04:28,  2.66it/s]"
     ]
    },
    {
     "name": "stdout",
     "output_type": "stream",
     "text": [
      "--> WARNING: Skipping corrupted file: FakeVsRealDataset(for-original)\\training\\fake\\file27839.mp3\n"
     ]
    },
    {
     "name": "stderr",
     "output_type": "stream",
     "text": [
      "Training:  79%|████████████████████████████████████████████████████▎             | 2668/3368 [1:04:11<04:21,  2.68it/s]"
     ]
    },
    {
     "name": "stdout",
     "output_type": "stream",
     "text": [
      "--> WARNING: Skipping corrupted file: FakeVsRealDataset(for-original)\\training\\fake\\file27206.mp3\n"
     ]
    },
    {
     "name": "stderr",
     "output_type": "stream",
     "text": [
      "Training:  85%|███████████████████████████████████████████████████████▊          | 2847/3368 [1:06:06<08:55,  1.03s/it]"
     ]
    },
    {
     "name": "stdout",
     "output_type": "stream",
     "text": [
      "--> WARNING: Skipping corrupted file: FakeVsRealDataset(for-original)\\training\\fake\\file19851.mp3\n"
     ]
    },
    {
     "name": "stderr",
     "output_type": "stream",
     "text": [
      "Training:  97%|████████████████████████████████████████████████████████████████▎ | 3279/3368 [1:19:05<02:05,  1.41s/it]"
     ]
    },
    {
     "name": "stdout",
     "output_type": "stream",
     "text": [
      "--> WARNING: Skipping corrupted file: FakeVsRealDataset(for-original)\\training\\fake\\file16643.mp3\n"
     ]
    },
    {
     "name": "stderr",
     "output_type": "stream",
     "text": [
      "Training: 100%|██████████████████████████████████████████████████████████████████| 3368/3368 [1:21:54<00:00,  1.46s/it]\n",
      "Evaluating:  15%|██████████                                                          | 100/675 [02:37<12:07,  1.26s/it]"
     ]
    },
    {
     "name": "stdout",
     "output_type": "stream",
     "text": [
      "--> WARNING: Skipping corrupted file: FakeVsRealDataset(for-original)\\validation\\fake\\file16165.mp3\n"
     ]
    },
    {
     "name": "stderr",
     "output_type": "stream",
     "text": [
      "Evaluating:  37%|█████████████████████████▍                                          | 253/675 [06:47<10:03,  1.43s/it]"
     ]
    },
    {
     "name": "stdout",
     "output_type": "stream",
     "text": [
      "--> WARNING: Skipping corrupted file: FakeVsRealDataset(for-original)\\validation\\fake\\file31606.mp3\n"
     ]
    },
    {
     "name": "stderr",
     "output_type": "stream",
     "text": [
      "Evaluating: 100%|████████████████████████████████████████████████████████████████████| 675/675 [11:16<00:00,  1.00s/it]\n"
     ]
    },
    {
     "name": "stdout",
     "output_type": "stream",
     "text": [
      "Epoch: 11 | Train Loss: nan | Train Acc: 0.9932 | Val Loss: 0.0072 | Val Acc: 0.9949\n"
     ]
    },
    {
     "name": "stderr",
     "output_type": "stream",
     "text": [
      "Training:   1%|▍                                                                     | 19/3368 [00:08<21:07,  2.64it/s]"
     ]
    },
    {
     "name": "stdout",
     "output_type": "stream",
     "text": [
      "--> WARNING: Skipping corrupted file: FakeVsRealDataset(for-original)\\training\\fake\\file15746.mp3\n"
     ]
    },
    {
     "name": "stderr",
     "output_type": "stream",
     "text": [
      "Training:  14%|█████████▊                                                           | 479/3368 [03:45<18:47,  2.56it/s]"
     ]
    },
    {
     "name": "stdout",
     "output_type": "stream",
     "text": [
      "--> WARNING: Skipping corrupted file: FakeVsRealDataset(for-original)\\training\\fake\\file19851.mp3\n"
     ]
    },
    {
     "name": "stderr",
     "output_type": "stream",
     "text": [
      "Training:  20%|█████████████▌                                                       | 662/3368 [05:06<15:28,  2.91it/s]"
     ]
    },
    {
     "name": "stdout",
     "output_type": "stream",
     "text": [
      "--> WARNING: Skipping corrupted file: FakeVsRealDataset(for-original)\\training\\fake\\file31017.mp3\n"
     ]
    },
    {
     "name": "stderr",
     "output_type": "stream",
     "text": [
      "Training:  21%|██████████████▏                                                      | 693/3368 [05:20<15:49,  2.82it/s]"
     ]
    },
    {
     "name": "stdout",
     "output_type": "stream",
     "text": [
      "--> WARNING: Skipping corrupted file: FakeVsRealDataset(for-original)\\training\\fake\\file27839.mp3\n"
     ]
    },
    {
     "name": "stderr",
     "output_type": "stream",
     "text": [
      "Training:  22%|██████████████▉                                                      | 730/3368 [05:37<16:10,  2.72it/s]"
     ]
    },
    {
     "name": "stdout",
     "output_type": "stream",
     "text": [
      "--> WARNING: Skipping corrupted file: FakeVsRealDataset(for-original)\\training\\fake\\file27643.mp3\n"
     ]
    },
    {
     "name": "stderr",
     "output_type": "stream",
     "text": [
      "Training:  35%|███████████████████████▉                                            | 1185/3368 [08:57<12:54,  2.82it/s]"
     ]
    },
    {
     "name": "stdout",
     "output_type": "stream",
     "text": [
      "--> WARNING: Skipping corrupted file: FakeVsRealDataset(for-original)\\training\\fake\\file5323.mp3\n"
     ]
    },
    {
     "name": "stderr",
     "output_type": "stream",
     "text": [
      "Training:  49%|█████████████████████████████████▋                                  | 1666/3368 [12:29<10:16,  2.76it/s]"
     ]
    },
    {
     "name": "stdout",
     "output_type": "stream",
     "text": [
      "--> WARNING: Skipping corrupted file: FakeVsRealDataset(for-original)\\training\\fake\\file17407.mp3\n"
     ]
    },
    {
     "name": "stderr",
     "output_type": "stream",
     "text": [
      "Training:  53%|████████████████████████████████████▎                               | 1796/3368 [13:28<09:44,  2.69it/s]"
     ]
    },
    {
     "name": "stdout",
     "output_type": "stream",
     "text": [
      "--> WARNING: Skipping corrupted file: FakeVsRealDataset(for-original)\\training\\fake\\file30959.mp3\n"
     ]
    },
    {
     "name": "stderr",
     "output_type": "stream",
     "text": [
      "Training:  59%|████████████████████████████████████████                            | 1987/3368 [14:56<08:34,  2.69it/s]"
     ]
    },
    {
     "name": "stdout",
     "output_type": "stream",
     "text": [
      "--> WARNING: Skipping corrupted file: FakeVsRealDataset(for-original)\\training\\fake\\file17450.mp3\n"
     ]
    },
    {
     "name": "stderr",
     "output_type": "stream",
     "text": [
      "Training:  65%|████████████████████████████████████████████▍                       | 2202/3368 [16:34<07:23,  2.63it/s]"
     ]
    },
    {
     "name": "stdout",
     "output_type": "stream",
     "text": [
      "--> WARNING: Skipping corrupted file: FakeVsRealDataset(for-original)\\training\\fake\\file27206.mp3\n"
     ]
    },
    {
     "name": "stderr",
     "output_type": "stream",
     "text": [
      "Training:  68%|██████████████████████████████████████████████▎                     | 2293/3368 [17:16<06:40,  2.68it/s]"
     ]
    },
    {
     "name": "stdout",
     "output_type": "stream",
     "text": [
      "--> WARNING: Skipping corrupted file: FakeVsRealDataset(for-original)\\training\\fake\\file16643.mp3\n"
     ]
    },
    {
     "name": "stderr",
     "output_type": "stream",
     "text": [
      "Training:  82%|███████████████████████████████████████████████████████▋            | 2760/3368 [20:51<03:48,  2.66it/s]"
     ]
    },
    {
     "name": "stdout",
     "output_type": "stream",
     "text": [
      "--> WARNING: Skipping corrupted file: FakeVsRealDataset(for-original)\\training\\fake\\file9875.mp3\n"
     ]
    },
    {
     "name": "stderr",
     "output_type": "stream",
     "text": [
      "Training:  90%|████████████████████████████████████████████████████████████▉       | 3018/3368 [22:51<02:12,  2.64it/s]"
     ]
    },
    {
     "name": "stdout",
     "output_type": "stream",
     "text": [
      "--> WARNING: Skipping corrupted file: FakeVsRealDataset(for-original)\\training\\fake\\file13424.mp3\n"
     ]
    },
    {
     "name": "stderr",
     "output_type": "stream",
     "text": [
      "Training:  92%|██████████████████████████████████████████████████████████████▊     | 3110/3368 [23:31<01:31,  2.81it/s]"
     ]
    },
    {
     "name": "stdout",
     "output_type": "stream",
     "text": [
      "--> WARNING: Skipping corrupted file: FakeVsRealDataset(for-original)\\training\\fake\\file32972.mp3\n"
     ]
    },
    {
     "name": "stderr",
     "output_type": "stream",
     "text": [
      "Training: 100%|████████████████████████████████████████████████████████████████████| 3368/3368 [25:21<00:00,  2.21it/s]\n",
      "Evaluating:  15%|██████████                                                          | 100/675 [00:32<02:41,  3.56it/s]"
     ]
    },
    {
     "name": "stdout",
     "output_type": "stream",
     "text": [
      "--> WARNING: Skipping corrupted file: FakeVsRealDataset(for-original)\\validation\\fake\\file16165.mp3\n"
     ]
    },
    {
     "name": "stderr",
     "output_type": "stream",
     "text": [
      "Evaluating:  37%|█████████████████████████▍                                          | 253/675 [01:22<01:53,  3.72it/s]"
     ]
    },
    {
     "name": "stdout",
     "output_type": "stream",
     "text": [
      "--> WARNING: Skipping corrupted file: FakeVsRealDataset(for-original)\\validation\\fake\\file31606.mp3\n"
     ]
    },
    {
     "name": "stderr",
     "output_type": "stream",
     "text": [
      "Evaluating: 100%|████████████████████████████████████████████████████████████████████| 675/675 [03:48<00:00,  2.95it/s]\n"
     ]
    },
    {
     "name": "stdout",
     "output_type": "stream",
     "text": [
      "Epoch: 12 | Train Loss: nan | Train Acc: 0.9929 | Val Loss: 0.0156 | Val Acc: 0.9921\n"
     ]
    },
    {
     "name": "stderr",
     "output_type": "stream",
     "text": [
      "Training:   1%|▉                                                                     | 45/3368 [00:15<19:08,  2.89it/s]"
     ]
    },
    {
     "name": "stdout",
     "output_type": "stream",
     "text": [
      "--> WARNING: Skipping corrupted file: FakeVsRealDataset(for-original)\\training\\fake\\file17450.mp3\n"
     ]
    },
    {
     "name": "stderr",
     "output_type": "stream",
     "text": [
      "Training:   9%|██████▎                                                              | 306/3368 [01:49<14:21,  3.55it/s]"
     ]
    },
    {
     "name": "stdout",
     "output_type": "stream",
     "text": [
      "--> WARNING: Skipping corrupted file: FakeVsRealDataset(for-original)\\training\\fake\\file27206.mp3\n"
     ]
    },
    {
     "name": "stderr",
     "output_type": "stream",
     "text": [
      "Training:  13%|█████████                                                            | 445/3368 [02:38<14:07,  3.45it/s]"
     ]
    },
    {
     "name": "stdout",
     "output_type": "stream",
     "text": [
      "--> WARNING: Skipping corrupted file: FakeVsRealDataset(for-original)\\training\\fake\\file13424.mp3\n"
     ]
    },
    {
     "name": "stderr",
     "output_type": "stream",
     "text": [
      "Training:  27%|██████████████████▌                                                  | 908/3368 [05:23<11:50,  3.46it/s]"
     ]
    },
    {
     "name": "stdout",
     "output_type": "stream",
     "text": [
      "--> WARNING: Skipping corrupted file: FakeVsRealDataset(for-original)\\training\\fake\\file30959.mp3\n"
     ]
    },
    {
     "name": "stderr",
     "output_type": "stream",
     "text": [
      "Training:  28%|██████████████████▉                                                  | 927/3368 [05:30<11:52,  3.42it/s]"
     ]
    },
    {
     "name": "stdout",
     "output_type": "stream",
     "text": [
      "--> WARNING: Skipping corrupted file: FakeVsRealDataset(for-original)\\training\\fake\\file32972.mp3\n"
     ]
    },
    {
     "name": "stderr",
     "output_type": "stream",
     "text": [
      "Training:  34%|███████████████████████▍                                            | 1161/3368 [06:54<10:27,  3.52it/s]"
     ]
    },
    {
     "name": "stdout",
     "output_type": "stream",
     "text": [
      "--> WARNING: Skipping corrupted file: FakeVsRealDataset(for-original)\\training\\fake\\file19851.mp3\n"
     ]
    },
    {
     "name": "stderr",
     "output_type": "stream",
     "text": [
      "Training:  42%|████████████████████████████▋                                       | 1423/3368 [08:27<09:25,  3.44it/s]"
     ]
    },
    {
     "name": "stdout",
     "output_type": "stream",
     "text": [
      "--> WARNING: Skipping corrupted file: FakeVsRealDataset(for-original)\\training\\fake\\file15746.mp3\n"
     ]
    },
    {
     "name": "stderr",
     "output_type": "stream",
     "text": [
      "Training:  48%|████████████████████████████████▋                                   | 1617/3368 [09:38<11:22,  2.57it/s]"
     ]
    },
    {
     "name": "stdout",
     "output_type": "stream",
     "text": [
      "--> WARNING: Skipping corrupted file: FakeVsRealDataset(for-original)\\training\\fake\\file17407.mp3\n"
     ]
    },
    {
     "name": "stderr",
     "output_type": "stream",
     "text": [
      "Training:  60%|████████████████████████████████████████▌                           | 2007/3368 [12:03<06:49,  3.32it/s]"
     ]
    },
    {
     "name": "stdout",
     "output_type": "stream",
     "text": [
      "--> WARNING: Skipping corrupted file: FakeVsRealDataset(for-original)\\training\\fake\\file27839.mp3\n"
     ]
    },
    {
     "name": "stderr",
     "output_type": "stream",
     "text": [
      "Training:  66%|████████████████████████████████████████████▊                       | 2222/3368 [13:25<06:07,  3.12it/s]"
     ]
    },
    {
     "name": "stdout",
     "output_type": "stream",
     "text": [
      "--> WARNING: Skipping corrupted file: FakeVsRealDataset(for-original)\\training\\fake\\file9875.mp3\n"
     ]
    },
    {
     "name": "stderr",
     "output_type": "stream",
     "text": [
      "Training:  66%|█████████████████████████████████████████████                       | 2229/3368 [13:27<06:12,  3.06it/s]"
     ]
    },
    {
     "name": "stdout",
     "output_type": "stream",
     "text": [
      "--> WARNING: Skipping corrupted file: FakeVsRealDataset(for-original)\\training\\fake\\file16643.mp3\n"
     ]
    },
    {
     "name": "stderr",
     "output_type": "stream",
     "text": [
      "Training:  91%|█████████████████████████████████████████████████████████████▌      | 3051/3368 [19:06<01:48,  2.93it/s]"
     ]
    },
    {
     "name": "stdout",
     "output_type": "stream",
     "text": [
      "--> WARNING: Skipping corrupted file: FakeVsRealDataset(for-original)\\training\\fake\\file5323.mp3\n"
     ]
    },
    {
     "name": "stderr",
     "output_type": "stream",
     "text": [
      "Training:  97%|██████████████████████████████████████████████████████████████████▎ | 3283/3368 [20:42<00:30,  2.76it/s]"
     ]
    },
    {
     "name": "stdout",
     "output_type": "stream",
     "text": [
      "--> WARNING: Skipping corrupted file: FakeVsRealDataset(for-original)\\training\\fake\\file27643.mp3\n"
     ]
    },
    {
     "name": "stderr",
     "output_type": "stream",
     "text": [
      "Training: 100%|███████████████████████████████████████████████████████████████████▊| 3356/3368 [21:12<00:04,  2.95it/s]"
     ]
    },
    {
     "name": "stdout",
     "output_type": "stream",
     "text": [
      "--> WARNING: Skipping corrupted file: FakeVsRealDataset(for-original)\\training\\fake\\file31017.mp3\n"
     ]
    },
    {
     "name": "stderr",
     "output_type": "stream",
     "text": [
      "Training: 100%|████████████████████████████████████████████████████████████████████| 3368/3368 [21:17<00:00,  2.64it/s]\n",
      "Evaluating:  15%|██████████                                                          | 100/675 [00:32<02:36,  3.67it/s]"
     ]
    },
    {
     "name": "stdout",
     "output_type": "stream",
     "text": [
      "--> WARNING: Skipping corrupted file: FakeVsRealDataset(for-original)\\validation\\fake\\file16165.mp3\n"
     ]
    },
    {
     "name": "stderr",
     "output_type": "stream",
     "text": [
      "Evaluating:  37%|█████████████████████████▍                                          | 253/675 [01:22<01:54,  3.70it/s]"
     ]
    },
    {
     "name": "stdout",
     "output_type": "stream",
     "text": [
      "--> WARNING: Skipping corrupted file: FakeVsRealDataset(for-original)\\validation\\fake\\file31606.mp3\n"
     ]
    },
    {
     "name": "stderr",
     "output_type": "stream",
     "text": [
      "Evaluating: 100%|████████████████████████████████████████████████████████████████████| 675/675 [03:48<00:00,  2.96it/s]\n"
     ]
    },
    {
     "name": "stdout",
     "output_type": "stream",
     "text": [
      "Epoch: 13 | Train Loss: nan | Train Acc: 0.9934 | Val Loss: 0.0031 | Val Acc: 0.9957\n"
     ]
    },
    {
     "name": "stderr",
     "output_type": "stream",
     "text": [
      "Training:   6%|███▊                                                                 | 186/3368 [01:02<17:37,  3.01it/s]"
     ]
    },
    {
     "name": "stdout",
     "output_type": "stream",
     "text": [
      "--> WARNING: Skipping corrupted file: FakeVsRealDataset(for-original)\\training\\fake\\file16643.mp3\n"
     ]
    },
    {
     "name": "stderr",
     "output_type": "stream",
     "text": [
      "Training:  14%|█████████▋                                                           | 471/3368 [02:39<17:14,  2.80it/s]"
     ]
    },
    {
     "name": "stdout",
     "output_type": "stream",
     "text": [
      "--> WARNING: Skipping corrupted file: FakeVsRealDataset(for-original)\\training\\fake\\file30959.mp3\n"
     ]
    },
    {
     "name": "stderr",
     "output_type": "stream",
     "text": [
      "Training:  18%|████████████▎                                                        | 604/3368 [03:24<15:26,  2.98it/s]"
     ]
    },
    {
     "name": "stdout",
     "output_type": "stream",
     "text": [
      "--> WARNING: Skipping corrupted file: FakeVsRealDataset(for-original)\\training\\fake\\file5323.mp3\n"
     ]
    },
    {
     "name": "stderr",
     "output_type": "stream",
     "text": [
      "Training:  21%|██████████████▎                                                      | 699/3368 [03:56<14:32,  3.06it/s]"
     ]
    },
    {
     "name": "stdout",
     "output_type": "stream",
     "text": [
      "--> WARNING: Skipping corrupted file: FakeVsRealDataset(for-original)\\training\\fake\\file9875.mp3\n"
     ]
    },
    {
     "name": "stderr",
     "output_type": "stream",
     "text": [
      "Training:  27%|██████████████████▋                                                  | 912/3368 [05:09<14:11,  2.89it/s]"
     ]
    },
    {
     "name": "stdout",
     "output_type": "stream",
     "text": [
      "--> WARNING: Skipping corrupted file: FakeVsRealDataset(for-original)\\training\\fake\\file27839.mp3\n"
     ]
    },
    {
     "name": "stderr",
     "output_type": "stream",
     "text": [
      "Training:  27%|██████████████████▊                                                  | 918/3368 [05:11<13:22,  3.05it/s]"
     ]
    },
    {
     "name": "stdout",
     "output_type": "stream",
     "text": [
      "--> WARNING: Skipping corrupted file: FakeVsRealDataset(for-original)\\training\\fake\\file27206.mp3\n"
     ]
    },
    {
     "name": "stderr",
     "output_type": "stream",
     "text": [
      "Training:  33%|██████████████████████▋                                             | 1122/3368 [06:21<12:47,  2.92it/s]"
     ]
    },
    {
     "name": "stdout",
     "output_type": "stream",
     "text": [
      "--> WARNING: Skipping corrupted file: FakeVsRealDataset(for-original)\\training\\fake\\file17407.mp3\n"
     ]
    },
    {
     "name": "stderr",
     "output_type": "stream",
     "text": [
      "Training:  45%|██████████████████████████████▋                                     | 1517/3368 [08:41<08:58,  3.44it/s]"
     ]
    },
    {
     "name": "stdout",
     "output_type": "stream",
     "text": [
      "--> WARNING: Skipping corrupted file: FakeVsRealDataset(for-original)\\training\\fake\\file17450.mp3\n"
     ]
    },
    {
     "name": "stderr",
     "output_type": "stream",
     "text": [
      "Training:  49%|█████████████████████████████████▎                                  | 1650/3368 [09:29<10:16,  2.79it/s]"
     ]
    },
    {
     "name": "stdout",
     "output_type": "stream",
     "text": [
      "--> WARNING: Skipping corrupted file: FakeVsRealDataset(for-original)\\training\\fake\\file13424.mp3\n"
     ]
    },
    {
     "name": "stderr",
     "output_type": "stream",
     "text": [
      "Training:  74%|██████████████████████████████████████████████████▏                 | 2485/3368 [15:10<05:17,  2.78it/s]"
     ]
    },
    {
     "name": "stdout",
     "output_type": "stream",
     "text": [
      "--> WARNING: Skipping corrupted file: FakeVsRealDataset(for-original)\\training\\fake\\file31017.mp3\n"
     ]
    },
    {
     "name": "stderr",
     "output_type": "stream",
     "text": [
      "Training:  81%|███████████████████████████████████████████████████████▏            | 2733/3368 [16:58<03:51,  2.74it/s]"
     ]
    },
    {
     "name": "stdout",
     "output_type": "stream",
     "text": [
      "--> WARNING: Skipping corrupted file: FakeVsRealDataset(for-original)\\training\\fake\\file27643.mp3\n"
     ]
    },
    {
     "name": "stderr",
     "output_type": "stream",
     "text": [
      "Training:  85%|█████████████████████████████████████████████████████████▌          | 2852/3368 [17:50<03:08,  2.73it/s]"
     ]
    },
    {
     "name": "stdout",
     "output_type": "stream",
     "text": [
      "--> WARNING: Skipping corrupted file: FakeVsRealDataset(for-original)\\training\\fake\\file15746.mp3\n"
     ]
    },
    {
     "name": "stderr",
     "output_type": "stream",
     "text": [
      "Training:  96%|█████████████████████████████████████████████████████████████████▌  | 3246/3368 [20:42<00:43,  2.79it/s]"
     ]
    },
    {
     "name": "stdout",
     "output_type": "stream",
     "text": [
      "--> WARNING: Skipping corrupted file: FakeVsRealDataset(for-original)\\training\\fake\\file32972.mp3\n"
     ]
    },
    {
     "name": "stderr",
     "output_type": "stream",
     "text": [
      "Training:  98%|██████████████████████████████████████████████████████████████████▋ | 3304/3368 [21:07<00:22,  2.82it/s]"
     ]
    },
    {
     "name": "stdout",
     "output_type": "stream",
     "text": [
      "--> WARNING: Skipping corrupted file: FakeVsRealDataset(for-original)\\training\\fake\\file19851.mp3\n"
     ]
    },
    {
     "name": "stderr",
     "output_type": "stream",
     "text": [
      "Training: 100%|████████████████████████████████████████████████████████████████████| 3368/3368 [21:35<00:00,  2.60it/s]\n",
      "Evaluating:  15%|██████████                                                          | 100/675 [00:35<02:48,  3.41it/s]"
     ]
    },
    {
     "name": "stdout",
     "output_type": "stream",
     "text": [
      "--> WARNING: Skipping corrupted file: FakeVsRealDataset(for-original)\\validation\\fake\\file16165.mp3\n"
     ]
    },
    {
     "name": "stderr",
     "output_type": "stream",
     "text": [
      "Evaluating:  37%|█████████████████████████▍                                          | 253/675 [01:30<02:13,  3.16it/s]"
     ]
    },
    {
     "name": "stdout",
     "output_type": "stream",
     "text": [
      "--> WARNING: Skipping corrupted file: FakeVsRealDataset(for-original)\\validation\\fake\\file31606.mp3\n"
     ]
    },
    {
     "name": "stderr",
     "output_type": "stream",
     "text": [
      "Evaluating: 100%|████████████████████████████████████████████████████████████████████| 675/675 [04:11<00:00,  2.68it/s]\n"
     ]
    },
    {
     "name": "stdout",
     "output_type": "stream",
     "text": [
      "Epoch: 14 | Train Loss: nan | Train Acc: 0.9934 | Val Loss: 0.0090 | Val Acc: 0.9946\n"
     ]
    },
    {
     "name": "stderr",
     "output_type": "stream",
     "text": [
      "Training:  10%|██████▌                                                              | 321/3368 [01:58<18:22,  2.76it/s]"
     ]
    },
    {
     "name": "stdout",
     "output_type": "stream",
     "text": [
      "--> WARNING: Skipping corrupted file: FakeVsRealDataset(for-original)\\training\\fake\\file30959.mp3\n"
     ]
    },
    {
     "name": "stderr",
     "output_type": "stream",
     "text": [
      "Training:  17%|███████████▋                                                         | 568/3368 [03:29<13:49,  3.38it/s]"
     ]
    },
    {
     "name": "stdout",
     "output_type": "stream",
     "text": [
      "--> WARNING: Skipping corrupted file: FakeVsRealDataset(for-original)\\training\\fake\\file9875.mp3\n"
     ]
    },
    {
     "name": "stderr",
     "output_type": "stream",
     "text": [
      "Training:  18%|████████████▎                                                        | 604/3368 [03:42<13:35,  3.39it/s]"
     ]
    },
    {
     "name": "stdout",
     "output_type": "stream",
     "text": [
      "--> WARNING: Skipping corrupted file: FakeVsRealDataset(for-original)\\training\\fake\\file15746.mp3\n"
     ]
    },
    {
     "name": "stderr",
     "output_type": "stream",
     "text": [
      "Training:  22%|███████████████▎                                                     | 749/3368 [04:36<16:28,  2.65it/s]"
     ]
    },
    {
     "name": "stdout",
     "output_type": "stream",
     "text": [
      "--> WARNING: Skipping corrupted file: FakeVsRealDataset(for-original)\\training\\fake\\file27839.mp3\n"
     ]
    },
    {
     "name": "stderr",
     "output_type": "stream",
     "text": [
      "Training:  22%|███████████████▍                                                     | 752/3368 [04:37<11:04,  3.94it/s]"
     ]
    },
    {
     "name": "stdout",
     "output_type": "stream",
     "text": [
      "--> WARNING: Skipping corrupted file: FakeVsRealDataset(for-original)\\training\\fake\\file17450.mp3\n"
     ]
    },
    {
     "name": "stderr",
     "output_type": "stream",
     "text": [
      "Training:  27%|██████████████████▋                                                  | 915/3368 [05:38<11:46,  3.47it/s]"
     ]
    },
    {
     "name": "stdout",
     "output_type": "stream",
     "text": [
      "--> WARNING: Skipping corrupted file: FakeVsRealDataset(for-original)\\training\\fake\\file16643.mp3\n"
     ]
    },
    {
     "name": "stderr",
     "output_type": "stream",
     "text": [
      "Training:  30%|████████████████████▍                                                | 996/3368 [06:08<11:45,  3.36it/s]"
     ]
    },
    {
     "name": "stdout",
     "output_type": "stream",
     "text": [
      "--> WARNING: Skipping corrupted file: FakeVsRealDataset(for-original)\\training\\fake\\file27206.mp3\n"
     ]
    },
    {
     "name": "stderr",
     "output_type": "stream",
     "text": [
      "Training:  38%|██████████████████████████                                          | 1288/3368 [07:59<13:12,  2.62it/s]"
     ]
    },
    {
     "name": "stdout",
     "output_type": "stream",
     "text": [
      "--> WARNING: Skipping corrupted file: FakeVsRealDataset(for-original)\\training\\fake\\file32972.mp3\n"
     ]
    },
    {
     "name": "stderr",
     "output_type": "stream",
     "text": [
      "Training:  40%|███████████████████████████▎                                        | 1355/3368 [08:24<10:19,  3.25it/s]"
     ]
    },
    {
     "name": "stdout",
     "output_type": "stream",
     "text": [
      "--> WARNING: Skipping corrupted file: FakeVsRealDataset(for-original)\\training\\fake\\file31017.mp3\n"
     ]
    },
    {
     "name": "stderr",
     "output_type": "stream",
     "text": [
      "Training:  49%|█████████████████████████████████                                   | 1635/3368 [10:11<08:37,  3.35it/s]"
     ]
    },
    {
     "name": "stdout",
     "output_type": "stream",
     "text": [
      "--> WARNING: Skipping corrupted file: FakeVsRealDataset(for-original)\\training\\fake\\file5323.mp3\n"
     ]
    },
    {
     "name": "stderr",
     "output_type": "stream",
     "text": [
      "Training:  49%|█████████████████████████████████▌                                  | 1665/3368 [10:22<08:44,  3.25it/s]"
     ]
    },
    {
     "name": "stdout",
     "output_type": "stream",
     "text": [
      "--> WARNING: Skipping corrupted file: FakeVsRealDataset(for-original)\\training\\fake\\file19851.mp3\n"
     ]
    },
    {
     "name": "stderr",
     "output_type": "stream",
     "text": [
      "Training:  55%|█████████████████████████████████████▎                              | 1849/3368 [11:33<10:12,  2.48it/s]"
     ]
    },
    {
     "name": "stdout",
     "output_type": "stream",
     "text": [
      "--> WARNING: Skipping corrupted file: FakeVsRealDataset(for-original)\\training\\fake\\file17407.mp3\n"
     ]
    },
    {
     "name": "stderr",
     "output_type": "stream",
     "text": [
      "Training:  62%|██████████████████████████████████████████                          | 2085/3368 [13:06<06:42,  3.19it/s]"
     ]
    },
    {
     "name": "stdout",
     "output_type": "stream",
     "text": [
      "--> WARNING: Skipping corrupted file: FakeVsRealDataset(for-original)\\training\\fake\\file27643.mp3\n"
     ]
    },
    {
     "name": "stderr",
     "output_type": "stream",
     "text": [
      "Training:  71%|████████████████████████████████████████████████▌                   | 2405/3368 [15:19<05:44,  2.80it/s]"
     ]
    },
    {
     "name": "stdout",
     "output_type": "stream",
     "text": [
      "--> WARNING: Skipping corrupted file: FakeVsRealDataset(for-original)\\training\\fake\\file13424.mp3\n"
     ]
    },
    {
     "name": "stderr",
     "output_type": "stream",
     "text": [
      "Training: 100%|████████████████████████████████████████████████████████████████████| 3368/3368 [22:27<00:00,  2.50it/s]\n",
      "Evaluating:  15%|██████████                                                          | 100/675 [00:36<02:55,  3.28it/s]"
     ]
    },
    {
     "name": "stdout",
     "output_type": "stream",
     "text": [
      "--> WARNING: Skipping corrupted file: FakeVsRealDataset(for-original)\\validation\\fake\\file16165.mp3\n"
     ]
    },
    {
     "name": "stderr",
     "output_type": "stream",
     "text": [
      "Evaluating:  37%|█████████████████████████▍                                          | 253/675 [01:31<02:06,  3.34it/s]"
     ]
    },
    {
     "name": "stdout",
     "output_type": "stream",
     "text": [
      "--> WARNING: Skipping corrupted file: FakeVsRealDataset(for-original)\\validation\\fake\\file31606.mp3\n"
     ]
    },
    {
     "name": "stderr",
     "output_type": "stream",
     "text": [
      "Evaluating: 100%|████████████████████████████████████████████████████████████████████| 675/675 [04:13<00:00,  2.66it/s]"
     ]
    },
    {
     "name": "stdout",
     "output_type": "stream",
     "text": [
      "Epoch: 15 | Train Loss: nan | Train Acc: 0.9933 | Val Loss: 0.0047 | Val Acc: 0.9951\n"
     ]
    },
    {
     "name": "stderr",
     "output_type": "stream",
     "text": [
      "\n"
     ]
    }
   ],
   "source": [
    "# --- Define Model ---\n",
    "class ViTModel(nn.Module):\n",
    "    def __init__(self, num_classes=2):\n",
    "        super().__init__()\n",
    "        self.vit = models.vit_b_16(weights=models.ViT_B_16_Weights.DEFAULT)\n",
    "        original_conv = self.vit.conv_proj\n",
    "        self.vit.conv_proj = nn.Conv2d(1, 768, kernel_size=(16, 16), stride=(16, 16))\n",
    "        self.vit.conv_proj.weight.data = original_conv.weight.data.mean(dim=1, keepdim=True)\n",
    "        self.resizer = TV.Resize((224, 224), antialias=True)\n",
    "        self.vit.heads.head = nn.Linear(self.vit.heads.head.in_features, num_classes)\n",
    "\n",
    "    def forward(self, x):\n",
    "        return self.vit(self.resizer(x))\n",
    "\n",
    "# --- Run Experiment ---\n",
    "model_3_name = \"Vision Transformer (ViT)\"\n",
    "model_3 = ViTModel().to(device)\n",
    "loss_fn_3 = nn.CrossEntropyLoss()\n",
    "optimizer_3 = torch.optim.Adam(model_3.parameters(), lr=LEARNING_RATE / 10) \n",
    "scheduler_3 = torch.optim.lr_scheduler.ReduceLROnPlateau(optimizer_3, mode='min', factor=0.1, patience=2)\n",
    "\n",
    "vit_history = run_experiment(model_3, train_loader, val_loader, loss_fn_3, optimizer_3, device, EPOCHS, scheduler_3)"
   ]
  },
  {
   "cell_type": "code",
   "execution_count": 15,
   "id": "2503e4f5-5187-4049-91d4-f2faeeeb49dd",
   "metadata": {},
   "outputs": [
    {
     "data": {
      "image/png": "[encoded data removed]",
      "text/plain": [
       "<Figure size 1600x600 with 2 Axes>"
      ]
     },
     "metadata": {},
     "output_type": "display_data"
    },
    {
     "name": "stdout",
     "output_type": "stream",
     "text": [
      "\n",
      "--- Final Evaluation on Test Set for Vision Transformer (ViT) ---\n"
     ]
    },
    {
     "name": "stderr",
     "output_type": "stream",
     "text": [
      "Evaluating: 100%|████████████████████████████████████████████████████████████████████| 290/290 [01:43<00:00,  2.79it/s]\n"
     ]
    },
    {
     "name": "stdout",
     "output_type": "stream",
     "text": [
      "Test Accuracy: 0.8644 | Test Loss: 0.4588\n"
     ]
    },
    {
     "data": {
      "image/png": "[encoded data removed]",
      "text/plain": [
       "<Figure size 600x600 with 2 Axes>"
      ]
     },
     "metadata": {},
     "output_type": "display_data"
    }
   ],
   "source": [
    "# --- Visualize Results for Model 3 ---\n",
    "vit_test_acc = plot_results(model_3, vit_history, test_loader, loss_fn_3, device, model_3_name)"
   ]
  },
  {
   "cell_type": "code",
   "execution_count": 19,
   "id": "1b97feda-fd8b-4d6b-9493-34236cd45f8c",
   "metadata": {},
   "outputs": [
    {
     "name": "stdout",
     "output_type": "stream",
     "text": [
      "Vision Transformer model saved to vit_model.pth\n"
     ]
    }
   ],
   "source": [
    "# --- Save the trained model's weights ---\n",
    "torch.save(model_3.state_dict(), 'vit_model.pth')\n",
    "print(\"Vision Transformer model saved to vit_model.pth\")"
   ]
  },
  {
   "cell_type": "markdown",
   "id": "6d72bf01-f06b-410b-b590-a685e83b2945",
   "metadata": {},
   "source": [
    "## Final Comparison\n",
    "\n",
    "After training all three models, we can now directly compare their performance on the unseen test data. A bar chart is a great way to visualize the final test accuracies side-by-side."
   ]
  },
  {
   "cell_type": "code",
   "execution_count": 16,
   "id": "9454ed19-ab02-4cc3-945b-e0b1b9047911",
   "metadata": {},
   "outputs": [
    {
     "data": {
      "image/png": "[encoded data removed]",
      "text/plain": [
       "<Figure size 1000x700 with 1 Axes>"
      ]
     },
     "metadata": {},
     "output_type": "display_data"
    }
   ],
   "source": [
    "# ==================================================================\n",
    "# Part 5: Final Model Comparison\n",
    "# ==================================================================\n",
    "model_names = [model_1_name, model_2_name, model_3_name]\n",
    "test_accuracies = [baseline_test_acc, deeper_cnn_test_acc, vit_test_acc]\n",
    "\n",
    "fig, ax = plt.subplots(figsize=(10, 7))\n",
    "bars = ax.bar(model_names, test_accuracies, color=['lightblue', 'cornflowerblue', 'royalblue'])\n",
    "ax.set_title('Comparison of Model Test Accuracies', fontsize=16)\n",
    "ax.set_ylabel('Test Accuracy')\n",
    "ax.set_xlabel('Model')\n",
    "ax.set_ylim(0, max(test_accuracies) * 1.15 if test_accuracies else 1.0)\n",
    "\n",
    "for bar in bars:\n",
    "    yval = bar.get_height()\n",
    "    plt.text(bar.get_x() + bar.get_width()/2.0, yval, f'{yval:.4f}', va='bottom', ha='center', fontsize=12) \n",
    "\n",
    "plt.show()"
   ]
  }
 ],
 "metadata": {
  "kernelspec": {
   "display_name": "Python (PyTorch)",
   "language": "python",
   "name": "pytorch_env"
  },
  "language_info": {
   "codemirror_mode": {
    "name": "ipython",
    "version": 3
   },
   "file_extension": ".py",
   "mimetype": "text/x-python",
   "name": "python",
   "nbconvert_exporter": "python",
   "pygments_lexer": "ipython3",
   "version": "3.12.11"
  }
 },
 "nbformat": 4,
 "nbformat_minor": 5
}
