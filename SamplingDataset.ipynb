{
 "cells": [
  {
   "cell_type": "code",
   "execution_count": 5,
   "id": "ed8ac57f-acd8-4241-abd9-13f2e6f84805",
   "metadata": {},
   "outputs": [
    {
     "name": "stdout",
     "output_type": "stream",
     "text": [
      "Copying 1080 files for class 'real'...\n",
      "Copying 1080 files for class 'fake'...\n",
      "\n",
      "Prototyping subset created successfully!\n"
     ]
    }
   ],
   "source": [
    "import os\n",
    "import random\n",
    "import shutil\n",
    "from pathlib import Path\n",
    "\n",
    "# --- Configuration ---\n",
    "SOURCE_DIR = Path(\"FakeVsRealDataset(for-original)/validation\")\n",
    "DEST_DIR = Path(\"prototyping_dataset/validation\")\n",
    "SUBSET_FRACTION = 0.20  # Use 20% of the data\n",
    "\n",
    "# --- Create destination directories ---\n",
    "for class_name in ['real', 'fake']:\n",
    "    (DEST_DIR / class_name).mkdir(parents=True, exist_ok=True)\n",
    "\n",
    "# --- Copy a fraction of files for each class ---\n",
    "for class_name in ['real', 'fake']:\n",
    "    source_class_dir = SOURCE_DIR / class_name\n",
    "    dest_class_dir = DEST_DIR / class_name\n",
    "    \n",
    "    all_files = list(source_class_dir.glob(\"**/*\"))\n",
    "    # Shuffle the files and take a subset\n",
    "    random.shuffle(all_files)\n",
    "    subset_size = int(len(all_files) * SUBSET_FRACTION)\n",
    "    subset_files = all_files[:subset_size]\n",
    "    \n",
    "    print(f\"Copying {len(subset_files)} files for class '{class_name}'...\")\n",
    "    for file_path in subset_files:\n",
    "        if file_path.is_file(): # Ensure it's a file\n",
    "            shutil.copy(file_path, dest_class_dir)\n",
    "\n",
    "print(\"\\nPrototyping subset created successfully!\")"
   ]
  },
  {
   "cell_type": "code",
   "execution_count": null,
   "id": "0a4b125b-c06d-4085-a595-ca74b2c748cb",
   "metadata": {},
   "outputs": [],
   "source": []
  }
 ],
 "metadata": {
  "kernelspec": {
   "display_name": "Python (PyTorch)",
   "language": "python",
   "name": "pytorch_env"
  },
  "language_info": {
   "codemirror_mode": {
    "name": "ipython",
    "version": 3
   },
   "file_extension": ".py",
   "mimetype": "text/x-python",
   "name": "python",
   "nbconvert_exporter": "python",
   "pygments_lexer": "ipython3",
   "version": "3.12.11"
  }
 },
 "nbformat": 4,
 "nbformat_minor": 5
}
