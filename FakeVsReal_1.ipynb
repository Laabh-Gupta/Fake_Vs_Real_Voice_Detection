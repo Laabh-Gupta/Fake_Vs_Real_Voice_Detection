{
 "cells": [
  {
   "cell_type": "code",
   "execution_count": 1,
   "id": "da56c139-e1d4-45c5-9ebc-897abdae12b2",
   "metadata": {},
   "outputs": [],
   "source": [
    "import os\n",
    "os.environ['KMP_DUPLICATE_LIB_OK']='True'"
   ]
  },
  {
   "cell_type": "code",
   "execution_count": 2,
   "id": "e10e7546-f13e-430c-89f3-b63e1427f631",
   "metadata": {},
   "outputs": [
    {
     "name": "stderr",
     "output_type": "stream",
     "text": [
      "C:\\Users\\Reach\\anaconda3\\envs\\pytorch_env\\Lib\\site-packages\\tqdm\\auto.py:21: TqdmWarning: IProgress not found. Please update jupyter and ipywidgets. See https://ipywidgets.readthedocs.io/en/stable/user_install.html\n",
      "  from .autonotebook import tqdm as notebook_tqdm\n"
     ]
    }
   ],
   "source": [
    "import torch\n",
    "import torch.nn as nn\n",
    "from torch.utils.data import DataLoader, Dataset\n",
    "import torchaudio\n",
    "import torchaudio.transforms as T\n",
    "\n",
    "from pathlib import Path\n",
    "import matplotlib.pyplot as plt\n",
    "from tqdm.auto import tqdm\n",
    "from sklearn.metrics import accuracy_score, confusion_matrix, ConfusionMatrixDisplay"
   ]
  },
  {
   "cell_type": "code",
   "execution_count": 3,
   "id": "9fc6a089-545a-47f6-850f-d3e82210a757",
   "metadata": {},
   "outputs": [
    {
     "name": "stdout",
     "output_type": "stream",
     "text": [
      "Using cuda device 💻\n"
     ]
    }
   ],
   "source": [
    "# --- 1. Configuration ---\n",
    "# !!! IMPORTANT: Make sure this path is correct for your system !!!\n",
    "DATA_DIR = Path(\"FakeVsRealDataset(for-rerec)/for-rerecorded\")\n",
    "BATCH_SIZE = 32\n",
    "LEARNING_RATE = 0.001\n",
    "EPOCHS = 10\n",
    "TARGET_SAMPLE_RATE = 16000\n",
    "TARGET_LEN_SECS = 4\n",
    "\n",
    "# Check for GPU\n",
    "device = \"cuda\" if torch.cuda.is_available() else \"cpu\"\n",
    "print(f\"Using {device} device 💻\")"
   ]
  },
  {
   "cell_type": "code",
   "execution_count": 4,
   "id": "74f675d5-d3d7-4e3e-84cb-1b554ace3c09",
   "metadata": {},
   "outputs": [],
   "source": [
    "# --- 2. Corrected AudioDataset Class ---\n",
    "class AudioDataset(Dataset):\n",
    "    def __init__(self, root_path, transform=None, target_sample_rate=TARGET_SAMPLE_RATE, target_len_secs=TARGET_LEN_SECS):\n",
    "        self.root_path = Path(root_path)\n",
    "        self.classes = sorted([d.name for d in self.root_path.iterdir() if d.is_dir()])\n",
    "        self.class_to_idx = {cls_name: i for i, cls_name in enumerate(self.classes)}\n",
    "        self.files = self._get_files()\n",
    "        self.transform = transform\n",
    "        self.target_sample_rate = target_sample_rate\n",
    "        self.target_len = target_sample_rate * target_len_secs\n",
    "\n",
    "    def _get_files(self):\n",
    "        files = []\n",
    "        for cls_name in self.classes:\n",
    "            class_dir = self.root_path / cls_name\n",
    "            for file_path in class_dir.glob(\"**/*.wav\"):\n",
    "                files.append((file_path, self.class_to_idx[cls_name]))\n",
    "        return files\n",
    "\n",
    "    def __len__(self):\n",
    "        return len(self.files)\n",
    "\n",
    "    def __getitem__(self, idx):\n",
    "        file_path, label = self.files[idx]\n",
    "        try:\n",
    "            waveform, sample_rate = torchaudio.load(file_path)\n",
    "        except Exception as e:\n",
    "            print(f\"Error loading file {file_path}: {e}\")\n",
    "            # Return a dummy tensor and label if a file is corrupted\n",
    "            return torch.zeros(1, self.target_len), -1 \n",
    "\n",
    "        if sample_rate != self.target_sample_rate:\n",
    "            resampler = T.Resample(orig_freq=sample_rate, new_freq=self.target_sample_rate).to(waveform.device)\n",
    "            waveform = resampler(waveform)\n",
    "            \n",
    "        if waveform.shape[0] > 1:\n",
    "            waveform = torch.mean(waveform, dim=0, keepdim=True)\n",
    "            \n",
    "        if waveform.shape[1] > self.target_len:\n",
    "            waveform = waveform[:, :self.target_len]\n",
    "        else:\n",
    "            padding = self.target_len - waveform.shape[1]\n",
    "            waveform = torch.nn.functional.pad(waveform, (0, padding))\n",
    "            \n",
    "        if self.transform:\n",
    "            spectrogram = self.transform(waveform)\n",
    "        else:\n",
    "            spectrogram = waveform\n",
    "\n",
    "        return spectrogram, label"
   ]
  },
  {
   "cell_type": "code",
   "execution_count": 5,
   "id": "76ad3f2f-c93a-421e-8280-9c1d697e301d",
   "metadata": {},
   "outputs": [],
   "source": [
    "# --- 3. The Corrected AudioClassifier Model ---\n",
    "class AudioClassifier(nn.Module):\n",
    "    def __init__(self, num_classes=2):\n",
    "        super().__init__()\n",
    "        self.conv_stack = nn.Sequential(\n",
    "            nn.Conv2d(in_channels=1, out_channels=16, kernel_size=3, stride=1, padding=1),\n",
    "            nn.ReLU(),\n",
    "            nn.MaxPool2d(kernel_size=2),\n",
    "            nn.Conv2d(16, 32, kernel_size=3, stride=1, padding=1),\n",
    "            nn.ReLU(),\n",
    "            nn.MaxPool2d(kernel_size=2),\n",
    "            nn.Conv2d(32, 64, kernel_size=3, stride=1, padding=1),\n",
    "            nn.ReLU(),\n",
    "            nn.MaxPool2d(kernel_size=2),\n",
    "        )\n",
    "        self.flatten = nn.Flatten()\n",
    "        # Corrected Input Size Calculation:\n",
    "        # Spectrogram Height: 64 mels -> MaxPool(2) -> 32 -> 16 -> 8\n",
    "        # Spectrogram Width: 126 time steps -> MaxPool(2) -> 63 -> 31 -> 15\n",
    "        # So, flattened size is 64 channels * 8 height * 15 width = 7680\n",
    "        self.linear_stack = nn.Sequential(\n",
    "            nn.Linear(in_features=7680, out_features=128),\n",
    "            nn.ReLU(),\n",
    "            nn.Dropout(p=0.5),\n",
    "            nn.Linear(128, num_classes)\n",
    "        )\n",
    "\n",
    "    def forward(self, x):\n",
    "        x = self.conv_stack(x)\n",
    "        x = self.flatten(x)\n",
    "        logits = self.linear_stack(x)\n",
    "        return logits"
   ]
  },
  {
   "cell_type": "code",
   "execution_count": 6,
   "id": "251b6dd4-a3e2-4545-81b6-58f89109597f",
   "metadata": {},
   "outputs": [
    {
     "name": "stdout",
     "output_type": "stream",
     "text": [
      "Found 10208 training files, 2244 validation files, 816 testing files.\n",
      "Classes: ['fake', 'real']\n"
     ]
    }
   ],
   "source": [
    "# --- 4. Data Transforms and Dataloaders ---\n",
    "mel_spectrogram_transform = T.MelSpectrogram(\n",
    "    sample_rate=TARGET_SAMPLE_RATE,\n",
    "    n_fft=1024,\n",
    "    hop_length=512,\n",
    "    n_mels=64\n",
    ")\n",
    "\n",
    "train_dataset = AudioDataset(root_path=DATA_DIR / \"training\", transform=mel_spectrogram_transform)\n",
    "val_dataset = AudioDataset(root_path=DATA_DIR / \"validation\", transform=mel_spectrogram_transform)\n",
    "test_dataset = AudioDataset(root_path=DATA_DIR / \"testing\", transform=mel_spectrogram_transform)\n",
    "\n",
    "train_loader = DataLoader(train_dataset, batch_size=BATCH_SIZE, shuffle=True)\n",
    "val_loader = DataLoader(val_dataset, batch_size=BATCH_SIZE, shuffle=False)\n",
    "test_loader = DataLoader(test_dataset, batch_size=BATCH_SIZE, shuffle=False)\n",
    "\n",
    "print(f\"Found {len(train_dataset)} training files, {len(val_dataset)} validation files, {len(test_dataset)} testing files.\")\n",
    "print(f\"Classes: {train_dataset.classes}\")"
   ]
  },
  {
   "cell_type": "code",
   "execution_count": 7,
   "id": "2995a194-a89e-402d-be7b-e60d8aef4810",
   "metadata": {},
   "outputs": [
    {
     "name": "stdout",
     "output_type": "stream",
     "text": [
      "\n",
      "Visualizing a sample spectrogram...\n"
     ]
    },
    {
     "data": {
      "image/png": "[encoded data removed]",
      "text/plain": [
       "<Figure size 1000x400 with 2 Axes>"
      ]
     },
     "metadata": {},
     "output_type": "display_data"
    }
   ],
   "source": [
    "# --- 5. Visualize a Sample ---\n",
    "print(\"\\nVisualizing a sample spectrogram...\")\n",
    "spectrogram, label = train_dataset[0]\n",
    "plt.figure(figsize=(10, 4))\n",
    "plt.imshow(torch.log(spectrogram.squeeze()).numpy(), aspect='auto', origin='lower', cmap='viridis')\n",
    "plt.title(f\"Mel Spectrogram (Class: {train_dataset.classes[label]})\")\n",
    "plt.xlabel(\"Time\")\n",
    "plt.ylabel(\"Mel Frequency Bin\")\n",
    "plt.colorbar(format='%+2.0f dB')\n",
    "plt.tight_layout()\n",
    "plt.show()"
   ]
  },
  {
   "cell_type": "code",
   "execution_count": 8,
   "id": "bd19c3af-e52c-4332-97c9-a80f11ac7bc0",
   "metadata": {},
   "outputs": [],
   "source": [
    "# --- 6. Training and Evaluation Functions ---\n",
    "def train_epoch(model, dataloader, loss_fn, optimizer, device):\n",
    "    model.train()\n",
    "    total_loss, total_acc = 0, 0\n",
    "    for X, y in tqdm(dataloader, desc=\"Training\"):\n",
    "        # This handles potential corrupted files from the dataset\n",
    "        if -1 in y:\n",
    "            continue\n",
    "        X, y = X.to(device), y.to(device)\n",
    "        y_pred_logits = model(X)\n",
    "        loss = loss_fn(y_pred_logits, y)\n",
    "        total_loss += loss.item()\n",
    "        optimizer.zero_grad()\n",
    "        loss.backward()\n",
    "        optimizer.step()\n",
    "        y_pred_class = torch.argmax(torch.softmax(y_pred_logits, dim=1), dim=1)\n",
    "        total_acc += (y_pred_class == y).sum().item() / len(y)\n",
    "    return total_loss / len(dataloader), total_acc / len(dataloader)\n",
    "\n",
    "def evaluate(model, dataloader, loss_fn, device):\n",
    "    model.eval()\n",
    "    total_loss, total_acc = 0, 0\n",
    "    with torch.no_grad():\n",
    "        for X, y in tqdm(dataloader, desc=\"Evaluating\"):\n",
    "            if -1 in y:\n",
    "                continue\n",
    "            X, y = X.to(device), y.to(device)\n",
    "            y_pred_logits = model(X)\n",
    "            loss = loss_fn(y_pred_logits, y)\n",
    "            total_loss += loss.item()\n",
    "            y_pred_class = torch.argmax(torch.softmax(y_pred_logits, dim=1), dim=1)\n",
    "            total_acc += (y_pred_class == y).sum().item() / len(y)\n",
    "    return total_loss / len(dataloader), total_acc / len(dataloader)"
   ]
  },
  {
   "cell_type": "code",
   "execution_count": 9,
   "id": "2865fd15-cfbf-4919-803b-61afc9b975be",
   "metadata": {
    "scrolled": true
   },
   "outputs": [
    {
     "name": "stdout",
     "output_type": "stream",
     "text": [
      "\n",
      "Starting training...🚀\n"
     ]
    },
    {
     "name": "stderr",
     "output_type": "stream",
     "text": [
      "Training: 100%|██████████████████████████████████████████████████████████████████████| 319/319 [02:09<00:00,  2.47it/s]\n",
      "Evaluating: 100%|██████████████████████████████████████████████████████████████████████| 71/71 [00:24<00:00,  2.95it/s]\n"
     ]
    },
    {
     "name": "stdout",
     "output_type": "stream",
     "text": [
      "Epoch: 1 | Train Loss: 10.7555 | Train Acc: 0.6572 | Val Loss: 0.5721 | Val Acc: 0.7262\n"
     ]
    },
    {
     "name": "stderr",
     "output_type": "stream",
     "text": [
      "Training: 100%|██████████████████████████████████████████████████████████████████████| 319/319 [00:22<00:00, 14.40it/s]\n",
      "Evaluating: 100%|██████████████████████████████████████████████████████████████████████| 71/71 [00:05<00:00, 13.16it/s]\n"
     ]
    },
    {
     "name": "stdout",
     "output_type": "stream",
     "text": [
      "Epoch: 2 | Train Loss: 0.5391 | Train Acc: 0.7469 | Val Loss: 0.4920 | Val Acc: 0.7610\n"
     ]
    },
    {
     "name": "stderr",
     "output_type": "stream",
     "text": [
      "Training: 100%|██████████████████████████████████████████████████████████████████████| 319/319 [00:21<00:00, 14.69it/s]\n",
      "Evaluating: 100%|██████████████████████████████████████████████████████████████████████| 71/71 [00:05<00:00, 14.20it/s]\n"
     ]
    },
    {
     "name": "stdout",
     "output_type": "stream",
     "text": [
      "Epoch: 3 | Train Loss: 0.4811 | Train Acc: 0.7710 | Val Loss: 0.4611 | Val Acc: 0.7865\n"
     ]
    },
    {
     "name": "stderr",
     "output_type": "stream",
     "text": [
      "Training: 100%|██████████████████████████████████████████████████████████████████████| 319/319 [00:21<00:00, 14.54it/s]\n",
      "Evaluating: 100%|██████████████████████████████████████████████████████████████████████| 71/71 [00:04<00:00, 14.91it/s]\n"
     ]
    },
    {
     "name": "stdout",
     "output_type": "stream",
     "text": [
      "Epoch: 4 | Train Loss: 0.4557 | Train Acc: 0.7849 | Val Loss: 0.4450 | Val Acc: 0.8006\n"
     ]
    },
    {
     "name": "stderr",
     "output_type": "stream",
     "text": [
      "Training: 100%|██████████████████████████████████████████████████████████████████████| 319/319 [00:23<00:00, 13.79it/s]\n",
      "Evaluating: 100%|██████████████████████████████████████████████████████████████████████| 71/71 [00:04<00:00, 16.37it/s]\n"
     ]
    },
    {
     "name": "stdout",
     "output_type": "stream",
     "text": [
      "Epoch: 5 | Train Loss: 0.4380 | Train Acc: 0.7939 | Val Loss: 0.4266 | Val Acc: 0.8037\n"
     ]
    },
    {
     "name": "stderr",
     "output_type": "stream",
     "text": [
      "Training: 100%|██████████████████████████████████████████████████████████████████████| 319/319 [00:23<00:00, 13.76it/s]\n",
      "Evaluating: 100%|██████████████████████████████████████████████████████████████████████| 71/71 [00:04<00:00, 16.27it/s]\n"
     ]
    },
    {
     "name": "stdout",
     "output_type": "stream",
     "text": [
      "Epoch: 6 | Train Loss: 0.4163 | Train Acc: 0.8068 | Val Loss: 0.4211 | Val Acc: 0.8103\n"
     ]
    },
    {
     "name": "stderr",
     "output_type": "stream",
     "text": [
      "Training: 100%|██████████████████████████████████████████████████████████████████████| 319/319 [00:23<00:00, 13.67it/s]\n",
      "Evaluating: 100%|██████████████████████████████████████████████████████████████████████| 71/71 [00:04<00:00, 16.41it/s]\n"
     ]
    },
    {
     "name": "stdout",
     "output_type": "stream",
     "text": [
      "Epoch: 7 | Train Loss: 0.3907 | Train Acc: 0.8282 | Val Loss: 0.4122 | Val Acc: 0.8239\n"
     ]
    },
    {
     "name": "stderr",
     "output_type": "stream",
     "text": [
      "Training: 100%|██████████████████████████████████████████████████████████████████████| 319/319 [00:23<00:00, 13.72it/s]\n",
      "Evaluating: 100%|██████████████████████████████████████████████████████████████████████| 71/71 [00:04<00:00, 16.31it/s]\n"
     ]
    },
    {
     "name": "stdout",
     "output_type": "stream",
     "text": [
      "Epoch: 8 | Train Loss: 0.3835 | Train Acc: 0.8310 | Val Loss: 0.4342 | Val Acc: 0.8226\n"
     ]
    },
    {
     "name": "stderr",
     "output_type": "stream",
     "text": [
      "Training: 100%|██████████████████████████████████████████████████████████████████████| 319/319 [00:23<00:00, 13.52it/s]\n",
      "Evaluating: 100%|██████████████████████████████████████████████████████████████████████| 71/71 [00:04<00:00, 16.63it/s]\n"
     ]
    },
    {
     "name": "stdout",
     "output_type": "stream",
     "text": [
      "Epoch: 9 | Train Loss: 0.3730 | Train Acc: 0.8339 | Val Loss: 0.4536 | Val Acc: 0.8222\n"
     ]
    },
    {
     "name": "stderr",
     "output_type": "stream",
     "text": [
      "Training: 100%|██████████████████████████████████████████████████████████████████████| 319/319 [00:23<00:00, 13.33it/s]\n",
      "Evaluating: 100%|██████████████████████████████████████████████████████████████████████| 71/71 [00:04<00:00, 17.03it/s]"
     ]
    },
    {
     "name": "stdout",
     "output_type": "stream",
     "text": [
      "Epoch: 10 | Train Loss: 0.3599 | Train Acc: 0.8376 | Val Loss: 0.4883 | Val Acc: 0.8143\n",
      "\n",
      "Training finished! 🎉\n"
     ]
    },
    {
     "name": "stderr",
     "output_type": "stream",
     "text": [
      "\n"
     ]
    }
   ],
   "source": [
    "# --- 7. Main Training Loop ---\n",
    "model = AudioClassifier(num_classes=len(train_dataset.classes)).to(device)\n",
    "loss_fn = nn.CrossEntropyLoss()\n",
    "optimizer = torch.optim.Adam(model.parameters(), lr=LEARNING_RATE)\n",
    "\n",
    "print(\"\\nStarting training...🚀\")\n",
    "history = {\"train_loss\": [], \"train_acc\": [], \"val_loss\": [], \"val_acc\": []}\n",
    "\n",
    "for epoch in range(EPOCHS):\n",
    "    train_loss, train_acc = train_epoch(model, train_loader, loss_fn, optimizer, device)\n",
    "    val_loss, val_acc = evaluate(model, val_loader, loss_fn, device)\n",
    "    \n",
    "    print(\n",
    "        f\"Epoch: {epoch+1} | \"\n",
    "        f\"Train Loss: {train_loss:.4f} | \"\n",
    "        f\"Train Acc: {train_acc:.4f} | \"\n",
    "        f\"Val Loss: {val_loss:.4f} | \"\n",
    "        f\"Val Acc: {val_acc:.4f}\"\n",
    "    )\n",
    "    history[\"train_loss\"].append(train_loss)\n",
    "    history[\"train_acc\"].append(train_acc)\n",
    "    history[\"val_loss\"].append(val_loss)\n",
    "    history[\"val_acc\"].append(val_acc)\n",
    "\n",
    "print(\"\\nTraining finished! 🎉\")"
   ]
  },
  {
   "cell_type": "code",
   "execution_count": 10,
   "id": "96b8d8e0-79c3-4f98-ac37-c4476290135f",
   "metadata": {},
   "outputs": [
    {
     "name": "stdout",
     "output_type": "stream",
     "text": [
      "\n",
      "Evaluating on the test set...\n"
     ]
    },
    {
     "name": "stderr",
     "output_type": "stream",
     "text": [
      "Evaluating: 100%|██████████████████████████████████████████████████████████████████████| 26/26 [00:09<00:00,  2.74it/s]\n"
     ]
    },
    {
     "name": "stdout",
     "output_type": "stream",
     "text": [
      "\n",
      "Final Test Accuracy: 0.7091\n"
     ]
    },
    {
     "name": "stderr",
     "output_type": "stream",
     "text": [
      "Generating Confusion Matrix: 100%|█████████████████████████████████████████████████████| 26/26 [00:01<00:00, 13.49it/s]\n"
     ]
    },
    {
     "data": {
      "image/png": "[encoded data removed]",
      "text/plain": [
       "<Figure size 640x480 with 2 Axes>"
      ]
     },
     "metadata": {},
     "output_type": "display_data"
    }
   ],
   "source": [
    "# --- 8. Final Test and Confusion Matrix ---\n",
    "print(\"\\nEvaluating on the test set...\")\n",
    "test_loss, test_acc = evaluate(model, test_loader, loss_fn, device)\n",
    "print(f\"\\nFinal Test Accuracy: {test_acc:.4f}\")\n",
    "\n",
    "model.eval()\n",
    "all_preds = []\n",
    "all_labels = []\n",
    "with torch.no_grad():\n",
    "    for X, y in tqdm(test_loader, desc=\"Generating Confusion Matrix\"):\n",
    "        if -1 in y:\n",
    "            continue\n",
    "        X, y = X.to(device), y.to(device)\n",
    "        y_pred_logits = model(X)\n",
    "        y_pred_class = torch.argmax(y_pred_logits, dim=1)\n",
    "        all_preds.extend(y_pred_class.cpu().numpy())\n",
    "        all_labels.extend(y.cpu().numpy())\n",
    "\n",
    "cm = confusion_matrix(all_labels, all_preds)\n",
    "disp = ConfusionMatrixDisplay(confusion_matrix=cm, display_labels=test_dataset.classes)\n",
    "disp.plot(cmap=plt.cm.Blues)\n",
    "plt.title(\"Confusion Matrix\")\n",
    "plt.show()"
   ]
  },
  {
   "cell_type": "code",
   "execution_count": null,
   "id": "10371973-02db-434b-abf1-c4459078e33a",
   "metadata": {},
   "outputs": [],
   "source": []
  }
 ],
 "metadata": {
  "kernelspec": {
   "display_name": "Python (PyTorch)",
   "language": "python",
   "name": "pytorch_env"
  },
  "language_info": {
   "codemirror_mode": {
    "name": "ipython",
    "version": 3
   },
   "file_extension": ".py",
   "mimetype": "text/x-python",
   "name": "python",
   "nbconvert_exporter": "python",
   "pygments_lexer": "ipython3",
   "version": "3.12.11"
  }
 },
 "nbformat": 4,
 "nbformat_minor": 5
}
